{
 "cells": [
  {
   "attachments": {},
   "cell_type": "markdown",
   "metadata": {},
   "source": [
    "# Part 1"
   ]
  },
  {
   "cell_type": "code",
   "execution_count": null,
   "metadata": {},
   "outputs": [],
   "source": [
    "from collections import namedtuple\n",
    "from math import sqrt, ceil, floor\n",
    "Race = namedtuple('Race', ['time', 'distance'])"
   ]
  },
  {
   "cell_type": "code",
   "execution_count": null,
   "metadata": {},
   "outputs": [],
   "source": [
    "file = open('input.txt', 'r')\n",
    "data={}\n",
    "for ix, line in enumerate(file):\n",
    "    k, line = line.split(\":\")\n",
    "    line = [int(n.strip()) for n in line.split(' ') if n != '']\n",
    "    data[k] = line\n",
    "\n",
    "data = zip(data['Time'], data['Distance'])\n",
    "races = [Race(*t) for t in data]"
   ]
  },
  {
   "cell_type": "code",
   "execution_count": null,
   "metadata": {},
   "outputs": [],
   "source": [
    "# -k^2 +tk - d > O between roots\n",
    "# Delta = t^2 - 4d\n",
    "# r = (t ± sqrt(Delta))/2\n",
    "# integer roots needs to be excluded\n",
    "part1 = 1\n",
    "for race in races:\n",
    "    sqrt_delta = sqrt(race.time*race.time - 4*race.distance)\n",
    "    r1 = (race.time - sqrt_delta)/2\n",
    "    r2 = (race.time + sqrt_delta)/2\n",
    "    r1_rnd = floor(r1+1)\n",
    "    r2_rnd = ceil(r2-1)\n",
    "    part1 *= 1+r2_rnd-r1_rnd\n",
    "part1"
   ]
  },
  {
   "attachments": {},
   "cell_type": "markdown",
   "metadata": {},
   "source": [
    "# Part 2"
   ]
  },
  {
   "cell_type": "code",
   "execution_count": null,
   "metadata": {},
   "outputs": [],
   "source": [
    "file = open('input.txt', 'r')\n",
    "data={}\n",
    "for ix, line in enumerate(file):\n",
    "    k, line = line.split(\":\")\n",
    "    line = int(line.replace(' ', '').strip())\n",
    "    data[k] = [line]\n",
    "\n",
    "data = zip(data['Time'], data['Distance'])\n",
    "races = [Race(*t) for t in data]\n",
    "race = races[0]"
   ]
  },
  {
   "cell_type": "code",
   "execution_count": null,
   "metadata": {},
   "outputs": [],
   "source": [
    "# -k^2 +tk - d > O between roots\n",
    "# Delta = t^2 - 4d\n",
    "# r = (t ± sqrt(Delta))/2\n",
    "# integer roots needs to be excluded\n",
    "sqrt_delta = sqrt(race.time*race.time - 4*race.distance)\n",
    "r1 = (race.time - sqrt_delta)/2\n",
    "r2 = (race.time + sqrt_delta)/2\n",
    "r1_rnd = floor(r1+1)\n",
    "r2_rnd = ceil(r2-1)\n",
    "part2 = 1+r2_rnd-r1_rnd\n",
    "part2"
   ]
  },
  {
   "attachments": {},
   "cell_type": "markdown",
   "metadata": {},
   "source": [
    "# part 2 (alternative)\n",
    "## ugly one-liner"
   ]
  },
  {
   "cell_type": "code",
   "execution_count": null,
   "metadata": {},
   "outputs": [],
   "source": [
    "(lambda x: 1+ceil(((x[0] + sqrt(x[0]*x[0] - 4*x[1]))/2)-1)-floor(((x[0] - sqrt(x[0]*x[0] - 4*x[1]))/2)+1))([int(line.replace(' ', '').split(':')[1]) for line in open('input.txt', 'r').read().split('\\n') if line != ''])"
   ]
  }
 ],
 "metadata": {
  "kernelspec": {
   "display_name": "Python 3",
   "language": "python",
   "name": "python3"
  },
  "language_info": {
   "codemirror_mode": {
    "name": "ipython",
    "version": 3
   },
   "file_extension": ".py",
   "mimetype": "text/x-python",
   "name": "python",
   "nbconvert_exporter": "python",
   "pygments_lexer": "ipython3",
   "version": "3.11.1"
  },
  "orig_nbformat": 4,
  "vscode": {
   "interpreter": {
    "hash": "1a1af0ee75eeea9e2e1ee996c87e7a2b11a0bebd85af04bb136d915cefc0abce"
   }
  }
 },
 "nbformat": 4,
 "nbformat_minor": 2
}
