{
 "cells": [
  {
   "attachments": {},
   "cell_type": "markdown",
   "metadata": {},
   "source": [
    "# Part 1"
   ]
  },
  {
   "cell_type": "code",
   "execution_count": null,
   "metadata": {},
   "outputs": [],
   "source": [
    "from collections import namedtuple\n",
    "Race = namedtuple('Race', ['time', 'distance'])"
   ]
  },
  {
   "cell_type": "code",
   "execution_count": null,
   "metadata": {},
   "outputs": [],
   "source": [
    "file = open('input.txt', 'r')\n",
    "data={}\n",
    "for ix, line in enumerate(file):\n",
    "    k, line = line.split(\":\")\n",
    "    line = [int(n.strip()) for n in line.split(' ') if n != '']\n",
    "    data[k] = line\n",
    "\n",
    "data = zip(data['Time'], data['Distance'])\n",
    "races = [Race(*t) for t in data]\n",
    "races"
   ]
  },
  {
   "cell_type": "code",
   "execution_count": null,
   "metadata": {},
   "outputs": [],
   "source": [
    "product_num = 1\n",
    "for race in races:\n",
    "    distances = [(k, k*race.time-k*k) for k in range(0, race.time+1)]\n",
    "    distances_ok = len([(k,d) for k,d in distances if d > race.distance])\n",
    "    product_num *= distances_ok\n",
    "part1 = product_num\n",
    "part1"
   ]
  },
  {
   "attachments": {},
   "cell_type": "markdown",
   "metadata": {},
   "source": [
    "# Part 2"
   ]
  },
  {
   "cell_type": "code",
   "execution_count": null,
   "metadata": {},
   "outputs": [],
   "source": [
    "file = open('input.txt', 'r')\n",
    "data={}\n",
    "for ix, line in enumerate(file):\n",
    "    k, line = line.split(\":\")\n",
    "    line = int(line.replace(' ', '').strip())\n",
    "    data[k] = [line]\n",
    "    print(k, line)\n",
    "\n",
    "data = zip(data['Time'], data['Distance'])\n",
    "races = [Race(*t) for t in data]\n",
    "races"
   ]
  },
  {
   "cell_type": "code",
   "execution_count": null,
   "metadata": {},
   "outputs": [],
   "source": [
    "product_num = 1\n",
    "for race in races:\n",
    "    distances = [(k, k*race.time-k*k) for k in range(0, race.time+1)]\n",
    "    distances_ok = len([(k,d) for k,d in distances if d > race.distance])\n",
    "    product_num *= distances_ok\n",
    "part2 = product_num\n",
    "part2"
   ]
  }
 ],
 "metadata": {
  "kernelspec": {
   "display_name": "Python 3",
   "language": "python",
   "name": "python3"
  },
  "language_info": {
   "codemirror_mode": {
    "name": "ipython",
    "version": 3
   },
   "file_extension": ".py",
   "mimetype": "text/x-python",
   "name": "python",
   "nbconvert_exporter": "python",
   "pygments_lexer": "ipython3",
   "version": "3.11.1"
  },
  "orig_nbformat": 4,
  "vscode": {
   "interpreter": {
    "hash": "1a1af0ee75eeea9e2e1ee996c87e7a2b11a0bebd85af04bb136d915cefc0abce"
   }
  }
 },
 "nbformat": 4,
 "nbformat_minor": 2
}
