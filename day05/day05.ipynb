{
 "cells": [
  {
   "cell_type": "code",
   "execution_count": null,
   "metadata": {},
   "outputs": [],
   "source": [
    "from collections import namedtuple, defaultdict"
   ]
  },
  {
   "cell_type": "code",
   "execution_count": null,
   "metadata": {},
   "outputs": [],
   "source": [
    "ThingNumber = namedtuple('ThingNumber', ['thing', 'number'])"
   ]
  },
  {
   "cell_type": "code",
   "execution_count": null,
   "metadata": {},
   "outputs": [],
   "source": [
    "\n",
    "file = open('input_test.txt', 'r')\n",
    "for ix, line in enumerate(file):\n",
    "    seeds = [ThingNumber('seed',int(seed)) for seed in line.split(': ')[1].strip().split(' ')]\n",
    "    break\n",
    "seeds"
   ]
  },
  {
   "cell_type": "code",
   "execution_count": null,
   "metadata": {},
   "outputs": [],
   "source": [
    "file = open('input_test.txt', 'r')\n",
    "Mapping = namedtuple('Mapping', ['source', 'target', 'target_start', 'source_start', 'range_length'])\n",
    "mappings = defaultdict(list)\n",
    "for ix, line in enumerate(file):\n",
    "    if ix == 0: continue\n",
    "    if line.strip() == '': continue\n",
    "    if \"map\" in line:\n",
    "        mapping_to = line.split(' ')[0].split('-to-')\n",
    "    else:\n",
    "        mapping = Mapping(*(mapping_to + [int(x.strip()) for x in line.split(' ')]))\n",
    "        mappings[mapping.source].append(mapping)\n",
    "mappings"
   ]
  },
  {
   "cell_type": "code",
   "execution_count": null,
   "metadata": {},
   "outputs": [],
   "source": [
    "def map(tn, mappings):\n",
    "    for mapping in mappings[tn.thing]:\n",
    "        if tn.number >= mapping.source_start and  tn.number < mapping.source_start + mapping.range_length:\n",
    "            return (ThingNumber(mapping.target, tn.number + (mapping.target_start - mapping.source_start)))\n",
    "    return ThingNumber(mappings[tn.thing][0].target, tn.number)"
   ]
  },
  {
   "cell_type": "code",
   "execution_count": null,
   "metadata": {},
   "outputs": [],
   "source": [
    "to_maps = seeds\n",
    "while not all(to_map.thing == 'location' for to_map in to_maps):\n",
    "    to_maps = [map(to_map, mappings) for to_map in to_maps]\n",
    "part1 = min([location.number for location in to_maps])\n",
    "part1"
   ]
  },
  {
   "attachments": {},
   "cell_type": "markdown",
   "metadata": {},
   "source": [
    "## Part 2"
   ]
  },
  {
   "cell_type": "code",
   "execution_count": null,
   "metadata": {},
   "outputs": [],
   "source": [
    "ThingIntervals= namedtuple('ThingIntervals', ['thing', 'intervals'])"
   ]
  },
  {
   "cell_type": "code",
   "execution_count": null,
   "metadata": {},
   "outputs": [],
   "source": [
    "\n",
    "file = open('input.txt', 'r')\n",
    "for line in file:\n",
    "    (thing, intervals) = line.split(': ')\n",
    "    intervals = [int(val.strip()) for val in intervals.split(' ')]\n",
    "    intervals = [(intervals[ix], intervals[ix] + intervals[ix+1] -1) for ix in range(0, len(intervals)) if ix%2 == 0]\n",
    "    th_intervs =ThingIntervals('seed', sorted(intervals, key=lambda x : x[1]))\n",
    "    break"
   ]
  },
  {
   "cell_type": "code",
   "execution_count": null,
   "metadata": {},
   "outputs": [],
   "source": [
    "file = open('input.txt', 'r')\n",
    "Mapping = namedtuple('Mapping', ['source', 'target', 'source_start', 'source_end', 'offset'])\n",
    "reverse_mappings = defaultdict(list)\n",
    "for ix, line in enumerate(file):\n",
    "    if ix == 0: continue\n",
    "    if line.strip() == '': continue\n",
    "    if \"map\" in line:\n",
    "        mapping_to = line.split(' ')[0].split('-to-')\n",
    "    else:\n",
    "        tstart, sstart, rang = [int(x.strip()) for x in line.split(' ')]\n",
    "        mapping = Mapping(mapping_to[1], mapping_to[0] , tstart, tstart+rang-1, sstart-tstart)\n",
    "        reverse_mappings[mapping.source].append(mapping)"
   ]
  },
  {
   "cell_type": "code",
   "execution_count": null,
   "metadata": {},
   "outputs": [],
   "source": [
    "def map(tn, mappings):\n",
    "    for mapping in mappings[tn.thing]:\n",
    "        if tn.number >= mapping.source_start and  tn.number <= mapping.source_end:\n",
    "            return (ThingNumber(mapping.target, tn.number + mapping.offset))\n",
    "    return ThingNumber(mappings[tn.thing][0].target, tn.number)"
   ]
  },
  {
   "cell_type": "code",
   "execution_count": null,
   "metadata": {},
   "outputs": [],
   "source": [
    "def is_seed(tn):\n",
    "    return tn.thing == 'seed' and any( itv[0] <= tn.number and tn.number<=itv[1] for itv in th_intervs.intervals)"
   ]
  },
  {
   "cell_type": "code",
   "execution_count": null,
   "metadata": {},
   "outputs": [],
   "source": [
    "def iter():\n",
    "    i = 0\n",
    "    while (True):\n",
    "        yield i\n",
    "        i +=1    "
   ]
  },
  {
   "cell_type": "code",
   "execution_count": null,
   "metadata": {},
   "outputs": [],
   "source": [
    "# grab a coffee\n",
    "for ix in iter():\n",
    "    candidate = ThingNumber('location', ix)\n",
    "    while candidate.thing != 'seed':\n",
    "        candidate = map(candidate, reverse_mappings)\n",
    "    if (is_seed(candidate)):\n",
    "        print (ix)\n",
    "        break"
   ]
  },
  {
   "cell_type": "code",
   "execution_count": null,
   "metadata": {},
   "outputs": [],
   "source": []
  }
 ],
 "metadata": {
  "kernelspec": {
   "display_name": "Python 3",
   "language": "python",
   "name": "python3"
  },
  "language_info": {
   "codemirror_mode": {
    "name": "ipython",
    "version": 3
   },
   "file_extension": ".py",
   "mimetype": "text/x-python",
   "name": "python",
   "nbconvert_exporter": "python",
   "pygments_lexer": "ipython3",
   "version": "3.11.1"
  },
  "orig_nbformat": 4,
  "vscode": {
   "interpreter": {
    "hash": "1a1af0ee75eeea9e2e1ee996c87e7a2b11a0bebd85af04bb136d915cefc0abce"
   }
  }
 },
 "nbformat": 4,
 "nbformat_minor": 2
}
