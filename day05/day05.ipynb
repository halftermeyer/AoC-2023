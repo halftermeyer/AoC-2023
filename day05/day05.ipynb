{
 "cells": [
  {
   "cell_type": "code",
   "execution_count": 4,
   "metadata": {},
   "outputs": [],
   "source": [
    "from collections import namedtuple, defaultdict"
   ]
  },
  {
   "cell_type": "code",
   "execution_count": 10,
   "metadata": {},
   "outputs": [],
   "source": [
    "ThingNumber = namedtuple('ThingNumber', ['thing', 'number'])"
   ]
  },
  {
   "cell_type": "code",
   "execution_count": 123,
   "metadata": {},
   "outputs": [
    {
     "data": {
      "text/plain": [
       "[ThingNumber(thing='seed', number=79),\n",
       " ThingNumber(thing='seed', number=14),\n",
       " ThingNumber(thing='seed', number=55),\n",
       " ThingNumber(thing='seed', number=13)]"
      ]
     },
     "execution_count": 123,
     "metadata": {},
     "output_type": "execute_result"
    }
   ],
   "source": [
    "\n",
    "file = open('input_test.txt', 'r')\n",
    "for ix, line in enumerate(file):\n",
    "    seeds = [ThingNumber('seed',int(seed)) for seed in line.split(': ')[1].strip().split(' ')]\n",
    "    break\n",
    "seeds"
   ]
  },
  {
   "cell_type": "code",
   "execution_count": 126,
   "metadata": {},
   "outputs": [
    {
     "data": {
      "text/plain": [
       "defaultdict(list,\n",
       "            {'seed': [Mapping(source='seed', target='soil', target_start=50, source_start=98, range_length=2),\n",
       "              Mapping(source='seed', target='soil', target_start=52, source_start=50, range_length=48)],\n",
       "             'soil': [Mapping(source='soil', target='fertilizer', target_start=0, source_start=15, range_length=37),\n",
       "              Mapping(source='soil', target='fertilizer', target_start=37, source_start=52, range_length=2),\n",
       "              Mapping(source='soil', target='fertilizer', target_start=39, source_start=0, range_length=15)],\n",
       "             'fertilizer': [Mapping(source='fertilizer', target='water', target_start=49, source_start=53, range_length=8),\n",
       "              Mapping(source='fertilizer', target='water', target_start=0, source_start=11, range_length=42),\n",
       "              Mapping(source='fertilizer', target='water', target_start=42, source_start=0, range_length=7),\n",
       "              Mapping(source='fertilizer', target='water', target_start=57, source_start=7, range_length=4)],\n",
       "             'water': [Mapping(source='water', target='light', target_start=88, source_start=18, range_length=7),\n",
       "              Mapping(source='water', target='light', target_start=18, source_start=25, range_length=70)],\n",
       "             'light': [Mapping(source='light', target='temperature', target_start=45, source_start=77, range_length=23),\n",
       "              Mapping(source='light', target='temperature', target_start=81, source_start=45, range_length=19),\n",
       "              Mapping(source='light', target='temperature', target_start=68, source_start=64, range_length=13)],\n",
       "             'temperature': [Mapping(source='temperature', target='humidity', target_start=0, source_start=69, range_length=1),\n",
       "              Mapping(source='temperature', target='humidity', target_start=1, source_start=0, range_length=69)],\n",
       "             'humidity': [Mapping(source='humidity', target='location', target_start=60, source_start=56, range_length=37),\n",
       "              Mapping(source='humidity', target='location', target_start=56, source_start=93, range_length=4)]})"
      ]
     },
     "execution_count": 126,
     "metadata": {},
     "output_type": "execute_result"
    }
   ],
   "source": [
    "file = open('input_test.txt', 'r')\n",
    "Mapping = namedtuple('Mapping', ['source', 'target', 'target_start', 'source_start', 'range_length'])\n",
    "mappings = defaultdict(list)\n",
    "for ix, line in enumerate(file):\n",
    "    if ix == 0: continue\n",
    "    if line.strip() == '': continue\n",
    "    if \"map\" in line:\n",
    "        mapping_to = line.split(' ')[0].split('-to-')\n",
    "    else:\n",
    "        mapping = Mapping(*(mapping_to + [int(x.strip()) for x in line.split(' ')]))\n",
    "        mappings[mapping.source].append(mapping)\n",
    "mappings"
   ]
  },
  {
   "cell_type": "code",
   "execution_count": 115,
   "metadata": {},
   "outputs": [],
   "source": [
    "def map(tn, mappings):\n",
    "    for mapping in mappings[tn.thing]:\n",
    "        if tn.number >= mapping.source_start and  tn.number < mapping.source_start + mapping.range_length:\n",
    "            return (ThingNumber(mapping.target, tn.number + (mapping.target_start - mapping.source_start)))\n",
    "    return ThingNumber(mappings[tn.thing][0].target, tn.number)"
   ]
  },
  {
   "cell_type": "code",
   "execution_count": 116,
   "metadata": {},
   "outputs": [
    {
     "data": {
      "text/plain": [
       "806029445"
      ]
     },
     "execution_count": 116,
     "metadata": {},
     "output_type": "execute_result"
    }
   ],
   "source": [
    "to_maps = seeds\n",
    "while not all(to_map.thing == 'location' for to_map in to_maps):\n",
    "    to_maps = [map(to_map, mappings) for to_map in to_maps]\n",
    "part1 = min([location.number for location in to_maps])\n",
    "part1"
   ]
  },
  {
   "attachments": {},
   "cell_type": "markdown",
   "metadata": {},
   "source": [
    "## Part 2"
   ]
  },
  {
   "cell_type": "code",
   "execution_count": 5,
   "metadata": {},
   "outputs": [],
   "source": [
    "ThingIntervals= namedtuple('ThingIntervals', ['thing', 'intervals'])"
   ]
  },
  {
   "cell_type": "code",
   "execution_count": 19,
   "metadata": {},
   "outputs": [
    {
     "data": {
      "text/plain": [
       "ThingIntervals(thing='seed', intervals=[(863761171, 1097099279), (1198254212, 1702493368), (1808166864, 2103048973), (2313929258, 2398524945), (2461206486, 2594812879), (3416930225, 3473795399), (3491380151, 3670377073), (3965970270, 3981200866), (4114335326, 4182246916), (4245248379, 4252390733)])"
      ]
     },
     "execution_count": 19,
     "metadata": {},
     "output_type": "execute_result"
    }
   ],
   "source": [
    "\n",
    "file = open('input.txt', 'r')\n",
    "for line in file:\n",
    "    (thing, intervals) = line.split(': ')\n",
    "    intervals = [int(val.strip()) for val in intervals.split(' ')]\n",
    "    intervals = [(intervals[ix], intervals[ix] + intervals[ix+1] -1) for ix in range(0, len(intervals)) if ix%2 == 0]\n",
    "    th_intervs =ThingIntervals('seed', sorted(intervals, key=lambda x : x[1]))\n",
    "    break"
   ]
  },
  {
   "cell_type": "code",
   "execution_count": 20,
   "metadata": {},
   "outputs": [
    {
     "data": {
      "text/plain": [
       "defaultdict(list,\n",
       "            {'soil': [Mapping(source='soil', target='seed', source_start=3534435790, source_end=3584439878, offset=588831408),\n",
       "              Mapping(source='soil', target='seed', source_start=3584439879, source_end=3823099115, offset=18273015),\n",
       "              Mapping(source='soil', target='seed', source_start=2263758314, source_end=2424629138, offset=-2263758314),\n",
       "              Mapping(source='soil', target='seed', source_start=2971481857, source_end=3003258544, offset=-120794662),\n",
       "              Mapping(source='soil', target='seed', source_start=4173604159, source_end=4294967295, offset=-819840571),\n",
       "              Mapping(source='soil', target='seed', source_start=3823099116, source_end=4173604158, offset=-819840571),\n",
       "              Mapping(source='soil', target='seed', source_start=2850687195, source_end=2971481856, offset=31776688),\n",
       "              Mapping(source='soil', target='seed', source_start=1503174517, source_end=1850898327, offset=573730811),\n",
       "              Mapping(source='soil', target='seed', source_start=1850898328, source_end=2263758313, offset=-1655421042),\n",
       "              Mapping(source='soil', target='seed', source_start=1265521310, source_end=1282583991, offset=340726257),\n",
       "              Mapping(source='soil', target='seed', source_start=3285153612, source_end=3406849620, offset=888117675),\n",
       "              Mapping(source='soil', target='seed', source_start=488201540, source_end=1265521309, offset=340726257),\n",
       "              Mapping(source='soil', target='seed', source_start=453595079, source_end=488201539, offset=-292724254),\n",
       "              Mapping(source='soil', target='seed', source_start=3406849621, source_end=3534435789, offset=68277104),\n",
       "              Mapping(source='soil', target='seed', source_start=1282583992, source_end=1503174516, offset=-674246720),\n",
       "              Mapping(source='soil', target='seed', source_start=3003258545, source_end=3285153611, offset=838113586),\n",
       "              Mapping(source='soil', target='seed', source_start=0, source_end=453595078, offset=1623310249)],\n",
       "             'fertilizer': [Mapping(source='fertilizer', target='soil', source_start=131427930, source_end=311913593, offset=1053902253),\n",
       "              Mapping(source='fertilizer', target='soil', source_start=748806267, source_end=909627150, offset=1727153736),\n",
       "              Mapping(source='fertilizer', target='soil', source_start=311913594, source_end=748806266, offset=3546161029),\n",
       "              Mapping(source='fertilizer', target='soil', source_start=3738185633, source_end=3958662353, offset=-1482702351),\n",
       "              Mapping(source='fertilizer', target='soil', source_start=909627151, source_end=2130920886, offset=1727153736),\n",
       "              Mapping(source='fertilizer', target='soil', source_start=2848518198, source_end=3738185632, offset=-1482702351),\n",
       "              Mapping(source='fertilizer', target='soil', source_start=2130920887, source_end=2797473981, offset=-1999492957),\n",
       "              Mapping(source='fertilizer', target='soil', source_start=2797473982, source_end=2848518197, offset=-1663188015),\n",
       "              Mapping(source='fertilizer', target='soil', source_start=3958662354, source_end=4294967295, offset=-3160681329)],\n",
       "             'water': [Mapping(source='water', target='fertilizer', source_start=318410581, source_end=487131895, offset=776948786),\n",
       "              Mapping(source='water', target='fertilizer', source_start=1850530626, source_end=1862045649, offset=2416582540),\n",
       "              Mapping(source='water', target='fertilizer', source_start=1868157768, source_end=1982484929, offset=261109243),\n",
       "              Mapping(source='water', target='fertilizer', source_start=3662276437, source_end=3684589652, offset=528725144),\n",
       "              Mapping(source='water', target='fertilizer', source_start=2980811924, source_end=3161630217, offset=784498412),\n",
       "              Mapping(source='water', target='fertilizer', source_start=3971289879, source_end=3986739170, offset=20036637),\n",
       "              Mapping(source='water', target='fertilizer', source_start=4217905563, source_end=4253023612, offset=-1938344104),\n",
       "              Mapping(source='water', target='fertilizer', source_start=2287003279, source_end=2334191216, offset=1926311518),\n",
       "              Mapping(source='water', target='fertilizer', source_start=1837473204, source_end=1850530625, offset=477206305),\n",
       "              Mapping(source='water', target='fertilizer', source_start=1998824036, source_end=2044021921, offset=1947304594),\n",
       "              Mapping(source='water', target='fertilizer', source_start=222462505, source_end=318410580, offset=1041618177),\n",
       "              Mapping(source='water', target='fertilizer', source_start=487131896, source_end=790720842, offset=304638524),\n",
       "              Mapping(source='water', target='fertilizer', source_start=4253023613, source_end=4294967295, offset=-184449658),\n",
       "              Mapping(source='water', target='fertilizer', source_start=2334191217, source_end=2612414893, offset=918505688),\n",
       "              Mapping(source='water', target='fertilizer', source_start=3986739171, source_end=4070307996, offset=-1200634387),\n",
       "              Mapping(source='water', target='fertilizer', source_start=3495640623, source_end=3557023936, offset=105276687),\n",
       "              Mapping(source='water', target='fertilizer', source_start=3557023937, source_end=3572066331, offset=105276687),\n",
       "              Mapping(source='water', target='fertilizer', source_start=2222048360, source_end=2287003278, offset=1313914031),\n",
       "              Mapping(source='water', target='fertilizer', source_start=2919013777, source_end=2980811923, offset=1087762031),\n",
       "              Mapping(source='water', target='fertilizer', source_start=3660033649, source_end=3662276436, offset=522613026),\n",
       "              Mapping(source='water', target='fertilizer', source_start=3266573705, source_end=3495640622, offset=-938836774),\n",
       "              Mapping(source='water', target='fertilizer', source_start=3684589653, source_end=3920015381, offset=-814916043),\n",
       "              Mapping(source='water', target='fertilizer', source_start=3261531896, source_end=3266573704, offset=269388686),\n",
       "              Mapping(source='water', target='fertilizer', source_start=790720843, source_end=895884649, offset=-372939753),\n",
       "              Mapping(source='water', target='fertilizer', source_start=895884650, source_end=1055319136, offset=-895884650),\n",
       "              Mapping(source='water', target='fertilizer', source_start=2044021922, source_end=2222048359, offset=564056424),\n",
       "              Mapping(source='water', target='fertilizer', source_start=1862045650, source_end=1868157767, offset=2322843813),\n",
       "              Mapping(source='water', target='fertilizer', source_start=3572066332, source_end=3660033648, offset=105276687),\n",
       "              Mapping(source='water', target='fertilizer', source_start=1830862773, source_end=1837473203, offset=2429639962),\n",
       "              Mapping(source='water', target='fertilizer', source_start=1338009275, source_end=1596355877, offset=-1178574788),\n",
       "              Mapping(source='water', target='fertilizer', source_start=3233759255, source_end=3261531895, offset=-1402896482),\n",
       "              Mapping(source='water', target='fertilizer', source_start=1055319137, source_end=1338009274, offset=304709621),\n",
       "              Mapping(source='water', target='fertilizer', source_start=1982484930, source_end=1998824035, offset=2296143260),\n",
       "              Mapping(source='water', target='fertilizer', source_start=2883046491, source_end=2919013776, offset=-639452318),\n",
       "              Mapping(source='water', target='fertilizer', source_start=2612414894, source_end=2883046490, offset=-753779480),\n",
       "              Mapping(source='water', target='fertilizer', source_start=4070307997, source_end=4217905562, offset=-965208658),\n",
       "              Mapping(source='water', target='fertilizer', source_start=3161630218, source_end=3233759254, offset=948887420),\n",
       "              Mapping(source='water', target='fertilizer', source_start=1596355878, source_end=1642718895, offset=-1073410981),\n",
       "              Mapping(source='water', target='fertilizer', source_start=0, source_end=222462504, offset=569307915),\n",
       "              Mapping(source='water', target='fertilizer', source_start=3920015382, source_end=3971289878, offset=-1363211533)],\n",
       "             'light': [Mapping(source='light', target='water', source_start=3185219492, source_end=3370486266, offset=-1860484097),\n",
       "              Mapping(source='light', target='water', source_start=3146586681, source_end=3185219491, offset=-1896810468),\n",
       "              Mapping(source='light', target='water', source_start=28244350, source_end=340941065, offset=400227459),\n",
       "              Mapping(source='light', target='water', source_start=340941066, source_end=458332369, offset=3309878136),\n",
       "              Mapping(source='light', target='water', source_start=458332370, source_end=744446961, offset=505329251),\n",
       "              Mapping(source='light', target='water', source_start=2785969088, source_end=2903664302, offset=697825689),\n",
       "              Mapping(source='light', target='water', source_start=1279106820, source_end=1473731220, offset=304510532),\n",
       "              Mapping(source='light', target='water', source_start=1473731221, source_end=1523060430, offset=2127758771),\n",
       "              Mapping(source='light', target='water', source_start=0, source_end=28244349, offset=2796264154),\n",
       "              Mapping(source='light', target='water', source_start=744446962, source_end=871911380, offset=2611883396),\n",
       "              Mapping(source='light', target='water', source_start=2562107674, source_end=2767298068, offset=-2338826260),\n",
       "              Mapping(source='light', target='water', source_start=3544929092, source_end=3768210505, offset=-3544929092),\n",
       "              Mapping(source='light', target='water', source_start=2767298069, source_end=2785969087, offset=-1822307467),\n",
       "              Mapping(source='light', target='water', source_start=2903664303, source_end=3072971498, offset=-2127980897),\n",
       "              Mapping(source='light', target='water', source_start=3072971499, source_end=3146586680, offset=-1562969329),\n",
       "              Mapping(source='light', target='water', source_start=1140236238, source_end=1174751118, offset=-399067713),\n",
       "              Mapping(source='light', target='water', source_start=1242780449, source_end=1279106819, offset=45628575),\n",
       "              Mapping(source='light', target='water', source_start=1523060431, source_end=2473053501, offset=255181322),\n",
       "              Mapping(source='light', target='water', source_start=871911381, source_end=1140236237, offset=2216094120),\n",
       "              Mapping(source='light', target='water', source_start=3370486267, source_end=3544929091, offset=-456923591),\n",
       "              Mapping(source='light', target='water', source_start=4096117687, source_end=4210425138, offset=84542157),\n",
       "              Mapping(source='light', target='water', source_start=1174751119, source_end=1242780448, offset=1553483705),\n",
       "              Mapping(source='light', target='water', source_start=4210425139, source_end=4294967295, offset=-114307452),\n",
       "              Mapping(source='light', target='water', source_start=2473053502, source_end=2562107673, offset=351455002)],\n",
       "             'temperature': [Mapping(source='temperature', target='light', source_start=57304962, source_end=409081544, offset=1668754714),\n",
       "              Mapping(source='temperature', target='light', source_start=1567802332, source_end=2077836258, offset=-602669120),\n",
       "              Mapping(source='temperature', target='light', source_start=3296678005, source_end=3732086439, offset=-201607518),\n",
       "              Mapping(source='temperature', target='light', source_start=2476702913, source_end=2770104792, offset=1132323445),\n",
       "              Mapping(source='temperature', target='light', source_start=1363411758, source_end=1567802331, offset=-1363411758),\n",
       "              Mapping(source='temperature', target='light', source_start=1017340727, source_end=1363411757, offset=-812950153),\n",
       "              Mapping(source='temperature', target='light', source_start=2770104793, source_end=3179464322, offset=-621521072),\n",
       "              Mapping(source='temperature', target='light', source_start=994650876, source_end=1017340726, offset=480516263),\n",
       "              Mapping(source='temperature', target='light', source_start=0, source_end=20445761, offset=550461605),\n",
       "              Mapping(source='temperature', target='light', source_start=20445762, source_end=53752500, offset=1672307175),\n",
       "              Mapping(source='temperature', target='light', source_start=2144982382, source_end=2201377536, offset=-52793816),\n",
       "              Mapping(source='temperature', target='light', source_start=799754929, source_end=994650875, offset=698102061),\n",
       "              Mapping(source='temperature', target='light', source_start=53752501, source_end=57304961, offset=907828250),\n",
       "              Mapping(source='temperature', target='light', source_start=409081545, source_end=799754928, offset=161825822),\n",
       "              Mapping(source='temperature', target='light', source_start=2201377537, source_end=2476702912, offset=1701050701),\n",
       "              Mapping(source='temperature', target='light', source_start=3988154754, source_end=4294967295, offset=-1430211503),\n",
       "              Mapping(source='temperature', target='light', source_start=3179464323, source_end=3296678004, offset=998289291),\n",
       "              Mapping(source='temperature', target='light', source_start=3732086440, source_end=3810633875, offset=-201607518),\n",
       "              Mapping(source='temperature', target='light', source_start=3810633876, source_end=3988154753, offset=-945878083),\n",
       "              Mapping(source='temperature', target='light', source_start=2092188566, source_end=2144982381, offset=950088105)],\n",
       "             'humidity': [Mapping(source='humidity', target='temperature', source_start=18928354, source_end=55003314, offset=3395263173),\n",
       "              Mapping(source='humidity', target='temperature', source_start=3774151818, source_end=3918803783, offset=-185435757),\n",
       "              Mapping(source='humidity', target='temperature', source_start=2046448856, source_end=2054018545, offset=-662072812),\n",
       "              Mapping(source='humidity', target='temperature', source_start=2737178317, source_end=2765061976, offset=-1834149503),\n",
       "              Mapping(source='humidity', target='temperature', source_start=2981004508, source_end=3330050746, offset=-2050092034),\n",
       "              Mapping(source='humidity', target='temperature', source_start=1609626976, source_end=1729642933, offset=1474938238),\n",
       "              Mapping(source='humidity', target='temperature', source_start=2765061977, source_end=2981004507, offset=-516130463),\n",
       "              Mapping(source='humidity', target='temperature', source_start=157942811, source_end=517485833, offset=3729840915),\n",
       "              Mapping(source='humidity', target='temperature', source_start=3330050747, source_end=3355053619, offset=-1134945455),\n",
       "              Mapping(source='humidity', target='temperature', source_start=2041971091, source_end=2046448855, offset=-1963614439),\n",
       "              Mapping(source='humidity', target='temperature', source_start=1938796124, source_end=1980365227, offset=-1077336414),\n",
       "              Mapping(source='humidity', target='temperature', source_start=1608860129, source_end=1609626975, offset=865767015),\n",
       "              Mapping(source='humidity', target='temperature', source_start=1812604664, source_end=1886747851, offset=1982938302),\n",
       "              Mapping(source='humidity', target='temperature', source_start=4196563819, source_end=4223588564, offset=-810227820),\n",
       "              Mapping(source='humidity', target='temperature', source_start=1980365228, source_end=2041971090, offset=1224215944),\n",
       "              Mapping(source='humidity', target='temperature', source_start=1136292153, source_end=1230558935, offset=-1053457736),\n",
       "              Mapping(source='humidity', target='temperature', source_start=4015908448, source_end=4120325778, offset=-2735949735),\n",
       "              Mapping(source='humidity', target='temperature', source_start=2701246339, source_end=2737178316, offset=-638723095),\n",
       "              Mapping(source='humidity', target='temperature', source_start=4223588565, source_end=4247326748, offset=-937464946),\n",
       "              Mapping(source='humidity', target='temperature', source_start=91521115, source_end=148189711, offset=3218340688),\n",
       "              Mapping(source='humidity', target='temperature', source_start=1886747852, source_end=1938796123, offset=665814219),\n",
       "              Mapping(source='humidity', target='temperature', source_start=1729642934, source_end=1791287384, offset=-1729642934),\n",
       "              Mapping(source='humidity', target='temperature', source_start=1791287385, source_end=1812604663, offset=-286711157),\n",
       "              Mapping(source='humidity', target='temperature', source_start=517485834, source_end=778506113, offset=1209096442),\n",
       "              Mapping(source='humidity', target='temperature', source_start=2192468119, source_end=2672422989, offset=412142224),\n",
       "              Mapping(source='humidity', target='temperature', source_start=1413642666, source_end=1526273159, offset=-21696932),\n",
       "              Mapping(source='humidity', target='temperature', source_start=71715516, source_end=91521114, offset=3294814884),\n",
       "              Mapping(source='humidity', target='temperature', source_start=3918803784, source_end=3995971863, offset=-1443409793),\n",
       "              Mapping(source='humidity', target='temperature', source_start=1546685190, source_end=1608860128, offset=2186682837),\n",
       "              Mapping(source='humidity', target='temperature', source_start=2672422990, source_end=2701246338, offset=-452314825),\n",
       "              Mapping(source='humidity', target='temperature', source_start=148189712, source_end=157942810, offset=2316684333),\n",
       "              Mapping(source='humidity', target='temperature', source_start=18097572, source_end=18928353, offset=3395263173),\n",
       "              Mapping(source='humidity', target='temperature', source_start=0, source_end=18097571, offset=3869686154),\n",
       "              Mapping(source='humidity', target='temperature', source_start=3995971864, source_end=4015908447, offset=-729784829),\n",
       "              Mapping(source='humidity', target='temperature', source_start=853426802, source_end=881186628, offset=-421220078),\n",
       "              Mapping(source='humidity', target='temperature', source_start=2054018546, source_end=2192468118, offset=1396247942),\n",
       "              Mapping(source='humidity', target='temperature', source_start=881186629, source_end=1136292152, offset=-704085429),\n",
       "              Mapping(source='humidity', target='temperature', source_start=778506114, source_end=853426801, offset=1209096442),\n",
       "              Mapping(source='humidity', target='temperature', source_start=1526273160, source_end=1546685189, offset=572182062),\n",
       "              Mapping(source='humidity', target='temperature', source_start=55003315, source_end=71715515, offset=6641136),\n",
       "              Mapping(source='humidity', target='temperature', source_start=3355053620, source_end=3756546778, offset=-2895087069),\n",
       "              Mapping(source='humidity', target='temperature', source_start=4120325779, source_end=4196563818, offset=-2001458527),\n",
       "              Mapping(source='humidity', target='temperature', source_start=1230558936, source_end=1413642665, offset=295334571),\n",
       "              Mapping(source='humidity', target='temperature', source_start=3756546779, source_end=3774151817, offset=-2047569542)],\n",
       "             'location': [Mapping(source='location', target='humidity', source_start=166973311, source_end=187991298, offset=660099394),\n",
       "              Mapping(source='location', target='humidity', source_start=2420657564, source_end=2518952155, offset=-622669078),\n",
       "              Mapping(source='location', target='humidity', source_start=3711057743, source_end=3761601446, offset=-1986650163),\n",
       "              Mapping(source='location', target='humidity', source_start=151140540, source_end=166973310, offset=180532143),\n",
       "              Mapping(source='location', target='humidity', source_start=2611368935, source_end=2647206804, offset=-1513101509),\n",
       "              Mapping(source='location', target='humidity', source_start=329110209, source_end=368523441, offset=-329110209),\n",
       "              Mapping(source='location', target='humidity', source_start=848395356, source_end=850403698, offset=2444788759),\n",
       "              Mapping(source='location', target='humidity', source_start=850403699, source_end=1066701370, offset=657706209),\n",
       "              Mapping(source='location', target='humidity', source_start=3203490893, source_end=3218606007, offset=74578107),\n",
       "              Mapping(source='location', target='humidity', source_start=1322210923, source_end=1437283687, offset=2857683608),\n",
       "              Mapping(source='location', target='humidity', source_start=3761601447, source_end=4011473516, offset=-2913206091),\n",
       "              Mapping(source='location', target='humidity', source_start=230668724, source_end=258198985, offset=-191255491),\n",
       "              Mapping(source='location', target='humidity', source_start=1437283688, source_end=1551096701, offset=802859776),\n",
       "              Mapping(source='location', target='humidity', source_start=1551096702, source_end=1628353203, offset=1406198088),\n",
       "              Mapping(source='location', target='humidity', source_start=716039283, source_end=848090692, offset=-21017988),\n",
       "              Mapping(source='location', target='humidity', source_start=258198986, source_end=329110208, offset=-148578066),\n",
       "              Mapping(source='location', target='humidity', source_start=1314022212, source_end=1322210922, offset=1043795230),\n",
       "              Mapping(source='location', target='humidity', source_start=2793895840, source_end=3075051783, offset=-319423823),\n",
       "              Mapping(source='location', target='humidity', source_start=385486933, source_end=716039282, offset=-37981479),\n",
       "              Mapping(source='location', target='humidity', source_start=3218606008, source_end=3425123176, offset=342525739),\n",
       "              Mapping(source='location', target='humidity', source_start=1066701371, source_end=1223511378, offset=2287406538),\n",
       "              Mapping(source='location', target='humidity', source_start=4011473517, source_end=4294967295, offset=-2877368221),\n",
       "              Mapping(source='location', target='humidity', source_start=0, source_end=151140539, offset=180532143),\n",
       "              Mapping(source='location', target='humidity', source_start=368523442, source_end=385486932, offset=309534362),\n",
       "              Mapping(source='location', target='humidity', source_start=1223511379, source_end=1314022211, offset=194087696),\n",
       "              Mapping(source='location', target='humidity', source_start=3183517648, source_end=3203490892, offset=-1194817791),\n",
       "              Mapping(source='location', target='humidity', source_start=2270463718, source_end=2412345352, offset=1767549178),\n",
       "              Mapping(source='location', target='humidity', source_start=1817187310, source_end=1840224511, offset=-42236026),\n",
       "              Mapping(source='location', target='humidity', source_start=1963899457, source_end=2165566285, offset=791728504),\n",
       "              Mapping(source='location', target='humidity', source_start=2412345353, source_end=2420657563, offset=882847105),\n",
       "              Mapping(source='location', target='humidity', source_start=1840224512, source_end=1963899456, offset=1927424404),\n",
       "              Mapping(source='location', target='humidity', source_start=187991299, source_end=230668723, offset=-121047804),\n",
       "              Mapping(source='location', target='humidity', source_start=2518952156, source_end=2611368934, offset=-622669078),\n",
       "              Mapping(source='location', target='humidity', source_start=1628353204, source_end=1766973479, offset=1406198088),\n",
       "              Mapping(source='location', target='humidity', source_start=3075051784, source_end=3183517647, offset=-709045631),\n",
       "              Mapping(source='location', target='humidity', source_start=3660454503, source_end=3711057742, offset=-356949834),\n",
       "              Mapping(source='location', target='humidity', source_start=3425123177, source_end=3656593538, offset=-1416450075),\n",
       "              Mapping(source='location', target='humidity', source_start=3656593539, source_end=3660454502, offset=-1302637061),\n",
       "              Mapping(source='location', target='humidity', source_start=1766973480, source_end=1817187309, offset=1743944437),\n",
       "              Mapping(source='location', target='humidity', source_start=2647206805, source_end=2793895839, offset=1244117056),\n",
       "              Mapping(source='location', target='humidity', source_start=2165566286, source_end=2270463717, offset=1007605282)]})"
      ]
     },
     "execution_count": 20,
     "metadata": {},
     "output_type": "execute_result"
    }
   ],
   "source": [
    "file = open('input.txt', 'r')\n",
    "Mapping = namedtuple('Mapping', ['source', 'target', 'source_start', 'source_end', 'offset'])\n",
    "reverse_mappings = defaultdict(list)\n",
    "for ix, line in enumerate(file):\n",
    "    if ix == 0: continue\n",
    "    if line.strip() == '': continue\n",
    "    if \"map\" in line:\n",
    "        mapping_to = line.split(' ')[0].split('-to-')\n",
    "    else:\n",
    "        tstart, sstart, rang = [int(x.strip()) for x in line.split(' ')]\n",
    "        mapping = Mapping(mapping_to[1], mapping_to[0] , tstart, tstart+rang-1, sstart-tstart)\n",
    "        reverse_mappings[mapping.source].append(mapping)"
   ]
  },
  {
   "cell_type": "code",
   "execution_count": 21,
   "metadata": {},
   "outputs": [],
   "source": [
    "def map(tn, mappings):\n",
    "    for mapping in mappings[tn.thing]:\n",
    "        if tn.number >= mapping.source_start and  tn.number <= mapping.source_end:\n",
    "            return (ThingNumber(mapping.target, tn.number + mapping.offset))\n",
    "    return ThingNumber(mappings[tn.thing][0].target, tn.number)"
   ]
  },
  {
   "cell_type": "code",
   "execution_count": 23,
   "metadata": {},
   "outputs": [],
   "source": [
    "def is_seed(tn):\n",
    "    return tn.thing == 'seed' and any( itv[0] <= tn.number and tn.number<=itv[1] for itv in th_intervs.intervals)"
   ]
  },
  {
   "cell_type": "code",
   "execution_count": 25,
   "metadata": {},
   "outputs": [],
   "source": [
    "def iter():\n",
    "    i = 0\n",
    "    while (True):\n",
    "        yield i\n",
    "        i +=1    "
   ]
  },
  {
   "cell_type": "code",
   "execution_count": 26,
   "metadata": {},
   "outputs": [],
   "source": [
    "for ix in iter():# iter():\n",
    "    candidate = ThingNumber('location', ix)\n",
    "    #print(candidate)\n",
    "    while candidate.thing != 'seed':\n",
    "        candidate = map(candidate, reverse_mappings)\n",
    "    #print(candidate)\n",
    "    #print(\"-----\")\n",
    "    if (is_seed(candidate)):\n",
    "        print (ix)\n",
    "        break"
   ]
  },
  {
   "cell_type": "code",
   "execution_count": null,
   "metadata": {},
   "outputs": [],
   "source": []
  }
 ],
 "metadata": {
  "kernelspec": {
   "display_name": "Python 3",
   "language": "python",
   "name": "python3"
  },
  "language_info": {
   "codemirror_mode": {
    "name": "ipython",
    "version": 3
   },
   "file_extension": ".py",
   "mimetype": "text/x-python",
   "name": "python",
   "nbconvert_exporter": "python",
   "pygments_lexer": "ipython3",
   "version": "3.11.1"
  },
  "orig_nbformat": 4,
  "vscode": {
   "interpreter": {
    "hash": "1a1af0ee75eeea9e2e1ee996c87e7a2b11a0bebd85af04bb136d915cefc0abce"
   }
  }
 },
 "nbformat": 4,
 "nbformat_minor": 2
}
