{
 "cells": [
  {
   "cell_type": "code",
   "execution_count": null,
   "metadata": {},
   "outputs": [],
   "source": [
    "import networkx as nx"
   ]
  },
  {
   "cell_type": "code",
   "execution_count": null,
   "metadata": {},
   "outputs": [],
   "source": [
    "input_file = 'input.txt'\n",
    "lines = open(input_file, 'r').readlines()\n",
    "lines = [line.strip().split(': ') for line in lines]\n",
    "adj_list = dict()\n",
    "for line in lines:\n",
    "    lis = line[1].split(' ')\n",
    "    adj_list[line[0]]= lis"
   ]
  },
  {
   "cell_type": "code",
   "execution_count": null,
   "metadata": {},
   "outputs": [],
   "source": [
    "def p_hash(s):\n",
    "    return abs(hash(s))"
   ]
  },
  {
   "cell_type": "code",
   "execution_count": null,
   "metadata": {},
   "outputs": [],
   "source": [
    "nxG = nx.Graph()\n",
    "nxG.add_nodes_from([p_hash(k) for k in adj_list])\n",
    "for k in adj_list:\n",
    "    nxG.add_edges_from([(p_hash(k), p_hash(neigh)) for neigh in adj_list[k]])"
   ]
  },
  {
   "cell_type": "code",
   "execution_count": 117,
   "metadata": {},
   "outputs": [
    {
     "name": "stdout",
     "output_type": "stream",
     "text": [
      "538560\n"
     ]
    }
   ],
   "source": [
    "part1 = 1\n",
    "for comp in nx.k_edge_components(nxG, 4):\n",
    "    part1 *= len(comp)\n",
    "print(part1)"
   ]
  }
 ],
 "metadata": {
  "kernelspec": {
   "display_name": "Python 3",
   "language": "python",
   "name": "python3"
  },
  "language_info": {
   "codemirror_mode": {
    "name": "ipython",
    "version": 3
   },
   "file_extension": ".py",
   "mimetype": "text/x-python",
   "name": "python",
   "nbconvert_exporter": "python",
   "pygments_lexer": "ipython3",
   "version": "3.11.1"
  },
  "orig_nbformat": 4,
  "vscode": {
   "interpreter": {
    "hash": "1a1af0ee75eeea9e2e1ee996c87e7a2b11a0bebd85af04bb136d915cefc0abce"
   }
  }
 },
 "nbformat": 4,
 "nbformat_minor": 2
}
