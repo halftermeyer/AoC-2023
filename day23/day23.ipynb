{
 "cells": [
  {
   "cell_type": "code",
   "execution_count": null,
   "metadata": {},
   "outputs": [],
   "source": [
    "input_file = 'input.txt'\n",
    "lines = open(input_file, 'r').readlines()\n",
    "lines = [line.strip() for line in lines]"
   ]
  },
  {
   "cell_type": "code",
   "execution_count": null,
   "metadata": {},
   "outputs": [],
   "source": [
    "import networkx as nx"
   ]
  },
  {
   "cell_type": "code",
   "execution_count": null,
   "metadata": {},
   "outputs": [],
   "source": [
    "def make_id_point(point):\n",
    "    return 1000 * point[0] +  point[1]\n",
    "\n",
    "def make_label_point(point):\n",
    "    res = [{'#':'Tree', '.':'Path', '>':'Slope_E','<':'Slope_W','^':'Slope_N','v':'Slope_S'}[lines[point[1]][point[0]]]]\n",
    "    if point[1] == 0 and lines[point[1]][point[0]] == '.':\n",
    "        res += ['Source']\n",
    "    if point[1] == height-1 and lines[point[1]][point[0]] == '.':\n",
    "        res += ['Target']\n",
    "    return res"
   ]
  },
  {
   "cell_type": "code",
   "execution_count": null,
   "metadata": {},
   "outputs": [],
   "source": [
    "maze = nx.DiGraph()\n",
    "height = len(lines)\n",
    "width = len(lines[0])\n",
    "for j, _ in enumerate(lines):\n",
    "    for i, _ in enumerate(lines[0]):\n",
    "        maze.add_node(make_id_point((i,j)), labels=make_label_point((i,j)) + ['Point'], i=i, j=j)\n",
    "        if not lines[j][i] in ['#']:\n",
    "            maze.add_edge(make_id_point((i,j)), make_id_point((i,j)) , relationshipType='VISIT')\n",
    "        if i>0 and lines[j][i] in ['.','<'] and not lines[j][i-1] in ['#']:\n",
    "            maze.add_edge(make_id_point((i,j)), make_id_point((i-1,j)) , relationshipType='MOVE', dirx=-1, diry=0)\n",
    "        if i<width-1 and lines[j][i] in ['.','>'] and not lines[j][i+1] in ['#']:\n",
    "            maze.add_edge(make_id_point((i,j)), make_id_point((i+1,j)) , relationshipType='MOVE', dirx=1, diry=0)\n",
    "        if j>0 and lines[j][i] in ['.','^'] and not lines[j-1][i] in ['#']:\n",
    "            maze.add_edge(make_id_point((i,j)), make_id_point((i,j-1)) , relationshipType='MOVE', dirx=0, diry=-1)\n",
    "        if j<height-1 and lines[j][i] in ['.','v'] and not lines[j+1][i] in ['#']:\n",
    "            maze.add_edge(make_id_point((i,j)), make_id_point((i,j+1)) , relationshipType='MOVE', dirx=0, diry=1)"
   ]
  },
  {
   "cell_type": "code",
   "execution_count": null,
   "metadata": {},
   "outputs": [],
   "source": [
    "NEO4J_URI = \"neo4j://localhost:7687\"\n",
    "NEO4J_USER = \"neo4j\"\n",
    "NEO4J_PASSWORD = \"pierre!!\"\n",
    "from graphdatascience import GraphDataScience"
   ]
  },
  {
   "cell_type": "code",
   "execution_count": null,
   "metadata": {},
   "outputs": [],
   "source": [
    "gds = GraphDataScience(NEO4J_URI, auth=(NEO4J_USER, NEO4J_PASSWORD), aura_ds=False, database=\"neo4j\")\n"
   ]
  },
  {
   "cell_type": "code",
   "execution_count": null,
   "metadata": {},
   "outputs": [],
   "source": [
    "G = gds.graph.networkx.load(maze, \"maze\")\n"
   ]
  },
  {
   "cell_type": "code",
   "execution_count": null,
   "metadata": {},
   "outputs": [],
   "source": [
    "gds.graph.export(G, dbName=\"mazepersisted\")\n"
   ]
  },
  {
   "cell_type": "code",
   "execution_count": null,
   "metadata": {},
   "outputs": [],
   "source": [
    "gds.run_cypher('CREATE DATABASE mazepersisted')\n"
   ]
  },
  {
   "cell_type": "code",
   "execution_count": null,
   "metadata": {},
   "outputs": [],
   "source": [
    "gds = GraphDataScience(NEO4J_URI, auth=(NEO4J_USER, NEO4J_PASSWORD), aura_ds=True, database=\"mazepersisted\")"
   ]
  },
  {
   "cell_type": "code",
   "execution_count": null,
   "metadata": {},
   "outputs": [],
   "source": [
    "gds.run_cypher(\"\"\"\n",
    "MATCH p=(s:Source)\n",
    "(()-[:VISIT]->()-[m:MOVE]->(v))+\n",
    "(t:Target)\n",
    "WITH m\n",
    "CALL {\n",
    "    WITH m\n",
    "    WITH size(m) AS length\n",
    "    RETURN max(length) AS length\n",
    "} IN TRANSACTIONS OF 10 ROWS\n",
    "RETURN max(length) AS part1\n",
    "\"\"\")"
   ]
  },
  {
   "attachments": {},
   "cell_type": "markdown",
   "metadata": {},
   "source": [
    "# Part 2"
   ]
  },
  {
   "cell_type": "code",
   "execution_count": null,
   "metadata": {},
   "outputs": [],
   "source": [
    "def make_id_point(point):\n",
    "    return 1000 * point[0] +  point[1]\n",
    "\n",
    "def make_label_point(point):\n",
    "    res = [{'#':'Tree', '.':'Path', '>':'Path','<':'Path','^':'Path','v':'Path'}[lines[point[1]][point[0]]]]\n",
    "    if point[1] == 0 and lines[point[1]][point[0]] == '.':\n",
    "        res += ['Source']\n",
    "    if point[1] == height-1 and lines[point[1]][point[0]] == '.':\n",
    "        res += ['Target']\n",
    "    return res"
   ]
  },
  {
   "cell_type": "code",
   "execution_count": null,
   "metadata": {},
   "outputs": [],
   "source": [
    "maze = nx.DiGraph()\n",
    "height = len(lines)\n",
    "width = len(lines[0])\n",
    "for j, _ in enumerate(lines):\n",
    "    for i, _ in enumerate(lines[0]):\n",
    "        maze.add_node(make_id_point((i,j)), labels=make_label_point((i,j)) + ['Point'], i=i, j=j)\n",
    "        if not lines[j][i] in ['#']:\n",
    "            maze.add_edge(make_id_point((i,j)), make_id_point((i,j)) , relationshipType='VISIT')\n",
    "        if i>0 and lines[j][i] in ['.','<', '>', '^', 'v'] and not lines[j][i-1] in ['#']:\n",
    "            maze.add_edge(make_id_point((i,j)), make_id_point((i-1,j)) , relationshipType='MOVE', dirx=-1, diry=0)\n",
    "        if i<width-1 and lines[j][i] in ['.','<', '>', '^', 'v'] and not lines[j][i+1] in ['#']:\n",
    "            maze.add_edge(make_id_point((i,j)), make_id_point((i+1,j)) , relationshipType='MOVE', dirx=1, diry=0)\n",
    "        if j>0 and lines[j][i] in ['.','<', '>', '^', 'v'] and not lines[j-1][i] in ['#']:\n",
    "            maze.add_edge(make_id_point((i,j)), make_id_point((i,j-1)) , relationshipType='MOVE', dirx=0, diry=-1)\n",
    "        if j<height-1 and lines[j][i] in ['.','<', '>', '^', 'v'] and not lines[j+1][i] in ['#']:\n",
    "            maze.add_edge(make_id_point((i,j)), make_id_point((i,j+1)) , relationshipType='MOVE', dirx=0, diry=1)"
   ]
  },
  {
   "cell_type": "code",
   "execution_count": null,
   "metadata": {},
   "outputs": [],
   "source": [
    "NEO4J_URI = \"neo4j://localhost:7687\"\n",
    "NEO4J_USER = \"neo4j\"\n",
    "NEO4J_PASSWORD = \"pierre!!\"\n",
    "from graphdatascience import GraphDataScience"
   ]
  },
  {
   "cell_type": "code",
   "execution_count": null,
   "metadata": {},
   "outputs": [],
   "source": [
    "gds = GraphDataScience(NEO4J_URI, auth=(NEO4J_USER, NEO4J_PASSWORD))"
   ]
  },
  {
   "cell_type": "code",
   "execution_count": null,
   "metadata": {},
   "outputs": [],
   "source": [
    "G = gds.graph.networkx.load(maze, \"climbmaze\")\n",
    "\n",
    "gds.graph.export(G, dbName=\"climbmazepersisted\")\n"
   ]
  },
  {
   "cell_type": "code",
   "execution_count": null,
   "metadata": {},
   "outputs": [],
   "source": [
    "gds.run_cypher('CREATE DATABASE climbmazepersisted')\n"
   ]
  },
  {
   "cell_type": "code",
   "execution_count": null,
   "metadata": {},
   "outputs": [],
   "source": [
    "gds = GraphDataScience(NEO4J_URI, auth=(NEO4J_USER, NEO4J_PASSWORD), database=\"climbmazepersisted\")"
   ]
  },
  {
   "cell_type": "code",
   "execution_count": null,
   "metadata": {},
   "outputs": [],
   "source": [
    "gds.run_cypher(\"\"\"\n",
    "CYPHER runtime=parallel\n",
    "MATCH p=(s:Source)\n",
    "(()-[:VISIT]->()-[m:MOVE]->(v))+\n",
    "(t:Target)\n",
    "WITH m\n",
    "CALL {\n",
    "    WITH m\n",
    "    WITH size(m) AS length\n",
    "    RETURN max(length) AS length\n",
    "} IN TRANSACTIONS OF 10 ROWS\n",
    "RETURN max(length) AS part2\n",
    "\"\"\")"
   ]
  },
  {
   "cell_type": "code",
   "execution_count": null,
   "metadata": {},
   "outputs": [],
   "source": []
  }
 ],
 "metadata": {
  "kernelspec": {
   "display_name": "Python 3",
   "language": "python",
   "name": "python3"
  },
  "language_info": {
   "codemirror_mode": {
    "name": "ipython",
    "version": 3
   },
   "file_extension": ".py",
   "mimetype": "text/x-python",
   "name": "python",
   "nbconvert_exporter": "python",
   "pygments_lexer": "ipython3",
   "version": "3.11.1 (main, Dec 23 2022, 09:40:27) [Clang 14.0.0 (clang-1400.0.29.202)]"
  },
  "orig_nbformat": 4,
  "vscode": {
   "interpreter": {
    "hash": "1a1af0ee75eeea9e2e1ee996c87e7a2b11a0bebd85af04bb136d915cefc0abce"
   }
  }
 },
 "nbformat": 4,
 "nbformat_minor": 2
}
