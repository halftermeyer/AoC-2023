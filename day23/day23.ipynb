{
 "cells": [
  {
   "cell_type": "code",
   "execution_count": 8,
   "metadata": {},
   "outputs": [],
   "source": [
    "input_file = 'input.txt'\n",
    "lines = open(input_file, 'r').readlines()\n",
    "lines = [line.strip() for line in lines]"
   ]
  },
  {
   "cell_type": "code",
   "execution_count": 9,
   "metadata": {},
   "outputs": [],
   "source": [
    "import networkx as nx"
   ]
  },
  {
   "cell_type": "code",
   "execution_count": 10,
   "metadata": {},
   "outputs": [],
   "source": [
    "def make_id_point(point):\n",
    "    return 1000 * point[0] +  point[1]\n",
    "\n",
    "def make_label_point(point):\n",
    "    res = [{'#':'Tree', '.':'Path', '>':'Slope_E','<':'Slope_W','^':'Slope_N','v':'Slope_S'}[lines[point[1]][point[0]]]]\n",
    "    if point[1] == 0 and lines[point[1]][point[0]] == '.':\n",
    "        res += ['Source']\n",
    "    if point[1] == height-1 and lines[point[1]][point[0]] == '.':\n",
    "        res += ['Target']\n",
    "    return res"
   ]
  },
  {
   "cell_type": "code",
   "execution_count": 11,
   "metadata": {},
   "outputs": [],
   "source": [
    "maze = nx.DiGraph()\n",
    "height = len(lines)\n",
    "width = len(lines[0])\n",
    "for j, _ in enumerate(lines):\n",
    "    for i, _ in enumerate(lines[0]):\n",
    "        maze.add_node(make_id_point((i,j)), labels=make_label_point((i,j)) + ['Point'], i=i, j=j)\n",
    "        if not lines[j][i] in ['#']:\n",
    "            maze.add_edge(make_id_point((i,j)), make_id_point((i,j)) , relationshipType='VISIT')\n",
    "        if i>0 and lines[j][i] in ['.','<'] and not lines[j][i-1] in ['#']:\n",
    "            maze.add_edge(make_id_point((i,j)), make_id_point((i-1,j)) , relationshipType='MOVE', dirx=-1, diry=0)\n",
    "        if i<width-1 and lines[j][i] in ['.','>'] and not lines[j][i+1] in ['#']:\n",
    "            maze.add_edge(make_id_point((i,j)), make_id_point((i+1,j)) , relationshipType='MOVE', dirx=1, diry=0)\n",
    "        if j>0 and lines[j][i] in ['.','^'] and not lines[j-1][i] in ['#']:\n",
    "            maze.add_edge(make_id_point((i,j)), make_id_point((i,j-1)) , relationshipType='MOVE', dirx=0, diry=-1)\n",
    "        if j<height-1 and lines[j][i] in ['.','v'] and not lines[j+1][i] in ['#']:\n",
    "            maze.add_edge(make_id_point((i,j)), make_id_point((i,j+1)) , relationshipType='MOVE', dirx=0, diry=1)"
   ]
  },
  {
   "cell_type": "code",
   "execution_count": 21,
   "metadata": {},
   "outputs": [],
   "source": [
    "NEO4J_URI = \"neo4j://localhost:7687\"\n",
    "NEO4J_USER = \"neo4j\"\n",
    "NEO4J_PASSWORD = \"pierre!!\"\n",
    "from graphdatascience import GraphDataScience"
   ]
  },
  {
   "cell_type": "code",
   "execution_count": 23,
   "metadata": {},
   "outputs": [],
   "source": [
    "gds = GraphDataScience(NEO4J_URI, auth=(NEO4J_USER, NEO4J_PASSWORD))\n",
    "G = gds.graph.networkx.load(maze, \"maze\")\n",
    "gds.graph.export(G, dbName=\"mazepersisted\")\n",
    "gds.run_cypher('CREATE DATABASE mazepersisted')\n",
    "gds = GraphDataScience(NEO4J_URI, auth=(NEO4J_USER, NEO4J_PASSWORD), database=\"mazepersisted\")"
   ]
  },
  {
   "cell_type": "code",
   "execution_count": 31,
   "metadata": {},
   "outputs": [
    {
     "data": {
      "text/html": [
       "<div>\n",
       "<style scoped>\n",
       "    .dataframe tbody tr th:only-of-type {\n",
       "        vertical-align: middle;\n",
       "    }\n",
       "\n",
       "    .dataframe tbody tr th {\n",
       "        vertical-align: top;\n",
       "    }\n",
       "\n",
       "    .dataframe thead th {\n",
       "        text-align: right;\n",
       "    }\n",
       "</style>\n",
       "<table border=\"1\" class=\"dataframe\">\n",
       "  <thead>\n",
       "    <tr style=\"text-align: right;\">\n",
       "      <th></th>\n",
       "      <th>part1</th>\n",
       "    </tr>\n",
       "  </thead>\n",
       "  <tbody>\n",
       "    <tr>\n",
       "      <th>0</th>\n",
       "      <td>2202</td>\n",
       "    </tr>\n",
       "  </tbody>\n",
       "</table>\n",
       "</div>"
      ],
      "text/plain": [
       "   part1\n",
       "0   2202"
      ]
     },
     "execution_count": 31,
     "metadata": {},
     "output_type": "execute_result"
    }
   ],
   "source": [
    "gds.run_cypher(\"\"\"\n",
    "MATCH p=(s:Source)\n",
    "(()-[:VISIT]->()-[m:MOVE]->(v))+\n",
    "(t:Target)\n",
    "WITH m\n",
    "CALL {\n",
    "    WITH m\n",
    "    WITH size(m) AS length\n",
    "    RETURN max(length) AS length\n",
    "} IN TRANSACTIONS OF 10 ROWS\n",
    "RETURN max(length) AS part1\n",
    "\"\"\")"
   ]
  },
  {
   "cell_type": "code",
   "execution_count": null,
   "metadata": {},
   "outputs": [],
   "source": []
  }
 ],
 "metadata": {
  "kernelspec": {
   "display_name": "Python 3",
   "language": "python",
   "name": "python3"
  },
  "language_info": {
   "codemirror_mode": {
    "name": "ipython",
    "version": 3
   },
   "file_extension": ".py",
   "mimetype": "text/x-python",
   "name": "python",
   "nbconvert_exporter": "python",
   "pygments_lexer": "ipython3",
   "version": "3.11.1"
  },
  "orig_nbformat": 4,
  "vscode": {
   "interpreter": {
    "hash": "1a1af0ee75eeea9e2e1ee996c87e7a2b11a0bebd85af04bb136d915cefc0abce"
   }
  }
 },
 "nbformat": 4,
 "nbformat_minor": 2
}
