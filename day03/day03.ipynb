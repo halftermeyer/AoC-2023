{
 "cells": [
  {
   "cell_type": "code",
   "execution_count": null,
   "metadata": {},
   "outputs": [],
   "source": [
    "from graphdatascience import GraphDataScience\n",
    "gds = GraphDataScience(NEO4J_URI, auth=(NEO4J_USER, NEO4J_PASSWORD))\n",
    "\n",
    "# Check the installed GDS version on the server\n",
    "print(gds.version())\n",
    "assert gds.version()"
   ]
  },
  {
   "cell_type": "code",
   "execution_count": null,
   "metadata": {},
   "outputs": [],
   "source": [
    "file = open('input.txt', 'r')\n",
    "query = \"\"\n",
    "for ix_row, line in enumerate(file):\n",
    "    for ix_col, symbol in enumerate(line):\n",
    "        query_line =\"\"\"\n",
    "CREATE (:Cell {{row:{ix_row}, col:{ix_col}, symbol:'{symbol}'}})\\n\n",
    "            \"\"\".format(\n",
    "                ix_row=ix_row,\n",
    "                ix_col=ix_col,\n",
    "                symbol=symbol)\n",
    "        query += query_line\n",
    "gds.run_cypher(query)"
   ]
  },
  {
   "cell_type": "code",
   "execution_count": null,
   "metadata": {},
   "outputs": [],
   "source": [
    "gds.run_cypher(\"CREATE INDEX cell_row_col IF NOT EXISTS FOR (c:Cell) ON (c.row, c.col)\")\n",
    "gds.run_cypher(\"MATCH (n {symbol:'\\n'}) DETACH DELETE n\")"
   ]
  },
  {
   "cell_type": "code",
   "execution_count": null,
   "metadata": {},
   "outputs": [],
   "source": [
    "queries = \"\"\"MATCH (c:Cell)\n",
    "CALL{\n",
    "    WITH c\n",
    "    MATCH (x {row:c.row-1, col: c.col})\n",
    "    MERGE (c)-[:N]->(x)\n",
    "    } IN TRANSACTIONS OF 1000 ROWS;\n",
    "\n",
    "MATCH (c:Cell)\n",
    "CALL{\n",
    "    WITH c\n",
    "    MATCH (x {row:c.row-1, col: c.col + 1})\n",
    "    MERGE (c)-[:NE]->(x)\n",
    "    } IN TRANSACTIONS OF 1000 ROWS;\n",
    "\n",
    "MATCH (c:Cell)\n",
    "CALL{\n",
    "    WITH c\n",
    "    MATCH (x {row:c.row, col: c.col + 1})\n",
    "    MERGE (c)-[:E]->(x)\n",
    "    } IN TRANSACTIONS OF 1000 ROWS;\n",
    "\n",
    "MATCH (c:Cell)\n",
    "CALL{\n",
    "    WITH c\n",
    "    MATCH (x {row:c.row + 1, col: c.col + 1})\n",
    "    MERGE (c)-[:SE]->(x)\n",
    "    } IN TRANSACTIONS OF 1000 ROWS\n",
    "\"\"\".split(';')\n",
    "for query in queries:\n",
    "    gds.run_cypher(query)"
   ]
  },
  {
   "cell_type": "code",
   "execution_count": null,
   "metadata": {},
   "outputs": [],
   "source": [
    "gds.run_cypher(\"MATCH (c:Cell {symbol:'.'}) DETACH DELETE c;\")"
   ]
  },
  {
   "cell_type": "code",
   "execution_count": null,
   "metadata": {},
   "outputs": [],
   "source": [
    "gds.run_cypher(\"\"\"\n",
    "MATCH (c:Cell)\n",
    "WHERE NOT \"0123456789\" CONTAINS c.symbol\n",
    "SET c:Symbol\n",
    "\"\"\")"
   ]
  },
  {
   "cell_type": "code",
   "execution_count": null,
   "metadata": {},
   "outputs": [],
   "source": [
    "gds.run_cypher(\"\"\"\n",
    "MATCH (first:Cell&!Symbol WHERE NOT EXISTS {(:Cell&!Symbol)-[:E]->(first)})\n",
    "    (()-[:E]->(followings:Cell&!Symbol))*\n",
    "    (last:Cell&!Symbol WHERE NOT EXISTS {(last)-[:E]->(:Cell&!Symbol)})\n",
    "WHERE any(cell IN [first]+followings WHERE (cell)--(:Symbol))\n",
    "RETURN sum(toInteger(apoc.text.join([cell IN [first]+followings | cell.symbol],\"\"))) AS part1\n",
    "\"\"\")"
   ]
  },
  {
   "cell_type": "code",
   "execution_count": null,
   "metadata": {},
   "outputs": [],
   "source": [
    "gds.run_cypher(\"\"\"\n",
    "MATCH (first:Cell&!Symbol WHERE NOT EXISTS {(:Cell&!Symbol)-[:E]->(first)})\n",
    "    (()-[:E]->(followings:Cell&!Symbol))*\n",
    "    (last:Cell&!Symbol WHERE NOT EXISTS {(last)-[:E]->(:Cell&!Symbol)})\n",
    "WHERE any(cell IN [first]+followings WHERE (cell)--(:Symbol))\n",
    "WITH [first]+followings AS nodes, toInteger(apoc.text.join([cell IN [first]+followings | cell.symbol],\"\")) AS part_number\n",
    "UNWIND nodes AS n\n",
    "SET n.partNumber = part_number\n",
    "\"\"\")"
   ]
  },
  {
   "cell_type": "code",
   "execution_count": null,
   "metadata": {},
   "outputs": [],
   "source": [
    "gds.run_cypher(\"\"\"\n",
    "MATCH (s:Symbol {symbol:'*'})--(p:Cell&!Symbol)\n",
    "WITH s, apoc.coll.toSet(collect(p.partNumber)) AS partNumbers\n",
    "WHERE size(partNumbers) = 2\n",
    "RETURN sum(partNumbers[0]*partNumbers[1]) AS part2\n",
    "\"\"\")"
   ]
  },
  {
   "cell_type": "code",
   "execution_count": null,
   "metadata": {},
   "outputs": [],
   "source": []
  }
 ],
 "metadata": {
  "kernelspec": {
   "display_name": "Python 3",
   "language": "python",
   "name": "python3"
  },
  "language_info": {
   "codemirror_mode": {
    "name": "ipython",
    "version": 3
   },
   "file_extension": ".py",
   "mimetype": "text/x-python",
   "name": "python",
   "nbconvert_exporter": "python",
   "pygments_lexer": "ipython3",
   "version": "3.11.1"
  },
  "orig_nbformat": 4,
  "vscode": {
   "interpreter": {
    "hash": "1a1af0ee75eeea9e2e1ee996c87e7a2b11a0bebd85af04bb136d915cefc0abce"
   }
  }
 },
 "nbformat": 4,
 "nbformat_minor": 2
}
