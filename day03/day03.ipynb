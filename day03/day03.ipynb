{
 "cells": [
  {
   "attachments": {},
   "cell_type": "markdown",
   "metadata": {},
   "source": [
    "# Advent of code 2023\n",
    "\n",
    "## [Day 3](https://adventofcode.com/2023/day/3): Gear Ratios\n",
    "\n",
    "### Connecting to Neo4j database *via* `graphdatascience` python client"
   ]
  },
  {
   "cell_type": "code",
   "execution_count": null,
   "metadata": {},
   "outputs": [],
   "source": [
    "from graphdatascience import GraphDataScience\n",
    "gds = GraphDataScience(NEO4J_URI, auth=(NEO4J_USER, NEO4J_PASSWORD))\n",
    "\n",
    "# Check the installed GDS version on the server\n",
    "print(gds.version())\n",
    "assert gds.version()"
   ]
  },
  {
   "attachments": {},
   "cell_type": "markdown",
   "metadata": {},
   "source": [
    "### Ingesting data"
   ]
  },
  {
   "cell_type": "code",
   "execution_count": null,
   "metadata": {},
   "outputs": [],
   "source": [
    "file = open('input.txt', 'r')\n",
    "data = []\n",
    "for ix_row, line in enumerate(file):\n",
    "    for ix_col, symbol in enumerate(line):\n",
    "        if symbol in ['\\n', '.']:\n",
    "            continue\n",
    "        data.append({\"row\":ix_row, \"col\":ix_col, \"symbol\":symbol})\n",
    "\n",
    "query =\"\"\"\n",
    "UNWIND $data AS c_data\n",
    "CALL {\n",
    "    WITH c_data\n",
    "    CREATE (:Cell {row:c_data.row, col:c_data.col, symbol:c_data.symbol})\n",
    "} IN TRANSACTIONS OF 5000 ROWS\n",
    "\"\"\"\n",
    "gds.run_cypher(query, {\"data\":data})"
   ]
  },
  {
   "attachments": {},
   "cell_type": "markdown",
   "metadata": {},
   "source": [
    "### Adding `Symbol` label to non-digit `Cell`s"
   ]
  },
  {
   "cell_type": "code",
   "execution_count": null,
   "metadata": {},
   "outputs": [],
   "source": [
    "gds.run_cypher(\"CREATE INDEX cell_row_col IF NOT EXISTS FOR (c:Cell) ON (c.row, c.col)\")\n",
    "gds.run_cypher(\"\"\"\n",
    "MATCH (c:Cell)\n",
    "WHERE NOT \"0123456789\" CONTAINS c.symbol\n",
    "SET c:Symbol\n",
    "\"\"\")"
   ]
  },
  {
   "attachments": {},
   "cell_type": "markdown",
   "metadata": {},
   "source": [
    "### Creating `NEXT` relationship between digit `Cell`s of a same part number"
   ]
  },
  {
   "cell_type": "code",
   "execution_count": null,
   "metadata": {},
   "outputs": [],
   "source": [
    "query = \"\"\"\n",
    "MATCH (c:Cell&!Symbol)\n",
    "CALL{\n",
    "    WITH c\n",
    "    MATCH (x:Cell&!Symbol {row:c.row, col: c.col +1})\n",
    "    MERGE (c)-[:NEXT]->(x)\n",
    "    } IN TRANSACTIONS OF 5000 ROWS\n",
    "\"\"\"\n",
    "gds.run_cypher(query)"
   ]
  },
  {
   "attachments": {},
   "cell_type": "markdown",
   "metadata": {},
   "source": [
    "### Creating `NEAR` relationship between `Symbol` and adjacent digit `Cell`"
   ]
  },
  {
   "cell_type": "code",
   "execution_count": null,
   "metadata": {},
   "outputs": [],
   "source": [
    "query = \"\"\"\n",
    "MATCH (s:Cell:Symbol)\n",
    "CALL{\n",
    "    WITH s\n",
    "    MATCH (x:Cell&!Symbol)\n",
    "    WHERE abs(x.row-s.row) <=1 AND abs(x.col-s.col) <=1\n",
    "    MERGE (s)-[:NEAR]->(x)\n",
    "    } IN TRANSACTIONS OF 5000 ROWS\n",
    "\"\"\"\n",
    "gds.run_cypher(query)"
   ]
  },
  {
   "attachments": {},
   "cell_type": "markdown",
   "metadata": {},
   "source": [
    "### Computing `partNumber` when necessary"
   ]
  },
  {
   "cell_type": "code",
   "execution_count": null,
   "metadata": {},
   "outputs": [],
   "source": [
    "gds.run_cypher(\"\"\"\n",
    "MATCH (first:Cell&!Symbol WHERE NOT EXISTS {(:Cell&!Symbol)-[:NEXT]->(first)})\n",
    "    (()-[:NEXT]->(followings:Cell&!Symbol))*\n",
    "    (last:Cell&!Symbol WHERE NOT EXISTS {(last)-[:NEXT]->(:Cell&!Symbol)})\n",
    "WHERE any(cell IN [first]+followings WHERE (cell)--(:Symbol))\n",
    "WITH [first]+followings AS nodes, toInteger(apoc.text.join([cell IN [first]+followings | cell.symbol],\"\")) AS part_number\n",
    "UNWIND nodes AS n\n",
    "SET n.partNumber = part_number\n",
    "\"\"\")"
   ]
  },
  {
   "attachments": {},
   "cell_type": "markdown",
   "metadata": {},
   "source": [
    "### Part 1 solution"
   ]
  },
  {
   "cell_type": "code",
   "execution_count": null,
   "metadata": {},
   "outputs": [],
   "source": [
    "gds.run_cypher(\"\"\"\n",
    "MATCH (first:Cell&!Symbol WHERE NOT EXISTS {(:Cell&!Symbol)-[:NEXT]->(first)} AND first.partNumber IS NOT NULL)\n",
    "RETURN sum(first.partNumber) AS part1\n",
    "\"\"\")"
   ]
  },
  {
   "attachments": {},
   "cell_type": "markdown",
   "metadata": {},
   "source": [
    "### Part 2 solution"
   ]
  },
  {
   "cell_type": "code",
   "execution_count": null,
   "metadata": {},
   "outputs": [],
   "source": [
    "gds.run_cypher(\"\"\"\n",
    "MATCH (s:Symbol {symbol:'*'})--(p:Cell&!Symbol)\n",
    "WITH s, apoc.coll.toSet(collect(p.partNumber)) AS partNumbers\n",
    "WHERE size(partNumbers) = 2\n",
    "RETURN sum(partNumbers[0]*partNumbers[1]) AS part2\n",
    "\"\"\")"
   ]
  }
 ],
 "metadata": {
  "kernelspec": {
   "display_name": "Python 3",
   "language": "python",
   "name": "python3"
  },
  "language_info": {
   "codemirror_mode": {
    "name": "ipython",
    "version": 3
   },
   "file_extension": ".py",
   "mimetype": "text/x-python",
   "name": "python",
   "nbconvert_exporter": "python",
   "pygments_lexer": "ipython3",
   "version": "3.11.1"
  },
  "orig_nbformat": 4,
  "vscode": {
   "interpreter": {
    "hash": "1a1af0ee75eeea9e2e1ee996c87e7a2b11a0bebd85af04bb136d915cefc0abce"
   }
  }
 },
 "nbformat": 4,
 "nbformat_minor": 2
}
