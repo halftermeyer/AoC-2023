{
 "cells": [
  {
   "cell_type": "code",
   "execution_count": null,
   "metadata": {},
   "outputs": [],
   "source": [
    "file = open('input.txt', 'r')\n",
    "calibration_value_sum = 0\n",
    "for line in file:\n",
    "    digits =[c  for c in line if c.isdigit()]\n",
    "    calibration_value = digits[0]+digits[-1]\n",
    "    calibration_value_sum += int(calibration_value)\n",
    "{'part1':calibration_value_sum}"
   ]
  },
  {
   "cell_type": "code",
   "execution_count": null,
   "metadata": {},
   "outputs": [],
   "source": [
    "digit_dict = {'one':'1', 'two':'2', 'three':'3', 'four':'4', 'five':'5', 'six':'6', 'seven':'7', 'eight':'8', 'nine':'9'}\n",
    "\n",
    "def find_first_digit(line):\n",
    "    for ix,_ in enumerate(line):\n",
    "        prefix = line[0:ix]\n",
    "        for letters in digit_dict:\n",
    "            if letters in prefix:\n",
    "                return digit_dict[letters]\n",
    "            digits = [c for c in prefix if c.isdigit()]\n",
    "            if digits:\n",
    "                return digits[0]\n",
    "\n",
    "def find_last_digit(line):\n",
    "    for ix,_ in enumerate(line):\n",
    "        suffix = line[-ix-1:]\n",
    "        for letters in digit_dict:\n",
    "            if letters in suffix:\n",
    "                return digit_dict[letters]\n",
    "            digits = [c for c in suffix if c.isdigit()]\n",
    "            if digits:\n",
    "                return digits[0]\n",
    "\n",
    "file = open('input.txt', 'r')\n",
    "calibration_value_sum = 0\n",
    "for line in file:\n",
    "    calibration_value = find_first_digit(line)+find_last_digit(line)\n",
    "    calibration_value_sum += int(calibration_value)\n",
    "{'part2':calibration_value_sum}          "
   ]
  },
  {
   "cell_type": "code",
   "execution_count": null,
   "metadata": {},
   "outputs": [],
   "source": []
  }
 ],
 "metadata": {
  "kernelspec": {
   "display_name": "Python 3",
   "language": "python",
   "name": "python3"
  },
  "language_info": {
   "codemirror_mode": {
    "name": "ipython",
    "version": 3
   },
   "file_extension": ".py",
   "mimetype": "text/x-python",
   "name": "python",
   "nbconvert_exporter": "python",
   "pygments_lexer": "ipython3",
   "version": "3.11.1"
  },
  "orig_nbformat": 4,
  "vscode": {
   "interpreter": {
    "hash": "1a1af0ee75eeea9e2e1ee996c87e7a2b11a0bebd85af04bb136d915cefc0abce"
   }
  }
 },
 "nbformat": 4,
 "nbformat_minor": 2
}
