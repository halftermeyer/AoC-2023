{
 "cells": [
  {
   "attachments": {},
   "cell_type": "markdown",
   "metadata": {},
   "source": [
    "# Advent of code 2023\n",
    "\n",
    "## [Day 4](https://adventofcode.com/2023/day/4): Scratchcards\n",
    "\n",
    "### Solution in python\n",
    "\n",
    "#### part 1"
   ]
  },
  {
   "cell_type": "code",
   "execution_count": null,
   "metadata": {},
   "outputs": [],
   "source": [
    "file = open('input.txt', 'r')\n",
    "part1 = 0\n",
    "for ix, line in enumerate(file):\n",
    "    card, line = line.split(\":\")\n",
    "    card = int(card.split(\" \")[-1])\n",
    "    winning, had =  [[int(num.strip()) for num in l.split(\" \") if num] for l in line.split(\"|\")]\n",
    "    winning_had = [x for x in had if x in winning]\n",
    "    score = 0 if not winning_had else 2**(len(winning_had)-1)\n",
    "    part1 += score\n",
    "part1"
   ]
  },
  {
   "attachments": {},
   "cell_type": "markdown",
   "metadata": {},
   "source": [
    "#### part 2"
   ]
  },
  {
   "cell_type": "code",
   "execution_count": null,
   "metadata": {},
   "outputs": [],
   "source": [
    "file = open('input.txt', 'r')\n",
    "scratch_cards = {}\n",
    "for ix, line in enumerate(file):\n",
    "    card, line = line.split(\":\")\n",
    "    card = int(card.split(\" \")[-1])\n",
    "    winning, had =  [[int(num.strip()) for num in l.split(\" \") if num] for l in line.split(\"|\")]\n",
    "    winning_had = [x for x in had if x in winning]\n",
    "    matches = len(winning_had)\n",
    "    scratch_cards[card] = {\"matches\": matches, \"num\": 1}"
   ]
  },
  {
   "cell_type": "code",
   "execution_count": null,
   "metadata": {},
   "outputs": [],
   "source": [
    "for card_num in scratch_cards:\n",
    "    for offset in range(1, scratch_cards[card_num]['matches'] + 1):\n",
    "        scratch_cards[card_num + offset]['num'] += scratch_cards[card_num]['num']\n",
    "\n",
    "part2 = 0\n",
    "for card_num in scratch_cards:\n",
    "    part2 += scratch_cards[card_num]['num']\n",
    "part2"
   ]
  },
  {
   "attachments": {},
   "cell_type": "markdown",
   "metadata": {},
   "source": [
    "### Solution with Neo4j"
   ]
  },
  {
   "cell_type": "code",
   "execution_count": 60,
   "metadata": {},
   "outputs": [
    {
     "name": "stdout",
     "output_type": "stream",
     "text": [
      "2.5.5\n"
     ]
    }
   ],
   "source": [
    "from graphdatascience import GraphDataScience\n",
    "gds = GraphDataScience(NEO4J_URI, auth=(NEO4J_USER, NEO4J_PASSWORD))\n",
    "\n",
    "# Check the installed GDS version on the server\n",
    "print(gds.version())\n",
    "assert gds.version()"
   ]
  },
  {
   "attachments": {},
   "cell_type": "markdown",
   "metadata": {},
   "source": [
    "#### preprocessing data"
   ]
  },
  {
   "cell_type": "code",
   "execution_count": 127,
   "metadata": {},
   "outputs": [],
   "source": [
    "file = open('input.txt', 'r')\n",
    "scratch_cards = [] \n",
    "for ix, line in enumerate(file):\n",
    "    card, line = line.split(\":\")\n",
    "    card = int(card.split(\" \")[-1])\n",
    "    winning, had =  [[int(num.strip()) for num in l.split(\" \") if num] for l in line.split(\"|\")]\n",
    "    scratch_cards.append({\"card\":card, \"winning\":winning, \"had\":had})"
   ]
  },
  {
   "attachments": {},
   "cell_type": "markdown",
   "metadata": {},
   "source": [
    "#### part 1"
   ]
  },
  {
   "cell_type": "code",
   "execution_count": 128,
   "metadata": {},
   "outputs": [
    {
     "data": {
      "text/html": [
       "<div>\n",
       "<style scoped>\n",
       "    .dataframe tbody tr th:only-of-type {\n",
       "        vertical-align: middle;\n",
       "    }\n",
       "\n",
       "    .dataframe tbody tr th {\n",
       "        vertical-align: top;\n",
       "    }\n",
       "\n",
       "    .dataframe thead th {\n",
       "        text-align: right;\n",
       "    }\n",
       "</style>\n",
       "<table border=\"1\" class=\"dataframe\">\n",
       "  <thead>\n",
       "    <tr style=\"text-align: right;\">\n",
       "      <th></th>\n",
       "      <th>part1</th>\n",
       "    </tr>\n",
       "  </thead>\n",
       "  <tbody>\n",
       "    <tr>\n",
       "      <th>0</th>\n",
       "      <td>24175</td>\n",
       "    </tr>\n",
       "  </tbody>\n",
       "</table>\n",
       "</div>"
      ],
      "text/plain": [
       "   part1\n",
       "0  24175"
      ]
     },
     "execution_count": 128,
     "metadata": {},
     "output_type": "execute_result"
    }
   ],
   "source": [
    "query =\"\"\"\n",
    "UNWIND $scratch_cards AS card\n",
    "WITH size([h IN card.had WHERE h IN card.winning]) AS wins\n",
    "WITH CASE wins WHEN 0 THEN 0 ELSE toInteger(2^(wins-1)) END AS score\n",
    "RETURN sum(score) AS part1\n",
    "\"\"\"\n",
    "gds.run_cypher(query, {\"scratch_cards\":scratch_cards})"
   ]
  },
  {
   "attachments": {},
   "cell_type": "markdown",
   "metadata": {},
   "source": [
    "#### part 2"
   ]
  },
  {
   "cell_type": "code",
   "execution_count": 130,
   "metadata": {},
   "outputs": [
    {
     "data": {
      "text/html": [
       "<div>\n",
       "<style scoped>\n",
       "    .dataframe tbody tr th:only-of-type {\n",
       "        vertical-align: middle;\n",
       "    }\n",
       "\n",
       "    .dataframe tbody tr th {\n",
       "        vertical-align: top;\n",
       "    }\n",
       "\n",
       "    .dataframe thead th {\n",
       "        text-align: right;\n",
       "    }\n",
       "</style>\n",
       "<table border=\"1\" class=\"dataframe\">\n",
       "  <thead>\n",
       "    <tr style=\"text-align: right;\">\n",
       "      <th></th>\n",
       "      <th>part2</th>\n",
       "    </tr>\n",
       "  </thead>\n",
       "  <tbody>\n",
       "    <tr>\n",
       "      <th>0</th>\n",
       "      <td>18846301</td>\n",
       "    </tr>\n",
       "  </tbody>\n",
       "</table>\n",
       "</div>"
      ],
      "text/plain": [
       "      part2\n",
       "0  18846301"
      ]
     },
     "execution_count": 130,
     "metadata": {},
     "output_type": "execute_result"
    }
   ],
   "source": [
    "query =\"\"\"\n",
    "UNWIND $scratch_cards AS card\n",
    "WITH size([h IN card.had WHERE h IN card.winning]) AS wins\n",
    "WITH collect(wins) AS wins\n",
    "WITH [ix IN range(0, size(wins)-1) | [1,wins[ix]]] AS accumulator\n",
    "WITH reduce(acc=accumulator, ix IN range(0, size(accumulator)-1) |\n",
    "    [ix_acc IN range(0,size(acc)-1) | CASE ix < ix_acc <= ix + acc[ix][1]\n",
    "        WHEN TRUE THEN [ acc[ix_acc][0] + acc[ix][0]  , acc[ix_acc][1]]\n",
    "        ELSE acc[ix_acc] END ]) AS processed\n",
    "UNWIND processed AS card\n",
    "RETURN sum(card[0]) AS part2\n",
    "\"\"\"\n",
    "gds.run_cypher(query, {\"scratch_cards\":scratch_cards})"
   ]
  },
  {
   "cell_type": "code",
   "execution_count": null,
   "metadata": {},
   "outputs": [],
   "source": []
  },
  {
   "cell_type": "markdown",
   "metadata": {},
   "source": []
  }
 ],
 "metadata": {
  "kernelspec": {
   "display_name": "Python 3",
   "language": "python",
   "name": "python3"
  },
  "language_info": {
   "codemirror_mode": {
    "name": "ipython",
    "version": 3
   },
   "file_extension": ".py",
   "mimetype": "text/x-python",
   "name": "python",
   "nbconvert_exporter": "python",
   "pygments_lexer": "ipython3",
   "version": "3.11.1"
  },
  "orig_nbformat": 4,
  "vscode": {
   "interpreter": {
    "hash": "1a1af0ee75eeea9e2e1ee996c87e7a2b11a0bebd85af04bb136d915cefc0abce"
   }
  }
 },
 "nbformat": 4,
 "nbformat_minor": 2
}
