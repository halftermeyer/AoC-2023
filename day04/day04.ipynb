{
 "cells": [
  {
   "attachments": {},
   "cell_type": "markdown",
   "metadata": {},
   "source": [
    "# Advent of code 2023\n",
    "\n",
    "## [Day 4](https://adventofcode.com/2023/day/4): Scratchcards\n",
    "\n",
    "### Solution in python\n",
    "\n",
    "#### part 1"
   ]
  },
  {
   "cell_type": "code",
   "execution_count": null,
   "metadata": {},
   "outputs": [],
   "source": [
    "file = open('input.txt', 'r')\n",
    "part1 = 0\n",
    "for ix, line in enumerate(file):\n",
    "    card, line = line.split(\":\")\n",
    "    card = int(card.split(\" \")[-1])\n",
    "    winning, had =  [[int(num.strip()) for num in l.split(\" \") if num] for l in line.split(\"|\")]\n",
    "    winning_had = [x for x in had if x in winning]\n",
    "    score = 0 if not winning_had else 2**(len(winning_had)-1)\n",
    "    part1 += score\n",
    "part1"
   ]
  },
  {
   "attachments": {},
   "cell_type": "markdown",
   "metadata": {},
   "source": [
    "#### part 2"
   ]
  },
  {
   "cell_type": "code",
   "execution_count": null,
   "metadata": {},
   "outputs": [],
   "source": [
    "file = open('input.txt', 'r')\n",
    "scratch_cards = {}\n",
    "for ix, line in enumerate(file):\n",
    "    card, line = line.split(\":\")\n",
    "    card = int(card.split(\" \")[-1])\n",
    "    winning, had =  [[int(num.strip()) for num in l.split(\" \") if num] for l in line.split(\"|\")]\n",
    "    winning_had = [x for x in had if x in winning]\n",
    "    matches = len(winning_had)\n",
    "    scratch_cards[card] = {\"matches\": matches, \"num\": 1}"
   ]
  },
  {
   "cell_type": "code",
   "execution_count": null,
   "metadata": {},
   "outputs": [],
   "source": [
    "for card_num in scratch_cards:\n",
    "    for offset in range(1, scratch_cards[card_num]['matches'] + 1):\n",
    "        scratch_cards[card_num + offset]['num'] += scratch_cards[card_num]['num']\n",
    "\n",
    "part2 = 0\n",
    "for card_num in scratch_cards:\n",
    "    part2 += scratch_cards[card_num]['num']\n",
    "part2"
   ]
  }
 ],
 "metadata": {
  "kernelspec": {
   "display_name": "Python 3",
   "language": "python",
   "name": "python3"
  },
  "language_info": {
   "codemirror_mode": {
    "name": "ipython",
    "version": 3
   },
   "file_extension": ".py",
   "mimetype": "text/x-python",
   "name": "python",
   "nbconvert_exporter": "python",
   "pygments_lexer": "ipython3",
   "version": "3.11.1"
  },
  "orig_nbformat": 4,
  "vscode": {
   "interpreter": {
    "hash": "1a1af0ee75eeea9e2e1ee996c87e7a2b11a0bebd85af04bb136d915cefc0abce"
   }
  }
 },
 "nbformat": 4,
 "nbformat_minor": 2
}
