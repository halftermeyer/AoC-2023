{
 "cells": [
  {
   "attachments": {},
   "cell_type": "markdown",
   "metadata": {},
   "source": [
    "# Part 1"
   ]
  },
  {
   "cell_type": "code",
   "execution_count": null,
   "metadata": {},
   "outputs": [],
   "source": [
    "def get_weight_hash(w, n):\n",
    "    weight = n*(w-n) + (n * (n+1) / 2) \n",
    "    return weight"
   ]
  },
  {
   "cell_type": "code",
   "execution_count": null,
   "metadata": {},
   "outputs": [],
   "source": [
    "def weight_col(col):\n",
    "    w = len(col)\n",
    "    col_w = [w-i-1 if x == '#' else x for i, x in enumerate(col)]\n",
    "    weight = 0\n",
    "    weight_hash, num_O = 0, 0\n",
    "    for x in col_w:\n",
    "        if isinstance(x,int):\n",
    "            weight += get_weight_hash(weight_hash, num_O)\n",
    "            weight_hash = x\n",
    "            num_O = 0\n",
    "        if x == 'O':\n",
    "            num_O += 1\n",
    "    weight += get_weight_hash(weight_hash, num_O)\n",
    "    return weight\n",
    "    \n",
    "\n",
    "    "
   ]
  },
  {
   "cell_type": "code",
   "execution_count": null,
   "metadata": {},
   "outputs": [],
   "source": [
    "input_file = 'input.txt'\n",
    "with open(input_file, 'r') as f:\n",
    "    grid =[]\n",
    "    for line in f.read().split('\\n'):\n",
    "        if line.strip() == '':\n",
    "            continue\n",
    "        grid.append(line)\n",
    "    first = \"#\"*len(grid[0])\n",
    "    grid = [first]+grid\n",
    "\n",
    "cols = list(zip(*grid))\n",
    "\n",
    "weight = 0\n",
    "for c in cols:\n",
    "    weight += weight_col(c)\n",
    "\n",
    "part1 = int(weight)\n",
    "part1"
   ]
  },
  {
   "attachments": {},
   "cell_type": "markdown",
   "metadata": {},
   "source": [
    "# Part 2"
   ]
  },
  {
   "cell_type": "code",
   "execution_count": null,
   "metadata": {},
   "outputs": [],
   "source": [
    "from functools import cache"
   ]
  },
  {
   "cell_type": "code",
   "execution_count": null,
   "metadata": {},
   "outputs": [],
   "source": [
    "input_file = 'input.txt'\n",
    "with open(input_file, 'r') as f:\n",
    "    grid =[]\n",
    "    for line in f.read().split('\\n'):\n",
    "        if line.strip() == '':\n",
    "            continue\n",
    "        grid.append('#'+line+'#')\n",
    "    first = \"#\"*len(grid[0])\n",
    "    grid = tuple([tuple(line) for line in [first]+grid+[first]])"
   ]
  },
  {
   "cell_type": "code",
   "execution_count": null,
   "metadata": {},
   "outputs": [],
   "source": [
    "@cache\n",
    "def tilt_N(grid):\n",
    "    grid_l = [list(line) for line in grid]\n",
    "    change = 1\n",
    "    while change > 0:\n",
    "        change = 0\n",
    "        for j, _ in enumerate(grid_l[:-1]):\n",
    "            for i, _ in enumerate(grid_l[j]):\n",
    "                if grid_l[j][i] == '.' and grid_l[j+1][i] == 'O':\n",
    "                    grid_l[j][i] = 'O'\n",
    "                    grid_l[j+1][i] = '.'\n",
    "                    change += 1\n",
    "    return tuple([tuple(line) for line in grid_l])\n",
    "@cache\n",
    "def tilt_S(grid):\n",
    "    grid_l = [list(line) for line in grid]\n",
    "    change = 1\n",
    "    while change > 0:\n",
    "        change = 0\n",
    "        for j, _ in enumerate(grid_l[:-1]):\n",
    "            for i, _ in enumerate(grid_l[j]):\n",
    "                if grid_l[-j][i] == '.' and grid_l[-(j+1)][i] == 'O':\n",
    "                    grid_l[-j][i] = 'O'\n",
    "                    grid_l[-(j+1)][i] = '.'\n",
    "                    change += 1\n",
    "    return tuple([tuple(line) for line in grid_l])\n",
    "\n",
    "@cache\n",
    "def tilt_W(grid):\n",
    "    grid_l = [list(line) for line in grid]\n",
    "    change = 1\n",
    "    while change > 0:\n",
    "        change = 0\n",
    "        for j, _ in enumerate(grid_l):\n",
    "            for i, _ in enumerate(grid_l[j]):\n",
    "                if grid_l[j][i] == '.' and grid_l[j][i+1] == 'O':\n",
    "                    grid_l[j][i] = 'O'\n",
    "                    grid_l[j][i+1] = '.'\n",
    "                    change += 1\n",
    "    return tuple([tuple(line) for line in grid_l])\n",
    "\n",
    "@cache\n",
    "def tilt_E(grid):\n",
    "    grid_l = [list(line) for line in grid]\n",
    "    change = 1\n",
    "    while change > 0:\n",
    "        change = 0\n",
    "        for j, _ in enumerate(grid_l):\n",
    "            for i, _ in enumerate(grid_l[j]):\n",
    "                if grid_l[j][-i] == '.' and grid_l[j][-(i+1)] == 'O':\n",
    "                    grid_l[j][-i] = 'O'\n",
    "                    grid_l[j][-(i+1)] = '.'\n",
    "                    change += 1\n",
    "    return tuple([tuple(line) for line in grid_l])\n",
    "\n"
   ]
  },
  {
   "cell_type": "code",
   "execution_count": null,
   "metadata": {},
   "outputs": [],
   "source": [
    "@cache\n",
    "def tilt_cycle(grid):\n",
    "    return tilt_E(tilt_S(tilt_W(tilt_N(grid))))"
   ]
  },
  {
   "cell_type": "code",
   "execution_count": null,
   "metadata": {},
   "outputs": [],
   "source": [
    "def N_weight(g):\n",
    "    w = 0\n",
    "    for ix, line in enumerate(reversed(g)):\n",
    "        for c in line:\n",
    "            if c == 'O':\n",
    "                w += ix\n",
    "    return w"
   ]
  },
  {
   "cell_type": "code",
   "execution_count": null,
   "metadata": {},
   "outputs": [],
   "source": [
    "curr = grid\n",
    "\n",
    "weights =[]\n",
    "for c_num in range(0,500):\n",
    "    curr = tilt_cycle(curr)\n",
    "    weights.append(N_weight(curr))"
   ]
  },
  {
   "cell_type": "code",
   "execution_count": null,
   "metadata": {},
   "outputs": [],
   "source": [
    "period = -1\n",
    "for p in range(1,1000):\n",
    "    deltas = [weights[200+i+p]-weights[200+i] for i in range(1,5)]\n",
    "    if all(d ==0 for d in deltas):\n",
    "        period = p\n",
    "        break\n",
    "period\n"
   ]
  },
  {
   "cell_type": "code",
   "execution_count": null,
   "metadata": {},
   "outputs": [],
   "source": [
    "modulo = 1000_000_000%period\n",
    "w1, w2, w3 = 1, 2, 3\n",
    "for i, w in enumerate(weights):\n",
    "    if (i+1)%period == modulo:\n",
    "        w1 = w2\n",
    "        w2 = w3\n",
    "        w3 = w\n",
    "    if w1 == w2 and w2 == w3:\n",
    "        part2 = w\n",
    "        break\n",
    "part2\n",
    "        \n"
   ]
  }
 ],
 "metadata": {
  "kernelspec": {
   "display_name": "Python 3",
   "language": "python",
   "name": "python3"
  },
  "language_info": {
   "codemirror_mode": {
    "name": "ipython",
    "version": 3
   },
   "file_extension": ".py",
   "mimetype": "text/x-python",
   "name": "python",
   "nbconvert_exporter": "python",
   "pygments_lexer": "ipython3",
   "version": "3.11.1"
  },
  "orig_nbformat": 4,
  "vscode": {
   "interpreter": {
    "hash": "1a1af0ee75eeea9e2e1ee996c87e7a2b11a0bebd85af04bb136d915cefc0abce"
   }
  }
 },
 "nbformat": 4,
 "nbformat_minor": 2
}
