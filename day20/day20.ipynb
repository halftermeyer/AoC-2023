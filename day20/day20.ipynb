{
 "cells": [
  {
   "cell_type": "code",
   "execution_count": null,
   "metadata": {},
   "outputs": [],
   "source": [
    "from collections import deque\n",
    "from collections import defaultdict"
   ]
  },
  {
   "cell_type": "code",
   "execution_count": 369,
   "metadata": {},
   "outputs": [],
   "source": [
    "input_file = \"input.txt\""
   ]
  },
  {
   "cell_type": "code",
   "execution_count": 370,
   "metadata": {},
   "outputs": [],
   "source": [
    "def parse_name(name, dests):\n",
    "    if name == 'broadcaster':\n",
    "        return {'name':'broadcaster', 'type':'broadcaster', 'params':{}, 'dests':dests}\n",
    "    if name[0] == '%':\n",
    "        return {'name':name[1:], 'type':'flip-flop', 'params':{'state':False}, 'dests':dests}\n",
    "    if name[0] == '&':\n",
    "        return {'name':name[1:], 'type':'conjunction', 'params':{'memory':{}}, 'dests':dests}"
   ]
  },
  {
   "cell_type": "code",
   "execution_count": null,
   "metadata": {},
   "outputs": [],
   "source": [
    "def processFactory(m):\n",
    "    def process(source, pulse):\n",
    "        if modules[m]['type'] == 'output':\n",
    "            return\n",
    "\n",
    "        if modules[m]['type'] == 'broadcaster':\n",
    "            for dest in modules[m]['dests']:\n",
    "                    fifo.append((m, pulse, dest))\n",
    "\n",
    "        if modules[m]['type'] == 'flip-flop':\n",
    "            if(pulse):\n",
    "                return\n",
    "            modules[m]['params']['state'] = not modules[m]['params']['state']\n",
    "            for dest in modules[m]['dests']:\n",
    "                fifo.append((m, modules[m]['params']['state'], dest))\n",
    "\n",
    "        if modules[m]['type'] == 'conjunction':\n",
    "            modules[m]['params']['memory'][source] = pulse\n",
    "            if all(modules[m]['params']['memory'][k] for k in modules[m]['params']['memory']):\n",
    "                #sends low\n",
    "                for dest in modules[m]['dests']:\n",
    "                    fifo.append((m, False, dest))\n",
    "            else:\n",
    "                #sends high\n",
    "                for dest in modules[m]['dests']:\n",
    "                    fifo.append((m, True, dest))\n",
    "\n",
    "    return process"
   ]
  },
  {
   "cell_type": "code",
   "execution_count": null,
   "metadata": {},
   "outputs": [],
   "source": [
    "lines = open(input_file, 'r').readlines()\n",
    "lines = [line.split(' -> ') for line in lines]\n",
    "lines = [(parse_name(name,dests.strip().split(', '))) for name, dests in lines]\n",
    "modules = {}\n",
    "\n",
    "for line in lines:\n",
    "    modules[line['name']]=line\n",
    "\n",
    "output_modules = []\n",
    "for m in modules:\n",
    "    for d in modules[m]['dests']:\n",
    "        if d not in modules:\n",
    "            output_modules.append(d)\n",
    "\n",
    "for out_m in output_modules:\n",
    "    modules[out_m] = {'name':out_m, 'type':'output', 'dests':[]}\n",
    "\n",
    "for m in modules:\n",
    "    for d in modules[m]['dests']:\n",
    "        if modules[d]['type'] == 'conjunction':\n",
    "            modules[d]['params']['memory'][m] = False\n",
    "\n",
    "for k in modules:\n",
    "    p = processFactory(k)\n",
    "    modules[k]['process'] = p"
   ]
  },
  {
   "cell_type": "code",
   "execution_count": null,
   "metadata": {},
   "outputs": [],
   "source": [
    "lows = 0\n",
    "highs = 0\n",
    "for _ in range(0,1000):\n",
    "    fifo = deque([('button', False,'broadcaster')])\n",
    "    while len(fifo) > 0:\n",
    "        source, pulse, dest = fifo.popleft()\n",
    "        if pulse:\n",
    "            highs += 1\n",
    "        else:\n",
    "            lows += 1\n",
    "        #print(source, '-[', pulse ,']->', dest)\n",
    "        modules[dest]['process'](source, pulse)\n",
    "part1 = lows*highs\n",
    "part1"
   ]
  },
  {
   "attachments": {},
   "cell_type": "markdown",
   "metadata": {},
   "source": [
    "# part 2 - does not scale"
   ]
  },
  {
   "cell_type": "code",
   "execution_count": null,
   "metadata": {},
   "outputs": [],
   "source": [
    "part2 = 0\n",
    "conjuction_cycles = {}\n",
    "for _ in range(0,5000):\n",
    "    part2 += 1\n",
    "    low_sent_to_rx = False\n",
    "    fifo = deque([('button', False,'broadcaster')])\n",
    "    while len(fifo) > 0:\n",
    "        source, pulse, dest = fifo.popleft()\n",
    "        if dest == 'rx' and not pulse:\n",
    "            low_sent_to_rx = True\n",
    "            break\n",
    "        #print(source, '-[', pulse ,']->', dest)\n",
    "        modules[dest]['process'](source, pulse)\n",
    "    if low_sent_to_rx:\n",
    "        break"
   ]
  },
  {
   "attachments": {},
   "cell_type": "markdown",
   "metadata": {},
   "source": [
    "# part 2 - conjunction of conjunction cycles"
   ]
  },
  {
   "cell_type": "code",
   "execution_count": 389,
   "metadata": {},
   "outputs": [],
   "source": [
    "def processFactory(m):\n",
    "    def process(source, pulse, i):\n",
    "        if modules[m]['type'] == 'output':\n",
    "            return\n",
    "\n",
    "        if modules[m]['type'] == 'broadcaster':\n",
    "            for dest in modules[m]['dests']:\n",
    "                    fifo.append((m, pulse, dest))\n",
    "\n",
    "        if modules[m]['type'] == 'flip-flop':\n",
    "            if(pulse):\n",
    "                return\n",
    "            modules[m]['params']['state'] = not modules[m]['params']['state']\n",
    "            for dest in modules[m]['dests']:\n",
    "                fifo.append((m, modules[m]['params']['state'], dest))\n",
    "\n",
    "        if modules[m]['type'] == 'conjunction':\n",
    "            modules[m]['params']['memory'][source] = pulse\n",
    "            if all(modules[m]['params']['memory'][k] for k in modules[m]['params']['memory']):\n",
    "                #sends low\n",
    "                for dest in modules[m]['dests']:\n",
    "                    fifo.append((m, False, dest))\n",
    "                    # here we compute the cycles\n",
    "                    if m not in conjuction_cycles:\n",
    "                        conjuction_cycles[m] = i\n",
    "            else:\n",
    "                #sends high\n",
    "                for dest in modules[m]['dests']:\n",
    "                    fifo.append((m, True, dest))\n",
    "\n",
    "    return process"
   ]
  },
  {
   "cell_type": "code",
   "execution_count": 390,
   "metadata": {},
   "outputs": [],
   "source": [
    "lines = open(input_file, 'r').readlines()\n",
    "lines = [line.split(' -> ') for line in lines]\n",
    "lines = [(parse_name(name,dests.strip().split(', '))) for name, dests in lines]\n",
    "modules = {}\n",
    "\n",
    "for line in lines:\n",
    "    modules[line['name']]=line\n",
    "\n",
    "output_modules = []\n",
    "for m in modules:\n",
    "    for d in modules[m]['dests']:\n",
    "        if d not in modules:\n",
    "            output_modules.append(d)\n",
    "\n",
    "for out_m in output_modules:\n",
    "    modules[out_m] = {'name':out_m, 'type':'output', 'dests':[]}\n",
    "\n",
    "for m in modules:\n",
    "    for d in modules[m]['dests']:\n",
    "        if modules[d]['type'] == 'conjunction':\n",
    "            modules[d]['params']['memory'][m] = False\n",
    "\n",
    "for k in modules:\n",
    "    p = processFactory(k)\n",
    "    modules[k]['process'] = p"
   ]
  },
  {
   "cell_type": "code",
   "execution_count": 400,
   "metadata": {},
   "outputs": [
    {
     "data": {
      "text/plain": [
       "29728720800"
      ]
     },
     "execution_count": 400,
     "metadata": {},
     "output_type": "execute_result"
    }
   ],
   "source": [
    "from functools import reduce\n",
    "\n",
    "lows = 0\n",
    "highs = 0\n",
    "conjuction_cycles = {}\n",
    "for i in range(1,10000):\n",
    "    fifo = deque([('button', False,'broadcaster')])\n",
    "    while len(fifo) > 0:\n",
    "        source, pulse, dest = fifo.popleft()\n",
    "        #print(source, '-[', pulse ,']->', dest)\n",
    "        modules[dest]['process'](source, pulse,i)\n",
    "\n",
    "part2 = reduce(lambda a,b: a*b, conjuction_cycles.values())\n",
    "part2"
   ]
  }
 ],
 "metadata": {
  "kernelspec": {
   "display_name": "Python 3",
   "language": "python",
   "name": "python3"
  },
  "language_info": {
   "codemirror_mode": {
    "name": "ipython",
    "version": 3
   },
   "file_extension": ".py",
   "mimetype": "text/x-python",
   "name": "python",
   "nbconvert_exporter": "python",
   "pygments_lexer": "ipython3",
   "version": "3.11.1"
  },
  "orig_nbformat": 4,
  "vscode": {
   "interpreter": {
    "hash": "1a1af0ee75eeea9e2e1ee996c87e7a2b11a0bebd85af04bb136d915cefc0abce"
   }
  }
 },
 "nbformat": 4,
 "nbformat_minor": 2
}
