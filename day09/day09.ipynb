{
 "cells": [
  {
   "cell_type": "code",
   "execution_count": 74,
   "metadata": {},
   "outputs": [],
   "source": [
    "input_file = \"input.txt\""
   ]
  },
  {
   "cell_type": "code",
   "execution_count": 75,
   "metadata": {},
   "outputs": [],
   "source": [
    "file = open(input_file, 'r')\n",
    "values = []\n",
    "for ix, line in enumerate(file):\n",
    "   sequence = [int(x) for x in line.strip().split(' ')]\n",
    "   values.append([sequence])"
   ]
  },
  {
   "cell_type": "code",
   "execution_count": 76,
   "metadata": {},
   "outputs": [
    {
     "data": {
      "text/plain": [
       "1953784198"
      ]
     },
     "execution_count": 76,
     "metadata": {},
     "output_type": "execute_result"
    }
   ],
   "source": [
    "for value in values:\n",
    "    while not all(x == 0  for x in value[-1]):\n",
    "        #print(\"last: \", value[-1])\n",
    "        next_seq = []\n",
    "        for ix, _ in enumerate (value[-1][:-1]):\n",
    "            #print(next_seq)\n",
    "            next_seq.append(value[-1][ix+1] - value[-1][ix])\n",
    "        value.append(next_seq)\n",
    "\n",
    "lasts_per_val = []\n",
    "for value in values:\n",
    "    lasts = []\n",
    "    for seq in reversed(value):\n",
    "        lasts.append(seq[-1])\n",
    "    lasts_per_val.append(lasts)\n",
    "\n",
    "part1 = sum([sum(lasts) for lasts in lasts_per_val])\n",
    "part1"
   ]
  },
  {
   "cell_type": "code",
   "execution_count": 77,
   "metadata": {},
   "outputs": [],
   "source": [
    "firsts_per_val = []\n",
    "for value in values:\n",
    "    firsts = []\n",
    "    for seq in reversed(value):\n",
    "        firsts.append(seq[0])\n",
    "    firsts_per_val.append(firsts)"
   ]
  },
  {
   "cell_type": "code",
   "execution_count": 78,
   "metadata": {},
   "outputs": [
    {
     "data": {
      "text/plain": [
       "957"
      ]
     },
     "execution_count": 78,
     "metadata": {},
     "output_type": "execute_result"
    }
   ],
   "source": [
    "part2 = 0\n",
    "for firsts in firsts_per_val:\n",
    "    pred = 0\n",
    "    for x in firsts:\n",
    "        pred = x-pred\n",
    "    part2 += pred\n",
    "part2"
   ]
  }
 ],
 "metadata": {
  "kernelspec": {
   "display_name": "Python 3",
   "language": "python",
   "name": "python3"
  },
  "language_info": {
   "codemirror_mode": {
    "name": "ipython",
    "version": 3
   },
   "file_extension": ".py",
   "mimetype": "text/x-python",
   "name": "python",
   "nbconvert_exporter": "python",
   "pygments_lexer": "ipython3",
   "version": "3.11.1"
  },
  "orig_nbformat": 4,
  "vscode": {
   "interpreter": {
    "hash": "1a1af0ee75eeea9e2e1ee996c87e7a2b11a0bebd85af04bb136d915cefc0abce"
   }
  }
 },
 "nbformat": 4,
 "nbformat_minor": 2
}
