{
 "cells": [
  {
   "attachments": {},
   "cell_type": "markdown",
   "metadata": {},
   "source": [
    "# Part 1"
   ]
  },
  {
   "cell_type": "code",
   "execution_count": null,
   "metadata": {},
   "outputs": [],
   "source": [
    "NEO4J_URI = \"neo4j://localhost:7687\"\n",
    "NEO4J_USER = \"neo4j\"\n",
    "NEO4J_PASSWORD = \"pierre!!\""
   ]
  },
  {
   "cell_type": "code",
   "execution_count": null,
   "metadata": {},
   "outputs": [],
   "source": [
    "from graphdatascience import GraphDataScience\n",
    "gds = GraphDataScience(NEO4J_URI, auth=(NEO4J_USER, NEO4J_PASSWORD))\n",
    "\n",
    "# Check the installed GDS version on the server\n",
    "print(gds.version())\n",
    "assert gds.version()"
   ]
  },
  {
   "cell_type": "code",
   "execution_count": null,
   "metadata": {},
   "outputs": [],
   "source": [
    "edges = {\n",
    "    '.':{'N':['S'], 'S':['N'], 'E':['W'], 'W':['E']},\n",
    "    '-':{'N':['E','W'], 'S':['E','W'], 'E':['W'], 'W':['E']},\n",
    "    '|':{'N':['S'], 'S':['N'], 'E':['N','S'], 'W':['N','S']},\n",
    "    '/':{'N':['W'], 'S':['E'], 'E':['S'], 'W':['N']},\n",
    "    '\\\\':{'N':['E'], 'S':['W'], 'E':['N'], 'W':['S']}\n",
    "}"
   ]
  },
  {
   "cell_type": "code",
   "execution_count": null,
   "metadata": {},
   "outputs": [],
   "source": [
    "gds.run_cypher(\"\"\"CREATE INDEX point_row_col IF NOT EXISTS\n",
    "FOR (p:Point) ON (p.row, p.col)\"\"\")"
   ]
  },
  {
   "cell_type": "code",
   "execution_count": null,
   "metadata": {},
   "outputs": [],
   "source": [
    "input_file = \"input.txt\""
   ]
  },
  {
   "cell_type": "code",
   "execution_count": null,
   "metadata": {},
   "outputs": [],
   "source": [
    "lines = [{'ix':i, 'line':l[:-1]} for i, l in enumerate(open(input_file, 'r').readlines(), 1)]\n",
    "\n",
    "gds.run_cypher(\"\"\"\n",
    "UNWIND $lines AS line\n",
    "WITH line.ix AS ix, line.line AS line\n",
    "CALL {\n",
    "WITH ix, line\n",
    "WITH ix, split(line,'') AS line\n",
    "WITH [col IN range(0,size(line)-1) | {row:ix, col:col+1, c:line[col]}] AS line\n",
    "UNWIND line AS point\n",
    "CREATE (p:Point:Cell) SET p = point\n",
    "} IN TRANSACTIONS OF 10000 ROWS\n",
    "\"\"\", {'lines':lines})"
   ]
  },
  {
   "cell_type": "code",
   "execution_count": null,
   "metadata": {},
   "outputs": [],
   "source": [
    "gds.run_cypher(\"\"\"\n",
    "MATCH (p:Point&Cell)\n",
    "CALL {\n",
    "WITH p\n",
    "MERGE (n:Point:Port {col:p.col, row:p.row - 0.5})\n",
    "MERGE (s:Point:Port {col:p.col, row: p.row + 0.5})\n",
    "MERGE (e:Point:Port {col:p.col + 0.5, row: p.row})\n",
    "MERGE (w:Point:Port {col:p.col - 0.5, row: p.row})\n",
    "MERGE (p)<-[:IS_PORT_OF {dir:'N'}]-(n)\n",
    "MERGE (p)<-[:IS_PORT_OF {dir:'S'}]-(s)\n",
    "MERGE (p)<-[:IS_PORT_OF {dir:'E'}]-(e)\n",
    "MERGE (p)<-[:IS_PORT_OF {dir:'W'}]-(w)\n",
    "} IN TRANSACTIONS OF 1000 ROWS\n",
    "\"\"\")"
   ]
  },
  {
   "cell_type": "code",
   "execution_count": null,
   "metadata": {},
   "outputs": [],
   "source": [
    "query = \"\"\"MATCH (in_port)-[:IS_PORT_OF {dir:$in_dir}]->(c:Point:Cell {c:$sym})\n",
    "                <-[:IS_PORT_OF {dir:$out_dir}]-(out_port)\n",
    "                MERGE (in_port)-[:CONNECTS {from_cell:elementId(c)}]->(out_port)\"\"\"\n",
    "for sym in edges:\n",
    "    for in_dir in edges[sym]:\n",
    "        for out_dir in edges[sym][in_dir]:\n",
    "            gds.run_cypher(query, {'sym':sym, 'in_dir': in_dir, 'out_dir': out_dir})\n"
   ]
  },
  {
   "cell_type": "code",
   "execution_count": null,
   "metadata": {},
   "outputs": [],
   "source": [
    "gds.run_cypher(\"\"\"\n",
    "MATCH (p:Point {col:1, row:1})<-[:IS_PORT_OF {dir:'W'}]->(source:Port)\n",
    "SET source:Source\n",
    "\"\"\")"
   ]
  },
  {
   "cell_type": "code",
   "execution_count": null,
   "metadata": {},
   "outputs": [],
   "source": [
    "gds.run_cypher(\"\"\"\n",
    "MATCH (p:Port)\n",
    "WHERE EXISTS {(s:Source)-[rs:CONNECTS]->*(p)}\n",
    "WITH DISTINCT p\n",
    "MATCH (p)-[:IS_PORT_OF]->(c:Cell)\n",
    "WITH DISTINCT c\n",
    "RETURN count(c) AS part1\n",
    "\"\"\")"
   ]
  },
  {
   "cell_type": "code",
   "execution_count": null,
   "metadata": {},
   "outputs": [],
   "source": [
    "# alternative part 1\n",
    "gds.run_cypher(\"\"\"\n",
    "MATCH (s:Source)\n",
    "SET s:Lit\n",
    "\"\"\")\n",
    "gds.run_cypher(\"\"\"\n",
    "CALL apoc.periodic.commit('\n",
    "MATCH (:Port&Lit)-[:CONNECTS]->(p:Port&!Lit)\n",
    "SET p:Lit\n",
    "WITH count(p) AS limit\n",
    "RETURN limit\n",
    "', {})\n",
    "\"\"\")\n",
    "gds.run_cypher(\"\"\"\n",
    "MATCH (c:Cell)\n",
    "WHERE EXISTS {(c)<-[:IS_PORT_OF]-(:Lit)}\n",
    "RETURN count(c) AS part1\n",
    "\"\"\")\n"
   ]
  },
  {
   "attachments": {},
   "cell_type": "markdown",
   "metadata": {},
   "source": [
    "# Part 2"
   ]
  },
  {
   "cell_type": "code",
   "execution_count": null,
   "metadata": {},
   "outputs": [],
   "source": [
    "gds.run_cypher(\"\"\"\n",
    "MATCH (p:Port)\n",
    "WITH p, count {(p)-[:IS_PORT_OF]->()} AS deg\n",
    "WHERE deg = 1\n",
    "SET p:Edge\"\"\")"
   ]
  },
  {
   "cell_type": "code",
   "execution_count": null,
   "metadata": {},
   "outputs": [],
   "source": [
    "gds.run_cypher(\"\"\"\n",
    "CALL apoc.periodic.iterate(\n",
    "'MATCH (s:Edge)\n",
    "RETURN s',\n",
    "'MATCH (cell:Cell)\n",
    "WHERE EXISTS {(s)-[:CONNECTS|IS_PORT_OF]->*(cell)}\n",
    "WITH s, count(cell) AS energy\n",
    "SET s.energy = energy',\n",
    "{batchSize:1, parallel:TRUE})\n",
    "\"\"\")"
   ]
  },
  {
   "cell_type": "code",
   "execution_count": null,
   "metadata": {},
   "outputs": [],
   "source": [
    "gds.run_cypher(\"\"\"\n",
    "MATCH (e:Edge) WHERE NOT e.energy IS NULL\n",
    "RETURN max(e.energy) AS part2\n",
    "\"\"\")"
   ]
  },
  {
   "attachments": {},
   "cell_type": "markdown",
   "metadata": {},
   "source": [
    "# part 2 - alternative"
   ]
  },
  {
   "cell_type": "code",
   "execution_count": null,
   "metadata": {},
   "outputs": [],
   "source": [
    "gds.run_cypher(\"\"\"\n",
    "CREATE INDEX point_reached IF NOT EXISTS FOR (n:Point) ON n.reached;\n",
    "\"\"\")\n",
    "\n",
    "gds.run_cypher(\"\"\"\n",
    "MATCH (s:Point)\n",
    "SET s.reached = [];\n",
    "\"\"\")\n",
    "\n",
    "gds.run_cypher(\"\"\"\n",
    "MATCH (s:Edge)\n",
    "SET s.reached = [id(s)];\n",
    "\"\"\")"
   ]
  },
  {
   "cell_type": "code",
   "execution_count": null,
   "metadata": {},
   "outputs": [],
   "source": [
    "gds.run_cypher(\"\"\"\n",
    "CALL apoc.periodic.commit('\n",
    "MATCH (a)-[:CONNECTS|IS_PORT_OF]->(b)\n",
    "CALL {\n",
    "WITH a, b\n",
    "WITH b, [x IN a.reached WHERE NOT x in b.reached] AS to_add\n",
    "WHERE size(to_add) > 0\n",
    "SET b.reached = b.reached + to_add\n",
    "RETURN count(b) AS limit\n",
    "} IN TRANSACTIONS OF 1000 ROWS\n",
    "WITH sum(limit) AS limit\n",
    "RETURN limit',{});\n",
    "\"\"\")"
   ]
  },
  {
   "cell_type": "code",
   "execution_count": null,
   "metadata": {},
   "outputs": [],
   "source": [
    "gds.run_cypher(\"\"\"\n",
    "MATCH (n:Cell)\n",
    "WHERE size(n.reached) > 1\n",
    "UNWIND n.reached AS entry\n",
    "WITH entry, count(entry) AS energy\n",
    "ORDER BY energy DESC limit 1\n",
    "RETURN energy AS part2;\n",
    "\"\"\")"
   ]
  },
  {
   "attachments": {},
   "cell_type": "markdown",
   "metadata": {},
   "source": [
    "# Part 2 - Other alternative"
   ]
  },
  {
   "cell_type": "code",
   "execution_count": null,
   "metadata": {},
   "outputs": [],
   "source": [
    "gds.run_cypher(\"\"\"\n",
    "MATCH (s:Edge)\n",
    "MERGE (s)-[:REACHES]->(s)\n",
    "\"\"\")"
   ]
  },
  {
   "cell_type": "code",
   "execution_count": null,
   "metadata": {},
   "outputs": [],
   "source": [
    "gds.run_cypher(\"\"\"\n",
    "CALL apoc.periodic.commit(\n",
    "'MATCH (s:Edge)-[:REACHES]->()-[:CONNECTS|IS_PORT_OF]->(to_reach)\n",
    "CALL {\n",
    "WITH s, to_reach\n",
    "WITH s, to_reach\n",
    "WHERE NOT EXISTS {(s:Edge)-[:REACHES]->(to_reach)}\n",
    "MERGE (s)-[:REACHES]->(to_reach)\n",
    "RETURN count(to_reach) AS to_reach_num\n",
    "} IN TRANSACTIONS OF 10000 ROWS\n",
    "WITH sum(to_reach_num) AS limit\n",
    "RETURN limit', {})\n",
    "\"\"\")"
   ]
  },
  {
   "cell_type": "code",
   "execution_count": null,
   "metadata": {},
   "outputs": [],
   "source": [
    "gds.run_cypher(\"\"\"\n",
    "MATCH (e:Edge)\n",
    "WITH e, count{(e)-[:REACHES]->()} AS reached_num\n",
    "ORDER BY reached_num DESC\n",
    "LIMIT 1\n",
    "RETURN  reached_num AS part2\n",
    "\"\"\")"
   ]
  }
 ],
 "metadata": {
  "kernelspec": {
   "display_name": "Python 3",
   "language": "python",
   "name": "python3"
  },
  "language_info": {
   "codemirror_mode": {
    "name": "ipython",
    "version": 3
   },
   "file_extension": ".py",
   "mimetype": "text/x-python",
   "name": "python",
   "nbconvert_exporter": "python",
   "pygments_lexer": "ipython3",
   "version": "3.11.1"
  },
  "orig_nbformat": 4,
  "vscode": {
   "interpreter": {
    "hash": "1a1af0ee75eeea9e2e1ee996c87e7a2b11a0bebd85af04bb136d915cefc0abce"
   }
  }
 },
 "nbformat": 4,
 "nbformat_minor": 2
}
