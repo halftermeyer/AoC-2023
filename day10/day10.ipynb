{
 "cells": [
  {
   "cell_type": "code",
   "execution_count": null,
   "metadata": {},
   "outputs": [],
   "source": [
    "from graphdatascience import GraphDataScience\n",
    "gds = GraphDataScience(NEO4J_URI, auth=(NEO4J_USER, NEO4J_PASSWORD))\n",
    "\n",
    "# Check the installed GDS version on the server\n",
    "print(gds.version())\n",
    "assert gds.version()"
   ]
  },
  {
   "cell_type": "code",
   "execution_count": null,
   "metadata": {},
   "outputs": [],
   "source": [
    "gds.run_cypher(\"\"\"CREATE INDEX point_row_col IF NOT EXISTS\n",
    "FOR (p:Point) ON (p.row, p.col)\"\"\")"
   ]
  },
  {
   "cell_type": "code",
   "execution_count": null,
   "metadata": {},
   "outputs": [],
   "source": [
    "input_file = \"input.txt\""
   ]
  },
  {
   "cell_type": "code",
   "execution_count": null,
   "metadata": {},
   "outputs": [],
   "source": [
    "lines = len(open(input_file, 'r').readlines())\n",
    "width = len(open(input_file, 'r').readline()) - 1\n",
    "\n",
    "gds.run_cypher(\"\"\"\n",
    "UNWIND RANGE (0, 2*($lines-1)) AS row\n",
    "UNWIND RANGE (0, 2*($width-1)) AS col\n",
    "CALL {\n",
    "WITH row, col\n",
    "MERGE (:Point {row:row/2.0, col:col/2.0})\n",
    "} IN TRANSACTIONS OF 10000 ROWS\n",
    "\"\"\", {'lines':lines, 'width':width})\n"
   ]
  },
  {
   "cell_type": "code",
   "execution_count": null,
   "metadata": {},
   "outputs": [],
   "source": [
    "gds.run_cypher(\"\"\"\n",
    "MATCH (p:Point)\n",
    "WITH p.row AS row, p.col AS col, p\n",
    "ORDER BY col\n",
    "WITH row, collect(p) AS point_row\n",
    "CALL {\n",
    "    WITH point_row\n",
    "    CALL apoc.nodes.link(point_row,\"ADJACENT\")\n",
    "} IN TRANSACTIONS OF 10 ROWS\n",
    "\"\"\")"
   ]
  },
  {
   "cell_type": "code",
   "execution_count": null,
   "metadata": {},
   "outputs": [],
   "source": [
    "gds.run_cypher(\"\"\"\n",
    "MATCH (p:Point)\n",
    "WITH p.row AS row, p.col AS col, p\n",
    "ORDER BY row\n",
    "WITH col, collect(p) AS point_col\n",
    "CALL {\n",
    "    WITH point_col\n",
    "    CALL apoc.nodes.link(point_col,\"ADJACENT\")\n",
    "} IN TRANSACTIONS OF 10 ROWS\n",
    "\"\"\")"
   ]
  },
  {
   "cell_type": "code",
   "execution_count": null,
   "metadata": {},
   "outputs": [],
   "source": [
    "\n",
    "file = open(input_file, 'r')\n",
    "values = []\n",
    "for row, line in enumerate(file):\n",
    "    query =\"\"\"\n",
    "    WITH $line AS line, $row AS row\n",
    "    WITH split(line, '')[0..-1] AS line, row\n",
    "    WITH [ix IN range(0, size(line)-1) | [ix, line[ix]]] AS line, row\n",
    "    UNWIND line AS col_sym\n",
    "    MATCH (p:Point {row:row, col:col_sym[0]})\n",
    "    SET p:Tile, p.sym=col_sym[1]\n",
    "    \"\"\"\n",
    "    gds.run_cypher(query, {\"row\":row, \"line\":line})"
   ]
  },
  {
   "cell_type": "code",
   "execution_count": null,
   "metadata": {},
   "outputs": [],
   "source": [
    "gds.run_cypher(\"\"\"MATCH (ref:Point:Tile)\n",
    "CALL{ WITH ref\n",
    "MATCH (east:Point:Tile WHERE east.row = ref.row and east.col = ref.col + 1)\n",
    "MERGE (ref)-[:HAS_NEIGHBOR {dir:'E'}]->(east)\n",
    "MERGE (ref)<-[:HAS_NEIGHBOR {dir:'W'}]-(east)\n",
    "} IN TRANSACTIONS OF 1000 ROWS\"\"\")"
   ]
  },
  {
   "cell_type": "code",
   "execution_count": null,
   "metadata": {},
   "outputs": [],
   "source": [
    "gds.run_cypher(\"\"\"MATCH (ref:Point:Tile)\n",
    "CALL{ WITH ref\n",
    "MATCH (south:Point:Tile WHERE south.col = ref.col and south.row = ref.row + 1)\n",
    "MERGE (ref)-[:HAS_NEIGHBOR {dir:'S'}]->(south)\n",
    "MERGE (ref)<-[:HAS_NEIGHBOR {dir:'N'}]-(south)\n",
    "} IN TRANSACTIONS OF 1000 ROWS\"\"\")"
   ]
  },
  {
   "cell_type": "code",
   "execution_count": null,
   "metadata": {},
   "outputs": [],
   "source": [
    "connectable = {'|': ['N', 'S'],\n",
    "'-': ['E', 'W'],\n",
    "'L': ['N', 'E'],\n",
    "'J': ['N', 'W'],\n",
    "'7': ['S', 'W'],\n",
    "'F': ['S', 'E'],\n",
    "'.': [],\n",
    "'S': ['N', 'S', 'E', 'W']}"
   ]
  },
  {
   "cell_type": "code",
   "execution_count": null,
   "metadata": {},
   "outputs": [],
   "source": [
    "gds.run_cypher(\"\"\"\n",
    "WITH $connectable AS connectable\n",
    "MATCH (p:Tile)-[r:HAS_NEIGHBOR WHERE NOT r.dir IN connectable[p.sym]]->()\n",
    "DELETE r\n",
    "\"\"\", {'connectable':connectable})"
   ]
  },
  {
   "cell_type": "code",
   "execution_count": null,
   "metadata": {},
   "outputs": [],
   "source": [
    "gds.run_cypher(\"\"\"MATCH (a:Point)-[r:HAS_NEIGHBOR]->(b:Point)\n",
    "WHERE NOT EXISTS {(b)-[:HAS_NEIGHBOR]->(a)}\n",
    "SET r.toDelete = TRUE\"\"\");\n",
    "gds.run_cypher(\"MATCH ()-[r {toDelete:TRUE}]->() DELETE r\");"
   ]
  },
  {
   "cell_type": "code",
   "execution_count": null,
   "metadata": {},
   "outputs": [],
   "source": [
    "gds.run_cypher(\"\"\"\n",
    "MATCH (source:Point)-[r:HAS_NEIGHBOR]->(target:Point)\n",
    "WITH gds.graph.project('giant_cycle', source, target) AS g\n",
    "RETURN\n",
    "  g.graphName AS graph, g.nodeCount AS nodes, g.relationshipCount AS rels\n",
    "\"\"\")"
   ]
  },
  {
   "cell_type": "code",
   "execution_count": null,
   "metadata": {},
   "outputs": [],
   "source": [
    "gds.run_cypher(\"\"\"\n",
    "MATCH (source:Point {sym: 'S'})\n",
    "CALL gds.allShortestPaths.dijkstra.stream('giant_cycle', {\n",
    "    sourceNode: source\n",
    "})\n",
    "YIELD totalCost\n",
    "RETURN toInteger(max(totalCost)) AS part1\n",
    "\"\"\")"
   ]
  },
  {
   "attachments": {},
   "cell_type": "markdown",
   "metadata": {},
   "source": [
    "# Part 2"
   ]
  },
  {
   "cell_type": "code",
   "execution_count": null,
   "metadata": {},
   "outputs": [],
   "source": [
    "Ggr = gds.graph.get(\"giant_cycle\")\n",
    "gds.wcc.write(Ggr, writeProperty=\"pipe_cc\")"
   ]
  },
  {
   "cell_type": "code",
   "execution_count": null,
   "metadata": {},
   "outputs": [],
   "source": [
    "gds.run_cypher(\"\"\"\n",
    "MATCH (source:Tile {sym: 'S'})\n",
    "MATCH (tile:Tile {pipe_cc: source.pipe_cc})\n",
    "SET tile:Border\n",
    "\"\"\")"
   ]
  },
  {
   "cell_type": "code",
   "execution_count": null,
   "metadata": {},
   "outputs": [],
   "source": [
    "gds.run_cypher(\"\"\"\n",
    "MATCH (a:Tile:Border)-[:ADJACENT]->(fp)-[:ADJACENT]->(b:Tile:Border)\n",
    "WHERE EXISTS {(a)-[:HAS_NEIGHBOR]-(b)}\n",
    "CALL {\n",
    "WITH fp\n",
    "SET fp:Border\n",
    "} IN TRANSACTIONS OF 1000 ROWS\n",
    "\"\"\")"
   ]
  },
  {
   "cell_type": "code",
   "execution_count": null,
   "metadata": {},
   "outputs": [],
   "source": [
    "gds.run_cypher(\"\"\"\n",
    "MATCH (source:Point&!Border)\n",
    "OPTIONAL MATCH (source)-[r:ADJACENT]->(target:Point&!Border)\n",
    "WITH gds.graph.project('regions', source, target) AS g\n",
    "RETURN\n",
    "  g.graphName AS graph, g.nodeCount AS nodes, g.relationshipCount AS rels\n",
    "\"\"\")"
   ]
  },
  {
   "cell_type": "code",
   "execution_count": null,
   "metadata": {},
   "outputs": [],
   "source": [
    "G = gds.graph.get(\"regions\")"
   ]
  },
  {
   "cell_type": "code",
   "execution_count": null,
   "metadata": {},
   "outputs": [],
   "source": [
    "gds.wcc.write(G, writeProperty=\"region\")"
   ]
  },
  {
   "cell_type": "code",
   "execution_count": null,
   "metadata": {},
   "outputs": [],
   "source": [
    "gds.run_cypher(\"\"\"\n",
    "MATCH (p:Point)\n",
    "WITH p, p.col AS col, p.row AS row\n",
    "WITH [min(col),max(col)] AS ext_col, [min(row),max(row)] AS ext_row\n",
    "MATCH (p:Point)\n",
    "WHERE p.row IN ext_row OR p.col IN ext_col\n",
    "SET p:ExteriorOrBorder\n",
    "\"\"\")"
   ]
  },
  {
   "cell_type": "code",
   "execution_count": null,
   "metadata": {},
   "outputs": [],
   "source": [
    "gds.run_cypher(\"\"\"\n",
    "MATCH (inter:Tile&!Border)\n",
    "WHERE NOT EXISTS {(ext:Point&ExteriorOrBorder {region:inter.region})}\n",
    "SET inter:Interior\n",
    "RETURN count(inter) AS part2\n",
    "\"\"\")"
   ]
  }
 ],
 "metadata": {
  "kernelspec": {
   "display_name": "Python 3",
   "language": "python",
   "name": "python3"
  },
  "language_info": {
   "codemirror_mode": {
    "name": "ipython",
    "version": 3
   },
   "file_extension": ".py",
   "mimetype": "text/x-python",
   "name": "python",
   "nbconvert_exporter": "python",
   "pygments_lexer": "ipython3",
   "version": "3.11.1"
  },
  "orig_nbformat": 4,
  "vscode": {
   "interpreter": {
    "hash": "1a1af0ee75eeea9e2e1ee996c87e7a2b11a0bebd85af04bb136d915cefc0abce"
   }
  }
 },
 "nbformat": 4,
 "nbformat_minor": 2
}
