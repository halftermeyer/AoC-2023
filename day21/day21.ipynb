{
 "cells": [
  {
   "cell_type": "code",
   "execution_count": 1,
   "metadata": {},
   "outputs": [],
   "source": [
    "NEO4J_URI = \"neo4j://localhost:7687\"\n",
    "NEO4J_USER = \"neo4j\"\n",
    "NEO4J_PASSWORD = \"pierre!!\""
   ]
  },
  {
   "cell_type": "code",
   "execution_count": 2,
   "metadata": {},
   "outputs": [
    {
     "name": "stdout",
     "output_type": "stream",
     "text": [
      "2.5.5\n"
     ]
    }
   ],
   "source": [
    "from graphdatascience import GraphDataScience\n",
    "gds = GraphDataScience(NEO4J_URI, auth=(NEO4J_USER, NEO4J_PASSWORD))\n",
    "\n",
    "# Check the installed GDS version on the server\n",
    "print(gds.version())\n",
    "assert gds.version()"
   ]
  },
  {
   "attachments": {},
   "cell_type": "markdown",
   "metadata": {},
   "source": [
    "# Parse data and create a NetworkX graph"
   ]
  },
  {
   "cell_type": "code",
   "execution_count": 3,
   "metadata": {},
   "outputs": [],
   "source": [
    "import networkx as nx"
   ]
  },
  {
   "cell_type": "code",
   "execution_count": 4,
   "metadata": {},
   "outputs": [],
   "source": [
    "input_file = 'input.txt'\n",
    "lines = open(input_file, 'r').readlines()\n",
    "lines = [line. strip() for line in lines]"
   ]
  },
  {
   "cell_type": "code",
   "execution_count": 5,
   "metadata": {},
   "outputs": [],
   "source": [
    "def make_id(slot):\n",
    "    return 1000 * slot[0] + slot[1]"
   ]
  },
  {
   "cell_type": "code",
   "execution_count": 6,
   "metadata": {},
   "outputs": [
    {
     "name": "stdout",
     "output_type": "stream",
     "text": [
      "label (65, 65)\n"
     ]
    }
   ],
   "source": [
    "nxG = nx.DiGraph()\n",
    "\n",
    "for j, line in enumerate(lines):\n",
    "    for i, sym in enumerate(line):\n",
    "        curr = (i, j)\n",
    "        label = {'S':'Source', '.':'Free', '#':'Rock'}[sym]\n",
    "        if label == 'Source':\n",
    "            source = curr\n",
    "            print('label',curr)\n",
    "        if i < len(line)-1:\n",
    "            east_neighbor = (i+1, j)\n",
    "        else:\n",
    "            east_neighbor = None\n",
    "        if j < len(lines)-1:\n",
    "            south_neighbor = (i, j+1)\n",
    "        else:\n",
    "            south_neighbor = None\n",
    "\n",
    "        nxG.add_node(make_id(curr), labels=[label], i=curr[0], j=curr[1])\n",
    "\n",
    "        if(east_neighbor):\n",
    "            nxG.add_edge(make_id(curr), make_id(east_neighbor), relationshipType='EAST')\n",
    "            nxG.add_edge(make_id(east_neighbor), make_id(curr), relationshipType='WEST')\n",
    "        if(south_neighbor):\n",
    "            nxG.add_edge(make_id(curr), make_id(south_neighbor), relationshipType='SOUTH')\n",
    "            nxG.add_edge(make_id(south_neighbor),make_id(curr), relationshipType='NORTH')"
   ]
  },
  {
   "attachments": {},
   "cell_type": "markdown",
   "metadata": {},
   "source": [
    "# Load nx graph to in-memory GDS graph"
   ]
  },
  {
   "cell_type": "code",
   "execution_count": 14,
   "metadata": {},
   "outputs": [],
   "source": [
    "#G = gds.graph.get(\"slots\")\n",
    "#gds.graph.drop(G)\n",
    "G = gds.graph.networkx.load(nxG, \"slots\")"
   ]
  },
  {
   "attachments": {},
   "cell_type": "markdown",
   "metadata": {},
   "source": [
    "# Remove obstacles by filtering the graph"
   ]
  },
  {
   "cell_type": "code",
   "execution_count": 16,
   "metadata": {},
   "outputs": [
    {
     "data": {
      "text/plain": [
       "GraphCreateResult(graph=Graph({'graphName': 'no-rock-slots', 'nodeCount': 15348, 'relationshipCount': 54502, 'database': 'neo4j', 'configuration': {'readConcurrency': 4, 'undirectedRelationshipTypes': [], 'jobId': '9476551a-a585-4050-94c8-7f52ab66aec4', 'logProgress': True, 'query': 'UNWIND $data AS data WITH data, CASE WHEN data[6] THEN data[5] ELSE null END AS sourceNodeLabels, CASE WHEN data[3] THEN data[2] ELSE null END AS relationshipType, CASE WHEN data[10] THEN data[9] ELSE null END AS targetNodeId, \\nCASE WHEN data[8] THEN data[7] ELSE null END AS sourceNodeProperties, \\nCASE WHEN data[1] THEN data[0] ELSE null END AS relationshipProperties RETURN gds.graph.project($graph_name, data[4], targetNodeId, {sourceNodeLabels: sourceNodeLabels, targetNodeLabels: NULL, sourceNodeProperties: sourceNodeProperties, targetNodeProperties: NULL, relationshipType: relationshipType}, $configuration)', 'inverseIndexedRelationshipTypes': [], 'concurrency': 4, 'creationTime': neo4j.time.DateTime(2023, 12, 21, 21, 28, 49, 484531000, tzinfo=<DstTzInfo 'Europe/Paris' CET+1:00:00 STD>), 'relationshipFilter': 'r:EAST OR r:SOUTH OR r:NORTH OR r:WEST', 'nodeFilter': 'n:Source OR n:Free', 'parameters': {}, 'sudo': False}, 'schema': {'graphProperties': {}, 'nodes': {'Source': {'j': 'Integer (DefaultValue(-9223372036854775808), PERSISTENT)', 'i': 'Integer (DefaultValue(-9223372036854775808), PERSISTENT)'}, 'Free': {'j': 'Integer (DefaultValue(-9223372036854775808), PERSISTENT)', 'i': 'Integer (DefaultValue(-9223372036854775808), PERSISTENT)'}}, 'relationships': {'WEST': {}, 'NORTH': {}, 'SOUTH': {}, 'EAST': {}}}, 'memoryUsage': '17 MiB'}), result=fromGraphName                                          slots\n",
       "nodeFilter                                n:Source OR n:Free\n",
       "relationshipFilter    r:EAST OR r:SOUTH OR r:NORTH OR r:WEST\n",
       "graphName                                      no-rock-slots\n",
       "nodeCount                                              15348\n",
       "relationshipCount                                      54502\n",
       "projectMillis                                            143\n",
       "Name: 0, dtype: object)"
      ]
     },
     "execution_count": 16,
     "metadata": {},
     "output_type": "execute_result"
    }
   ],
   "source": [
    "#H = gds.graph.get(\"no-rock-slots\")\n",
    "#gds.graph.drop(H)\n",
    "gds.graph.filter('no-rock-slots', G,  'n:Source OR n:Free', 'r:EAST OR r:SOUTH OR r:NORTH OR r:WEST')"
   ]
  },
  {
   "cell_type": "code",
   "execution_count": 17,
   "metadata": {},
   "outputs": [
    {
     "data": {
      "text/plain": [
       "(15348, 54502)"
      ]
     },
     "execution_count": 17,
     "metadata": {},
     "output_type": "execute_result"
    }
   ],
   "source": [
    "H = gds.graph.get('no-rock-slots')\n",
    "H.node_count(), H.relationship_count()"
   ]
  },
  {
   "attachments": {},
   "cell_type": "markdown",
   "metadata": {},
   "source": [
    "We could run gds algorithm on such a graph although not using the DB.\n",
    "That not convenient here."
   ]
  },
  {
   "attachments": {},
   "cell_type": "markdown",
   "metadata": {},
   "source": [
    "# Exporting to a Neo4j DB\n",
    "An ephemeral db would do if we only wanted read-only (or similar) queries. In this case I will persist to a new DB.\n"
   ]
  },
  {
   "cell_type": "code",
   "execution_count": 19,
   "metadata": {},
   "outputs": [
    {
     "data": {
      "text/plain": [
       "dbName                                h-db\n",
       "graphName                    no-rock-slots\n",
       "nodeCount                            15348\n",
       "relationshipCount                    54502\n",
       "relationshipTypeCount                    4\n",
       "nodePropertyCount                    61392\n",
       "relationshipPropertyCount                0\n",
       "writeMillis                           9764\n",
       "Name: 0, dtype: object"
      ]
     },
     "execution_count": 19,
     "metadata": {},
     "output_type": "execute_result"
    }
   ],
   "source": [
    "#gds.run_cypher('DROP DATABASE `h-db`')\n",
    "gds.graph.export(H, dbName=\"h-db\")"
   ]
  },
  {
   "cell_type": "code",
   "execution_count": 20,
   "metadata": {},
   "outputs": [
    {
     "data": {
      "text/html": [
       "<div>\n",
       "<style scoped>\n",
       "    .dataframe tbody tr th:only-of-type {\n",
       "        vertical-align: middle;\n",
       "    }\n",
       "\n",
       "    .dataframe tbody tr th {\n",
       "        vertical-align: top;\n",
       "    }\n",
       "\n",
       "    .dataframe thead th {\n",
       "        text-align: right;\n",
       "    }\n",
       "</style>\n",
       "<table border=\"1\" class=\"dataframe\">\n",
       "  <thead>\n",
       "    <tr style=\"text-align: right;\">\n",
       "      <th></th>\n",
       "    </tr>\n",
       "  </thead>\n",
       "  <tbody>\n",
       "  </tbody>\n",
       "</table>\n",
       "</div>"
      ],
      "text/plain": [
       "Empty DataFrame\n",
       "Columns: []\n",
       "Index: []"
      ]
     },
     "execution_count": 20,
     "metadata": {},
     "output_type": "execute_result"
    }
   ],
   "source": [
    "gds.run_cypher('CREATE DATABASE `h-db`')"
   ]
  },
  {
   "attachments": {},
   "cell_type": "markdown",
   "metadata": {},
   "source": [
    "# Using the Neo4j DB with cypher "
   ]
  },
  {
   "cell_type": "code",
   "execution_count": 21,
   "metadata": {},
   "outputs": [],
   "source": [
    "gds = GraphDataScience(NEO4J_URI, auth=(NEO4J_USER, NEO4J_PASSWORD), database=\"h-db\")"
   ]
  },
  {
   "cell_type": "code",
   "execution_count": 22,
   "metadata": {},
   "outputs": [
    {
     "data": {
      "text/html": [
       "<div>\n",
       "<style scoped>\n",
       "    .dataframe tbody tr th:only-of-type {\n",
       "        vertical-align: middle;\n",
       "    }\n",
       "\n",
       "    .dataframe tbody tr th {\n",
       "        vertical-align: top;\n",
       "    }\n",
       "\n",
       "    .dataframe thead th {\n",
       "        text-align: right;\n",
       "    }\n",
       "</style>\n",
       "<table border=\"1\" class=\"dataframe\">\n",
       "  <thead>\n",
       "    <tr style=\"text-align: right;\">\n",
       "      <th></th>\n",
       "    </tr>\n",
       "  </thead>\n",
       "  <tbody>\n",
       "  </tbody>\n",
       "</table>\n",
       "</div>"
      ],
      "text/plain": [
       "Empty DataFrame\n",
       "Columns: []\n",
       "Index: []"
      ]
     },
     "execution_count": 22,
     "metadata": {},
     "output_type": "execute_result"
    }
   ],
   "source": [
    "gds.run_cypher('MATCH (n) SET n.available_at_step = [], n:Point')"
   ]
  },
  {
   "cell_type": "code",
   "execution_count": 23,
   "metadata": {},
   "outputs": [
    {
     "data": {
      "text/html": [
       "<div>\n",
       "<style scoped>\n",
       "    .dataframe tbody tr th:only-of-type {\n",
       "        vertical-align: middle;\n",
       "    }\n",
       "\n",
       "    .dataframe tbody tr th {\n",
       "        vertical-align: top;\n",
       "    }\n",
       "\n",
       "    .dataframe thead th {\n",
       "        text-align: right;\n",
       "    }\n",
       "</style>\n",
       "<table border=\"1\" class=\"dataframe\">\n",
       "  <thead>\n",
       "    <tr style=\"text-align: right;\">\n",
       "      <th></th>\n",
       "    </tr>\n",
       "  </thead>\n",
       "  <tbody>\n",
       "  </tbody>\n",
       "</table>\n",
       "</div>"
      ],
      "text/plain": [
       "Empty DataFrame\n",
       "Columns: []\n",
       "Index: []"
      ]
     },
     "execution_count": 23,
     "metadata": {},
     "output_type": "execute_result"
    }
   ],
   "source": [
    "gds.run_cypher('MATCH (n:Source) SET n.available_at_step = [0]')"
   ]
  },
  {
   "cell_type": "code",
   "execution_count": 24,
   "metadata": {},
   "outputs": [
    {
     "data": {
      "text/html": [
       "<div>\n",
       "<style scoped>\n",
       "    .dataframe tbody tr th:only-of-type {\n",
       "        vertical-align: middle;\n",
       "    }\n",
       "\n",
       "    .dataframe tbody tr th {\n",
       "        vertical-align: top;\n",
       "    }\n",
       "\n",
       "    .dataframe thead th {\n",
       "        text-align: right;\n",
       "    }\n",
       "</style>\n",
       "<table border=\"1\" class=\"dataframe\">\n",
       "  <thead>\n",
       "    <tr style=\"text-align: right;\">\n",
       "      <th></th>\n",
       "    </tr>\n",
       "  </thead>\n",
       "  <tbody>\n",
       "  </tbody>\n",
       "</table>\n",
       "</div>"
      ],
      "text/plain": [
       "Empty DataFrame\n",
       "Columns: []\n",
       "Index: []"
      ]
     },
     "execution_count": 24,
     "metadata": {},
     "output_type": "execute_result"
    }
   ],
   "source": [
    "gds.run_cypher('CREATE INDEX point_available_at_step IF NOT EXISTS FOR (n:Point) ON (n.available_at_step)')"
   ]
  },
  {
   "cell_type": "code",
   "execution_count": 25,
   "metadata": {},
   "outputs": [
    {
     "data": {
      "text/html": [
       "<div>\n",
       "<style scoped>\n",
       "    .dataframe tbody tr th:only-of-type {\n",
       "        vertical-align: middle;\n",
       "    }\n",
       "\n",
       "    .dataframe tbody tr th {\n",
       "        vertical-align: top;\n",
       "    }\n",
       "\n",
       "    .dataframe thead th {\n",
       "        text-align: right;\n",
       "    }\n",
       "</style>\n",
       "<table border=\"1\" class=\"dataframe\">\n",
       "  <thead>\n",
       "    <tr style=\"text-align: right;\">\n",
       "      <th></th>\n",
       "    </tr>\n",
       "  </thead>\n",
       "  <tbody>\n",
       "  </tbody>\n",
       "</table>\n",
       "</div>"
      ],
      "text/plain": [
       "Empty DataFrame\n",
       "Columns: []\n",
       "Index: []"
      ]
     },
     "execution_count": 25,
     "metadata": {},
     "output_type": "execute_result"
    }
   ],
   "source": [
    "gds.run_cypher(\"\"\"\n",
    "UNWIND range(0,64-1) AS i\n",
    "CALL {\n",
    "    WITH i\n",
    "    MATCH (p:Point WHERE i IN p.available_at_step)-->(neigh)\n",
    "    SET neigh.available_at_step = apoc.coll.union(neigh.available_at_step, [i+1] )\n",
    "} IN TRANSACTIONS OF 1 ROWS\n",
    "\"\"\")"
   ]
  },
  {
   "cell_type": "code",
   "execution_count": 26,
   "metadata": {},
   "outputs": [
    {
     "data": {
      "text/html": [
       "<div>\n",
       "<style scoped>\n",
       "    .dataframe tbody tr th:only-of-type {\n",
       "        vertical-align: middle;\n",
       "    }\n",
       "\n",
       "    .dataframe tbody tr th {\n",
       "        vertical-align: top;\n",
       "    }\n",
       "\n",
       "    .dataframe thead th {\n",
       "        text-align: right;\n",
       "    }\n",
       "</style>\n",
       "<table border=\"1\" class=\"dataframe\">\n",
       "  <thead>\n",
       "    <tr style=\"text-align: right;\">\n",
       "      <th></th>\n",
       "      <th>part1</th>\n",
       "    </tr>\n",
       "  </thead>\n",
       "  <tbody>\n",
       "    <tr>\n",
       "      <th>0</th>\n",
       "      <td>3768</td>\n",
       "    </tr>\n",
       "  </tbody>\n",
       "</table>\n",
       "</div>"
      ],
      "text/plain": [
       "   part1\n",
       "0   3768"
      ]
     },
     "execution_count": 26,
     "metadata": {},
     "output_type": "execute_result"
    }
   ],
   "source": [
    "gds.run_cypher(\"\"\"\n",
    "MATCH (n:Point)\n",
    "WHERE 64 in n.available_at_step\n",
    "RETURN count(n) AS part1\n",
    "\"\"\")"
   ]
  }
 ],
 "metadata": {
  "kernelspec": {
   "display_name": "Python 3",
   "language": "python",
   "name": "python3"
  },
  "language_info": {
   "codemirror_mode": {
    "name": "ipython",
    "version": 3
   },
   "file_extension": ".py",
   "mimetype": "text/x-python",
   "name": "python",
   "nbconvert_exporter": "python",
   "pygments_lexer": "ipython3",
   "version": "3.11.1"
  },
  "orig_nbformat": 4,
  "vscode": {
   "interpreter": {
    "hash": "1a1af0ee75eeea9e2e1ee996c87e7a2b11a0bebd85af04bb136d915cefc0abce"
   }
  }
 },
 "nbformat": 4,
 "nbformat_minor": 2
}
