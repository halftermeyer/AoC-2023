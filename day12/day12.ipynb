{
 "cells": [
  {
   "cell_type": "code",
   "execution_count": null,
   "metadata": {},
   "outputs": [],
   "source": [
    "from functools import cache"
   ]
  },
  {
   "cell_type": "code",
   "execution_count": null,
   "metadata": {},
   "outputs": [],
   "source": [
    "from graphdatascience import GraphDataScience\n",
    "gds = GraphDataScience(NEO4J_URI, auth=(NEO4J_USER, NEO4J_PASSWORD))\n",
    "\n",
    "# Check the installed GDS version on the server\n",
    "print(gds.version())\n",
    "assert gds.version()"
   ]
  },
  {
   "cell_type": "code",
   "execution_count": null,
   "metadata": {},
   "outputs": [],
   "source": [
    "input_file = \"input.txt\""
   ]
  },
  {
   "cell_type": "code",
   "execution_count": null,
   "metadata": {},
   "outputs": [],
   "source": [
    "file = open(input_file, 'r')\n",
    "for ix, line in enumerate(file):\n",
    "    row, groups =line.split(' ')\n",
    "    groups = [int(g) for g in groups.split(',')]\n",
    "    qpp = '\\n'.join([f\"MATCH (head:Head WHERE head.row_id={ix})\",\n",
    "    \"(()-->(:OK|UNKNOWN))*\",\n",
    "    \"(()-->(:OK|UNKNOWN))+\\n\".join([f\"(()-->(g_{jx}:NOK|UNKNOWN)){{{g}}}\" for jx, g in enumerate(groups)]),\n",
    "    \"(()-->(:OK|UNKNOWN|Tail))*(:Tail)\",\n",
    "    \"WITH DISTINCT head, \"+', '.join([f\"g_{jx}\" for jx, _ in enumerate(groups)]),\n",
    "    \"WITH head, count(*) as matches\",\n",
    "    \"SET head.matches = matches\"])\n",
    "    gds.run_cypher(\"\"\"\n",
    "    CREATE (:Line {id:$ix, row:$row, groups:$groups, qpp:$qpp})\n",
    "    \"\"\", {'ix':ix, 'row':row, 'groups':groups, 'qpp':qpp})"
   ]
  },
  {
   "cell_type": "code",
   "execution_count": null,
   "metadata": {},
   "outputs": [],
   "source": [
    "for id, row in gds.run_cypher(\"\"\"MATCH (line:Line) RETURN line.id AS id, line.row AS row\"\"\").itertuples(index=False):\n",
    "    gds.run_cypher(\"\"\"\n",
    "    WITH $row AS row\n",
    "    UNWIND split(row, '') AS c\n",
    "    CREATE (s:Spring {row_id:$id, state:c})\n",
    "    WITH collect(s) AS springs\n",
    "    CALL apoc.nodes.link(springs, 'NEXT')\n",
    "    \"\"\", {'row':row, 'id':id})\n"
   ]
  },
  {
   "cell_type": "code",
   "execution_count": null,
   "metadata": {},
   "outputs": [],
   "source": [
    "queries = \"\"\"MATCH (s:Spring)\n",
    "WHERE NOT EXISTS {()-[:NEXT]->(s)}\n",
    "SET s:First;\n",
    "MATCH (s:Spring)\n",
    "WHERE NOT EXISTS {(s)-[:NEXT]->()}\n",
    "SET s:Last;\n",
    "MATCH (s:Spring {state:'.'})\n",
    "SET s:OK;\n",
    "MATCH (s:Spring {state:'#'})\n",
    "SET s:NOK;\n",
    "MATCH (s:Spring {state:'?'})\n",
    "SET s:UNKNOWN;\n",
    "MATCH (f:First)\n",
    "MERGE (h:Head {row_id:f.row_id})\n",
    "MERGE (h)-[:NEXT]->(f);\n",
    "MATCH (l:Last)\n",
    "MERGE (t:Tail {row_id:l.row_id})\n",
    "MERGE (l)-[:NEXT]->(t)\n",
    "\"\"\".split(';')\n",
    "for query in queries:\n",
    "    gds.run_cypher(query)"
   ]
  },
  {
   "cell_type": "code",
   "execution_count": null,
   "metadata": {},
   "outputs": [],
   "source": [
    "gds.run_cypher(\"\"\"CALL apoc.periodic.iterate('MATCH (l:Line) RETURN l.qpp AS qpp',\n",
    "'CALL apoc.cypher.runWrite(qpp,{}) YIELD value RETURN value.count AS count',\n",
    "{parallel:TRUE})\"\"\")"
   ]
  },
  {
   "cell_type": "code",
   "execution_count": null,
   "metadata": {},
   "outputs": [],
   "source": [
    "gds.run_cypher(\"\"\"MATCH (h:Head)\n",
    "RETURN sum(h.matches) AS part1\"\"\")"
   ]
  },
  {
   "attachments": {},
   "cell_type": "markdown",
   "metadata": {},
   "source": [
    "# Part 1\n",
    "No graph database"
   ]
  },
  {
   "cell_type": "code",
   "execution_count": null,
   "metadata": {},
   "outputs": [],
   "source": [
    "@cache\n",
    "def iter_cuts(chunk):\n",
    "    res = []\n",
    "    for ix, _ in enumerate(chunk):\n",
    "        if not chunk[ix] == \"#\":\n",
    "            res.append((chunk[0:ix], chunk[ix+1:]))\n",
    "    return res"
   ]
  },
  {
   "cell_type": "code",
   "execution_count": null,
   "metadata": {},
   "outputs": [],
   "source": [
    "@cache\n",
    "def one_group_arrangement(chunk, group):\n",
    "    res = set()\n",
    "    for ix in range(0, 1+len(chunk) - group):\n",
    "        if not ('#' in chunk[:ix]+chunk[ix+group:] or '.' in chunk[ix:ix+group]):\n",
    "            #print(\"in if\",ix)\n",
    "            res.add((\".\"*ix) + (\"#\"*group) + (\".\"*(len(chunk)-(ix+group))))\n",
    "    return res\n",
    "    "
   ]
  },
  {
   "cell_type": "code",
   "execution_count": null,
   "metadata": {},
   "outputs": [],
   "source": [
    "@cache\n",
    "def arrangements(chunk, groups):\n",
    "    res = set()\n",
    "    if len(groups) == 1:\n",
    "        for match in one_group_arrangement(chunk, groups[0]):\n",
    "            res.add(match)\n",
    "        return res\n",
    "    first, *others = groups\n",
    "    others = tuple(others)\n",
    "    for h, t in iter_cuts(chunk):\n",
    "        for start in one_group_arrangement(h, first):\n",
    "            for end in arrangements(t, others):\n",
    "                res.add(start+'.'+end)\n",
    "    return res\n",
    "    \n",
    "       \n"
   ]
  },
  {
   "cell_type": "code",
   "execution_count": null,
   "metadata": {},
   "outputs": [],
   "source": [
    "file = open(input_file, 'r')\n",
    "part1 = 0\n",
    "for ix, line in enumerate(file):\n",
    "    row, groups =line.split(' ')\n",
    "    groups = tuple([int(g) for g in groups.split(',')])\n",
    "    arr = len(arrangements(row,groups))\n",
    "    part1 += arr\n",
    "part1\n",
    "\n"
   ]
  },
  {
   "cell_type": "code",
   "execution_count": null,
   "metadata": {},
   "outputs": [],
   "source": []
  }
 ],
 "metadata": {
  "kernelspec": {
   "display_name": "Python 3",
   "language": "python",
   "name": "python3"
  },
  "language_info": {
   "codemirror_mode": {
    "name": "ipython",
    "version": 3
   },
   "file_extension": ".py",
   "mimetype": "text/x-python",
   "name": "python",
   "nbconvert_exporter": "python",
   "pygments_lexer": "ipython3",
   "version": "3.11.1"
  },
  "orig_nbformat": 4,
  "vscode": {
   "interpreter": {
    "hash": "1a1af0ee75eeea9e2e1ee996c87e7a2b11a0bebd85af04bb136d915cefc0abce"
   }
  }
 },
 "nbformat": 4,
 "nbformat_minor": 2
}
