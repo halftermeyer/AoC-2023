{
 "cells": [
  {
   "cell_type": "code",
   "execution_count": null,
   "metadata": {},
   "outputs": [],
   "source": [
    "from itertools import cycle\n",
    "from math import lcm\n",
    "from collections import namedtuple\n",
    "from functools import reduce\n",
    "Rels = namedtuple('Rels', ['L', 'R'])\n",
    "Pos =namedtuple('Pos', ['pos', 'step'])"
   ]
  },
  {
   "cell_type": "code",
   "execution_count": null,
   "metadata": {},
   "outputs": [],
   "source": [
    "input_file = 'input.txt'\n",
    "#input_file = 'input_test_2.txt'"
   ]
  },
  {
   "cell_type": "code",
   "execution_count": null,
   "metadata": {},
   "outputs": [],
   "source": [
    "file = open(input_file, 'r')\n",
    "for ix, line in enumerate(file):\n",
    "   instructions = line.strip()\n",
    "   break"
   ]
  },
  {
   "cell_type": "code",
   "execution_count": null,
   "metadata": {},
   "outputs": [],
   "source": [
    "network = {}\n",
    "file = open(input_file, 'r')\n",
    "for ix, line in enumerate(file):\n",
    "    if ix < 2 : continue\n",
    "    v, ns = line.split(\" = \")\n",
    "    ns = Rels(*ns.strip()[1:-1].split(', '))\n",
    "    ns = {'L':ns.L, 'R':ns.R}\n",
    "    network[v] = ns"
   ]
  },
  {
   "cell_type": "code",
   "execution_count": null,
   "metadata": {},
   "outputs": [],
   "source": [
    "curr = Pos('AAA', 0)\n",
    "for instr in cycle(instructions):\n",
    "    curr = Pos(network[curr.pos][instr], 1 + curr.step)\n",
    "    if curr.pos == 'ZZZ':\n",
    "        break\n",
    "part2 = curr.step\n",
    "part2"
   ]
  },
  {
   "cell_type": "code",
   "execution_count": null,
   "metadata": {},
   "outputs": [],
   "source": [
    "Pos =namedtuple('Pos', ['pos', 'step', 'next_instr_ix'])\n",
    "currs = [Pos(pos, 0, 0) for pos in network if pos[-1] == 'Z']\n",
    "print(currs)"
   ]
  },
  {
   "cell_type": "code",
   "execution_count": null,
   "metadata": {},
   "outputs": [],
   "source": [
    "history = {}\n",
    "zixs = {} \n",
    "for curr in currs:\n",
    "    key = curr.pos\n",
    "    zixs[key] = [] \n",
    "    history[key] =[(curr.pos, curr.next_instr_ix)]\n",
    "\n",
    "    for ix, instr in enumerate(cycle(instructions)):\n",
    "        curr = Pos(network[curr.pos][instr], 1 + curr.step, ix%len(instructions)+1)\n",
    "        #print(curr)\n",
    "        if curr.pos[-1] == 'Z':\n",
    "            zixs[key].append(curr.step)\n",
    "        history[key].append((curr.pos, curr.next_instr_ix))\n",
    "        if (curr.pos,curr.next_instr_ix)  in history[key][:-1]:\n",
    "            break\n",
    "print(zixs)"
   ]
  },
  {
   "cell_type": "code",
   "execution_count": null,
   "metadata": {},
   "outputs": [],
   "source": [
    "a =[]\n",
    "mod= []\n",
    "for k in history:\n",
    "    remainder = history[k].index(history[k][-1])\n",
    "    period = len(history[k]) - remainder -1\n",
    "    a.append(remainder)\n",
    "    mod.append(period)\n",
    "print(a)\n",
    "print(mod)\n"
   ]
  },
  {
   "cell_type": "code",
   "execution_count": null,
   "metadata": {},
   "outputs": [],
   "source": [
    "# This should not work\n",
    "# A CRT-based solution would be necessary\n",
    "# on a random entry of the problem was\n",
    "part2 = lcm(*[zixs[k][0] for k in zixs])\n",
    "part2"
   ]
  }
 ],
 "metadata": {
  "kernelspec": {
   "display_name": "Python 3",
   "language": "python",
   "name": "python3"
  },
  "language_info": {
   "codemirror_mode": {
    "name": "ipython",
    "version": 3
   },
   "file_extension": ".py",
   "mimetype": "text/x-python",
   "name": "python",
   "nbconvert_exporter": "python",
   "pygments_lexer": "ipython3",
   "version": "3.11.1"
  },
  "orig_nbformat": 4,
  "vscode": {
   "interpreter": {
    "hash": "1a1af0ee75eeea9e2e1ee996c87e7a2b11a0bebd85af04bb136d915cefc0abce"
   }
  }
 },
 "nbformat": 4,
 "nbformat_minor": 2
}
