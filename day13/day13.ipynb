{
 "cells": [
  {
   "attachments": {},
   "cell_type": "markdown",
   "metadata": {},
   "source": [
    "# Day 13"
   ]
  },
  {
   "cell_type": "code",
   "execution_count": null,
   "metadata": {},
   "outputs": [],
   "source": [
    "def v_specular_i(pattern, i_mirror, smudge):\n",
    "    delta = 0\n",
    "    smudge_set = set()\n",
    "    while i_mirror - delta >= 0 and i_mirror+1+delta < len(pattern[0]):\n",
    "        for j in range(0, len(pattern)):\n",
    "            if pattern[j][i_mirror-delta] != pattern[j][i_mirror+1+delta]:\n",
    "                smudge_found = tuple(sorted([(j, i_mirror-delta), (j, i_mirror+1+delta)]))\n",
    "                smudge_set.add(smudge_found)\n",
    "                if len(smudge_set) > smudge:\n",
    "                    return  False\n",
    "        delta += 1\n",
    "    return len(smudge_set) == smudge\n",
    "\n",
    "def v_specular(pattern, smudge=0):\n",
    "    for i_mirror in range(0, len(pattern[0])-1):\n",
    "        specular = True\n",
    "        if v_specular_i(pattern, i_mirror, smudge):\n",
    "            return i_mirror + 1\n",
    "    return 0\n",
    "\n",
    "def h_specular_j(pattern, j_mirror, smudge):\n",
    "    delta = 0\n",
    "    smudge_set = set()\n",
    "    while j_mirror - delta >= 0 and j_mirror+1+delta < len(pattern):\n",
    "        for i in range(0, len(pattern[0])):\n",
    "            if pattern[j_mirror - delta][i] != pattern[j_mirror+1+delta][i]:\n",
    "                smudge_found = tuple(sorted([(j_mirror - delta, i), (j_mirror+1+delta, i)]))\n",
    "                smudge_set.add(smudge_found)\n",
    "                if len(smudge_set) > smudge:\n",
    "                    return  False\n",
    "        delta += 1\n",
    "    return len(smudge_set) == smudge\n",
    "\n",
    "def h_specular(pattern, smudge=0):\n",
    "    for j_mirror in range(0, len(pattern)-1):\n",
    "        specular = True\n",
    "        if h_specular_j(pattern, j_mirror, smudge):\n",
    "            return j_mirror + 1\n",
    "    return 0"
   ]
  },
  {
   "cell_type": "code",
   "execution_count": null,
   "metadata": {},
   "outputs": [],
   "source": [
    "input_file = 'input.txt'\n",
    "with open(input_file, 'r') as f:\n",
    "    patterns =[]\n",
    "    for pattern in f.read().split('\\n\\n'):\n",
    "        pattern_list = []\n",
    "        for line in pattern.split('\\n'):\n",
    "            if line != '':\n",
    "                pattern_list.append(line)\n",
    "        patterns.append(pattern_list)\n",
    "\n",
    "v_spec_sum_1 = sum ([v_specular(pattern) for pattern in patterns])\n",
    "h_spec_sum_1 = sum ([h_specular(pattern) for pattern in patterns])\n",
    "v_spec_sum_2 = sum ([v_specular(pattern, 1) for pattern in patterns])\n",
    "h_spec_sum_2 = sum ([h_specular(pattern, 1) for pattern in patterns])\n",
    "\n",
    "part1 = 100 * h_spec_sum_1 + v_spec_sum_1\n",
    "part2 = 100 * h_spec_sum_2 + v_spec_sum_2\n",
    "\n",
    "part1, part2"
   ]
  }
 ],
 "metadata": {
  "kernelspec": {
   "display_name": "Python 3",
   "language": "python",
   "name": "python3"
  },
  "language_info": {
   "codemirror_mode": {
    "name": "ipython",
    "version": 3
   },
   "file_extension": ".py",
   "mimetype": "text/x-python",
   "name": "python",
   "nbconvert_exporter": "python",
   "pygments_lexer": "ipython3",
   "version": "3.11.1"
  },
  "orig_nbformat": 4,
  "vscode": {
   "interpreter": {
    "hash": "1a1af0ee75eeea9e2e1ee996c87e7a2b11a0bebd85af04bb136d915cefc0abce"
   }
  }
 },
 "nbformat": 4,
 "nbformat_minor": 2
}
