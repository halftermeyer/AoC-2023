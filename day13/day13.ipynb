{
 "cells": [
  {
   "attachments": {},
   "cell_type": "markdown",
   "metadata": {},
   "source": [
    "# Day 13"
   ]
  },
  {
   "cell_type": "code",
   "execution_count": 1,
   "metadata": {},
   "outputs": [],
   "source": [
    "def specular_i(pattern, i_mirror, smudge):\n",
    "    delta = 0\n",
    "    smudge_cpt = 0\n",
    "    while i_mirror - delta >= 0 and i_mirror+1+delta < len(pattern[0]):\n",
    "        for j in range(0, len(pattern)):\n",
    "            if pattern[j][i_mirror-delta] != pattern[j][i_mirror+1+delta]:\n",
    "                smudge_cpt += 1\n",
    "                if smudge_cpt > smudge:\n",
    "                    return  False\n",
    "        delta += 1\n",
    "    return smudge_cpt == smudge\n",
    "\n",
    "def specular(pattern, smudge=0):\n",
    "    \"\"\"looks for v-axis symetry\"\"\"\n",
    "    for i_mirror in range(0, len(pattern[0])-1):\n",
    "        specular = True\n",
    "        if specular_i(pattern, i_mirror, smudge):\n",
    "            return i_mirror + 1\n",
    "    return 0"
   ]
  },
  {
   "cell_type": "code",
   "execution_count": 2,
   "metadata": {},
   "outputs": [
    {
     "data": {
      "text/plain": [
       "(30802, 37876)"
      ]
     },
     "execution_count": 2,
     "metadata": {},
     "output_type": "execute_result"
    }
   ],
   "source": [
    "input_file = 'input.txt'\n",
    "with open(input_file, 'r') as f:\n",
    "    patterns =[]\n",
    "    for pattern in f.read().split('\\n\\n'):\n",
    "        pattern_list = []\n",
    "        for line in pattern.split('\\n'):\n",
    "            if line != '':\n",
    "                pattern_list.append(line)\n",
    "        patterns.append(pattern_list)\n",
    "\n",
    "patternsT = []\n",
    "for pattern in patterns:\n",
    "    patternsT.append([''.join(list(t)) for t in zip(*pattern)])\n",
    "\n",
    "v_spec_sum_1 = sum ([specular(pattern) for pattern in patterns])\n",
    "h_spec_sum_1 = sum ([specular(pattern) for pattern in patternsT])\n",
    "v_spec_sum_2 = sum ([specular(pattern, 1) for pattern in patterns])\n",
    "h_spec_sum_2 = sum ([specular(pattern, 1) for pattern in patternsT])\n",
    "\n",
    "part1 = 100 * h_spec_sum_1 + v_spec_sum_1\n",
    "part2 = 100 * h_spec_sum_2 + v_spec_sum_2\n",
    "\n",
    "part1, part2"
   ]
  },
  {
   "cell_type": "code",
   "execution_count": null,
   "metadata": {},
   "outputs": [],
   "source": []
  }
 ],
 "metadata": {
  "kernelspec": {
   "display_name": "Python 3",
   "language": "python",
   "name": "python3"
  },
  "language_info": {
   "codemirror_mode": {
    "name": "ipython",
    "version": 3
   },
   "file_extension": ".py",
   "mimetype": "text/x-python",
   "name": "python",
   "nbconvert_exporter": "python",
   "pygments_lexer": "ipython3",
   "version": "3.11.1"
  },
  "orig_nbformat": 4,
  "vscode": {
   "interpreter": {
    "hash": "1a1af0ee75eeea9e2e1ee996c87e7a2b11a0bebd85af04bb136d915cefc0abce"
   }
  }
 },
 "nbformat": 4,
 "nbformat_minor": 2
}
