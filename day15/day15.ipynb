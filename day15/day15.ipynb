{
 "cells": [
  {
   "cell_type": "code",
   "execution_count": 72,
   "metadata": {},
   "outputs": [],
   "source": [
    "input_file = 'input.txt'\n",
    "with open(input_file, 'r') as f:\n",
    "    ss =[]\n",
    "    for line in f.read().split('\\n'):\n",
    "        if line.strip() == '': continue\n",
    "        ss += [s.strip() for s in line.split(',')]"
   ]
  },
  {
   "cell_type": "code",
   "execution_count": 73,
   "metadata": {},
   "outputs": [],
   "source": [
    "def hash(s):\n",
    "    h = 0\n",
    "    for c in s:\n",
    "        h += ord(c)\n",
    "        h *= 17\n",
    "        h %= 256\n",
    "    return h\n"
   ]
  },
  {
   "cell_type": "code",
   "execution_count": 74,
   "metadata": {},
   "outputs": [
    {
     "data": {
      "text/plain": [
       "511257"
      ]
     },
     "execution_count": 74,
     "metadata": {},
     "output_type": "execute_result"
    }
   ],
   "source": [
    "part1 = 0\n",
    "for s in ss:\n",
    "    part1 += hash (s)\n",
    "part1"
   ]
  },
  {
   "cell_type": "code",
   "execution_count": 75,
   "metadata": {},
   "outputs": [],
   "source": [
    "from collections import defaultdict"
   ]
  },
  {
   "cell_type": "code",
   "execution_count": 76,
   "metadata": {},
   "outputs": [
    {
     "data": {
      "text/plain": [
       "239484"
      ]
     },
     "execution_count": 76,
     "metadata": {},
     "output_type": "execute_result"
    }
   ],
   "source": [
    "hm = defaultdict(list)\n",
    "\n",
    "for s in ss:\n",
    "    if '-' in s:\n",
    "        label =s[:-1]\n",
    "        h = hash(label)\n",
    "        hm[h] = [(l,num) for l, num in hm[h] if label != l]\n",
    "\n",
    "    if '=' in s:\n",
    "        label, num = s.split('=')\n",
    "        num = int(num)\n",
    "        h = hash(label)\n",
    "\n",
    "        index = None\n",
    " \n",
    "        for i in range(len(hm[h])):\n",
    "            if hm[h][i][0] == label:\n",
    "                index = i\n",
    "\n",
    "        if isinstance(index, int):\n",
    "            hm[h] = hm[h][:index]+[(label,num)]+hm[h][index+1:]\n",
    "        else:\n",
    "            hm[h] += [(label,num)]\n",
    "\n",
    "part2 = 0\n",
    "for box in hm:\n",
    "    for slot, fl in enumerate(hm[box]):\n",
    "        part2 += (box+1) * (slot+1) * fl[1]\n",
    "part2"
   ]
  }
 ],
 "metadata": {
  "kernelspec": {
   "display_name": "Python 3",
   "language": "python",
   "name": "python3"
  },
  "language_info": {
   "codemirror_mode": {
    "name": "ipython",
    "version": 3
   },
   "file_extension": ".py",
   "mimetype": "text/x-python",
   "name": "python",
   "nbconvert_exporter": "python",
   "pygments_lexer": "ipython3",
   "version": "3.11.1"
  },
  "orig_nbformat": 4,
  "vscode": {
   "interpreter": {
    "hash": "1a1af0ee75eeea9e2e1ee996c87e7a2b11a0bebd85af04bb136d915cefc0abce"
   }
  }
 },
 "nbformat": 4,
 "nbformat_minor": 2
}
