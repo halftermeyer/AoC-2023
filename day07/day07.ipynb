{
 "cells": [
  {
   "cell_type": "code",
   "execution_count": null,
   "metadata": {},
   "outputs": [],
   "source": [
    "from collections import namedtuple\n",
    "Hand = namedtuple('Hand', ['hand', 'bid'])"
   ]
  },
  {
   "cell_type": "code",
   "execution_count": null,
   "metadata": {},
   "outputs": [],
   "source": [
    "file = open('input.txt', 'r')\n",
    "hands = []\n",
    "for ix, line in enumerate(file):\n",
    "    hand, bid = [x.strip() for x in line.split(' ')]\n",
    "    bid = int(bid)\n",
    "    hands.append(Hand(hand, bid))\n",
    "hands"
   ]
  },
  {
   "cell_type": "code",
   "execution_count": null,
   "metadata": {},
   "outputs": [],
   "source": [
    "def val_card(card):\n",
    "    return \"23456789TJQKA\".index(card)\n",
    "\n",
    "def val_card_2(card):\n",
    "    return \"J23456789TQKA\".index(card)\n",
    "\n",
    "def type_hand(hand):\n",
    "    set_hand = set(hand.hand)\n",
    "    acc = []\n",
    "    for x in set_hand:\n",
    "        acc.append(hand.hand.count(x))\n",
    "    res = list(reversed(sorted(acc))) + [0] * (5 - len(acc))\n",
    "    return res\n",
    "\n",
    "def type_hand_2(hand):\n",
    "    set_hand = set(hand.hand)\n",
    "    acc = []\n",
    "    nb_J = 0\n",
    "    for x in set_hand:\n",
    "        if x != 'J':\n",
    "            acc.append(hand.hand.count(x))\n",
    "    res = list(reversed(sorted(acc))) + [0] * (5 - len(acc))\n",
    "    res[0] += hand.hand.count('J')\n",
    "    return res\n",
    "\n",
    "def key_hand(hand):\n",
    "    return type_hand(hand) + [val_card(c) for c in hand.hand]\n",
    "\n",
    "def key_hand_2(hand):\n",
    "    return type_hand_2(hand) + [val_card_2(c) for c in hand.hand]"
   ]
  },
  {
   "cell_type": "code",
   "execution_count": null,
   "metadata": {},
   "outputs": [],
   "source": [
    "part1 = sum([(ix+1)*hand.bid for ix, hand in enumerate(sorted(hands, key=key_hand))])\n",
    "part1"
   ]
  },
  {
   "cell_type": "code",
   "execution_count": null,
   "metadata": {},
   "outputs": [],
   "source": [
    "part2 = sum([(ix+1)*hand.bid for ix, hand in enumerate(sorted(hands, key=key_hand_2))])\n",
    "part2"
   ]
  },
  {
   "cell_type": "code",
   "execution_count": null,
   "metadata": {},
   "outputs": [],
   "source": []
  }
 ],
 "metadata": {
  "kernelspec": {
   "display_name": "Python 3",
   "language": "python",
   "name": "python3"
  },
  "language_info": {
   "codemirror_mode": {
    "name": "ipython",
    "version": 3
   },
   "file_extension": ".py",
   "mimetype": "text/x-python",
   "name": "python",
   "nbconvert_exporter": "python",
   "pygments_lexer": "ipython3",
   "version": "3.11.1"
  },
  "orig_nbformat": 4,
  "vscode": {
   "interpreter": {
    "hash": "1a1af0ee75eeea9e2e1ee996c87e7a2b11a0bebd85af04bb136d915cefc0abce"
   }
  }
 },
 "nbformat": 4,
 "nbformat_minor": 2
}
