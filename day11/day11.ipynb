{
 "cells": [
  {
   "cell_type": "code",
   "execution_count": null,
   "metadata": {},
   "outputs": [],
   "source": [
    "input_file = \"input.txt\""
   ]
  },
  {
   "cell_type": "code",
   "execution_count": null,
   "metadata": {},
   "outputs": [],
   "source": [
    "file = open(input_file, 'r')\n",
    "galaxies = []\n",
    "max_ix = 0\n",
    "max_jx = 0\n",
    "for jx, line in enumerate(file):\n",
    "    for ix, c in enumerate(line):\n",
    "        if c == '#':\n",
    "            if ix > max_ix:\n",
    "                max_ix = ix\n",
    "            if jx > max_jx:\n",
    "                max_jx = jx\n",
    "            galaxies.append((ix,jx))"
   ]
  },
  {
   "cell_type": "code",
   "execution_count": null,
   "metadata": {},
   "outputs": [],
   "source": [
    "empty_ix = [ix for ix in range(0, max_ix + 1) if not any(ix == i for i, _ in galaxies)]\n",
    "empty_jx = [jx for jx in range(0, max_jx + 1) if not any(jx == j for _, j in galaxies)]"
   ]
  },
  {
   "cell_type": "code",
   "execution_count": null,
   "metadata": {},
   "outputs": [],
   "source": [
    "sum_dist = 0\n",
    "for g1 in galaxies:\n",
    "    for g2 in galaxies:\n",
    "        i_right = max(g2[0], g1[0])\n",
    "        i_left = min(g2[0], g1[0])\n",
    "        j_bottom = max(g2[1], g1[1])\n",
    "        j_top = min(g2[1], g1[1])\n",
    "        i_e = len([ix for ix in empty_ix if ix in range(i_left+1, i_right)])\n",
    "        j_e = len([jx for jx in empty_jx if jx in range(j_top+1, j_bottom)])\n",
    "        dist = (i_right-i_left) + (j_bottom-j_top) + i_e + j_e\n",
    "        sum_dist += dist\n",
    "part1 = int(sum_dist/2)\n",
    "part1"
   ]
  },
  {
   "cell_type": "code",
   "execution_count": null,
   "metadata": {},
   "outputs": [],
   "source": [
    "sum_dist = 0\n",
    "for g1 in galaxies:\n",
    "    for g2 in galaxies:\n",
    "        i_right = max(g2[0], g1[0])\n",
    "        i_left = min(g2[0], g1[0])\n",
    "        j_bottom = max(g2[1], g1[1])\n",
    "        j_top = min(g2[1], g1[1])\n",
    "        i_e = len([ix for ix in empty_ix if ix in range(i_left+1, i_right)])\n",
    "        j_e = len([jx for jx in empty_jx if jx in range(j_top+1, j_bottom)])\n",
    "        dist = (i_right-i_left) + (j_bottom-j_top) + (1_000_000-1) * (i_e + j_e)\n",
    "        sum_dist += dist\n",
    "part2 = int(sum_dist/2)\n",
    "part2"
   ]
  }
 ],
 "metadata": {
  "kernelspec": {
   "display_name": "Python 3",
   "language": "python",
   "name": "python3"
  },
  "language_info": {
   "codemirror_mode": {
    "name": "ipython",
    "version": 3
   },
   "file_extension": ".py",
   "mimetype": "text/x-python",
   "name": "python",
   "nbconvert_exporter": "python",
   "pygments_lexer": "ipython3",
   "version": "3.11.1"
  },
  "orig_nbformat": 4,
  "vscode": {
   "interpreter": {
    "hash": "1a1af0ee75eeea9e2e1ee996c87e7a2b11a0bebd85af04bb136d915cefc0abce"
   }
  }
 },
 "nbformat": 4,
 "nbformat_minor": 2
}
