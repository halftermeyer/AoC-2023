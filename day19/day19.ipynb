{
 "cells": [
  {
   "cell_type": "code",
   "execution_count": 445,
   "metadata": {},
   "outputs": [],
   "source": [
    "input_file = \"input.txt\""
   ]
  },
  {
   "cell_type": "code",
   "execution_count": 446,
   "metadata": {},
   "outputs": [],
   "source": [
    "blocks = open(input_file, 'r').read().split('\\n\\n')"
   ]
  },
  {
   "cell_type": "code",
   "execution_count": 447,
   "metadata": {},
   "outputs": [],
   "source": [
    "wflows, parts = [block.split('\\n') for block in blocks]\n",
    "wflows = [wflow.split('{') for wflow in wflows]\n",
    "wflows = [(wflow[0], wflow[1][:-1].split(',')) for wflow in wflows]\n",
    "wflows = [ (label, [tuple(step.split(':') if ':' in step else ['True', step]) for step in flow]) for label, flow in wflows]\n",
    "parts = parts[:-1]\n",
    "parts = [part[1:-1].split(',') for part in parts]\n",
    "parts = [[x.split('=') for x in part] for part in parts]\n",
    "parts = [{x[0]: int(x[1]) for x in part} for part in parts]"
   ]
  },
  {
   "attachments": {},
   "cell_type": "markdown",
   "metadata": {},
   "source": [
    "#Part 1"
   ]
  },
  {
   "cell_type": "code",
   "execution_count": 449,
   "metadata": {},
   "outputs": [],
   "source": [
    "def wflowFactory(wflow):\n",
    "    def f(part):\n",
    "        x = part['x']\n",
    "        m = part['m']\n",
    "        a = part['a']\n",
    "        s = part['s']\n",
    "        for step in wflow[1]:\n",
    "            if eval(step[0].replace('x', 'int(x)').replace('m', 'int(m)').replace('a', 'int(a)').replace('s', 'int(s)')):\n",
    "                if step[1] == 'A':\n",
    "                    return True\n",
    "                if step[1] == 'R':\n",
    "                    return False\n",
    "                return (workflows[step[1]](part))\n",
    "    return f"
   ]
  },
  {
   "cell_type": "code",
   "execution_count": 450,
   "metadata": {},
   "outputs": [],
   "source": [
    "workflows = dict()\n",
    "for wflow in wflows:\n",
    "    workflows[wflow[0]] = wflowFactory(wflow)"
   ]
  },
  {
   "cell_type": "code",
   "execution_count": 451,
   "metadata": {},
   "outputs": [],
   "source": [
    "def is_accepted(part):\n",
    "    return workflows['in'](part)"
   ]
  },
  {
   "cell_type": "code",
   "execution_count": 452,
   "metadata": {},
   "outputs": [],
   "source": [
    "part1 = 0\n",
    "for part in parts:\n",
    "    if is_accepted(part):\n",
    "        for k in part:\n",
    "            part1 += part[k]"
   ]
  },
  {
   "cell_type": "code",
   "execution_count": 453,
   "metadata": {},
   "outputs": [
    {
     "data": {
      "text/plain": [
       "432427"
      ]
     },
     "execution_count": 453,
     "metadata": {},
     "output_type": "execute_result"
    }
   ],
   "source": [
    "part1"
   ]
  },
  {
   "attachments": {},
   "cell_type": "markdown",
   "metadata": {},
   "source": [
    "# Part 2"
   ]
  },
  {
   "cell_type": "code",
   "execution_count": null,
   "metadata": {},
   "outputs": [],
   "source": [
    "from collections import defaultdict"
   ]
  },
  {
   "cell_type": "code",
   "execution_count": null,
   "metadata": {},
   "outputs": [],
   "source": [
    "def constant_factory(value):\n",
    "    return lambda: set({1,4000})\n",
    "\n",
    "bounds = defaultdict(constant_factory('<missing>'))\n",
    "for flow in wflows:\n",
    "    for rule in flow[1]:\n",
    "        if rule[0] != 'True':\n",
    "            rule = rule[0].replace('<',':').replace('>',':')\n",
    "            label, bound = rule.split(':')\n",
    "            bound = int(bound)\n",
    "            bounds[label].add(bound-1)\n",
    "            bounds[label].add(bound)\n",
    "            bounds[label].add(bound+1)\n",
    "        "
   ]
  },
  {
   "cell_type": "code",
   "execution_count": null,
   "metadata": {},
   "outputs": [],
   "source": [
    "sorted_bounds = {}\n",
    "for k in bounds:\n",
    "    sorted_bounds[k] = sorted(list(bounds[k]))\n"
   ]
  },
  {
   "cell_type": "code",
   "execution_count": null,
   "metadata": {},
   "outputs": [],
   "source": [
    "weigthed_bounds = {}\n",
    "for k in bounds:\n",
    "    weigthed_bounds[k] = [(sorted_bounds[k][ix], sorted_bounds[k][ix+1]-sorted_bounds[k][ix]) for ix, _ in enumerate(sorted_bounds[k][:-1])]"
   ]
  },
  {
   "cell_type": "code",
   "execution_count": null,
   "metadata": {},
   "outputs": [],
   "source": [
    "for r in \"xmas\":\n",
    "    weigthed_bounds[r].append((4000, 1))\n",
    "weigthed_bounds"
   ]
  },
  {
   "cell_type": "code",
   "execution_count": null,
   "metadata": {},
   "outputs": [],
   "source": [
    "part2 = 0\n",
    "for x_bound, x_weight in weigthed_bounds['x']:\n",
    "    for m_bound, m_weight in weigthed_bounds['m']:\n",
    "        for a_bound, a_weight in weigthed_bounds['a']:\n",
    "            for s_bound, s_weight in weigthed_bounds['s']:\n",
    "                part = {'x':x_bound,'m':m_bound,'a':a_bound,'s':s_bound}\n",
    "                weight = x_weight*m_weight*a_weight*s_weight\n",
    "                if is_accepted(part):\n",
    "                    part2 += weight\n",
    "\n",
    "#does not scale on input.txt"
   ]
  },
  {
   "cell_type": "code",
   "execution_count": null,
   "metadata": {},
   "outputs": [],
   "source": [
    "part2"
   ]
  },
  {
   "attachments": {},
   "cell_type": "markdown",
   "metadata": {},
   "source": [
    "# Part 2 - alternative"
   ]
  },
  {
   "cell_type": "code",
   "execution_count": 454,
   "metadata": {},
   "outputs": [],
   "source": [
    "all_parts = {'x': [1,4000], 'm': [1,4000], 'a': [1,4000], 's': [1,4000]}"
   ]
  },
  {
   "cell_type": "code",
   "execution_count": 456,
   "metadata": {},
   "outputs": [],
   "source": [
    "from functools import reduce\n"
   ]
  },
  {
   "cell_type": "code",
   "execution_count": 457,
   "metadata": {},
   "outputs": [],
   "source": [
    "def cut_itv(itv, sign, bound):\n",
    "    \"\"\"\n",
    "    itv should be [10,678] like\n",
    "    rule should be x>400 like\n",
    "    \"\"\"\n",
    "\n",
    "    if '<':\n",
    "        accepted_itv = [itv[0],min(bound-1,itv[1])]\n",
    "        to_process_itv = [max(bound, itv[0]), itv[1]]\n",
    "    if sign == '>':\n",
    "        accepted_itv = [max(bound+1,itv[0]), itv[1]]\n",
    "        to_process_itv = [itv[0],min(bound, itv[1])]\n",
    "\n",
    "    if accepted_itv[1] < accepted_itv[0]:\n",
    "        accepted_itv = []\n",
    "    if itv[1] < itv[0]:\n",
    "        to_process_itv = []\n",
    "    \n",
    "    return accepted_itv, to_process_itv"
   ]
  },
  {
   "cell_type": "code",
   "execution_count": 459,
   "metadata": {},
   "outputs": [],
   "source": [
    "def cardinality(part_itvs):\n",
    "    if any(part_itvs[k] == [] for k in part_itvs):\n",
    "        return 0\n",
    "    return reduce(lambda a,b:a*b, [1+part_itvs[k][1]-part_itvs[k][0] for k in part_itvs])"
   ]
  },
  {
   "cell_type": "code",
   "execution_count": 461,
   "metadata": {},
   "outputs": [],
   "source": [
    "def wflowItvFactory(wflow):\n",
    "    def f(part_itvs):\n",
    "        to_process_itvs = dict(part_itvs)\n",
    "        accepted_itvs = dict(part_itvs)\n",
    "\n",
    "        res = 0\n",
    "        for step in wflow[1]:\n",
    "            accepted_itvs = dict(to_process_itvs)\n",
    "            if '<' in step[0] or '>' in step[0]:\n",
    "                if '<' in step[0]:\n",
    "                    sym, bound = step[0].split('<')\n",
    "                    accepted, to_process = cut_itv(to_process_itvs[sym], '<', int(bound))\n",
    "                if '>' in step[0]:\n",
    "                    sym, bound = step[0].split('>')\n",
    "                    accepted, to_process = cut_itv(to_process_itvs[sym], '>', int(bound))\n",
    "\n",
    "                to_process_itvs[sym] = to_process\n",
    "                accepted_itvs[sym] = accepted\n",
    "            \n",
    "            if step[0] == 'True':\n",
    "                to_process_itvs = {'x':[], 'm':[], 'a':[], 's':[]}\n",
    "            \n",
    "\n",
    "\n",
    "            if step[1] == 'R':\n",
    "                res += 0\n",
    "            elif step[1] == 'A':\n",
    "                res += cardinality (accepted_itvs)\n",
    "            else:\n",
    "                res += workflow_itvs[step[1]](accepted_itvs)\n",
    "\n",
    "            if any(to_process_itvs[k] == [] for k in to_process_itvs):\n",
    "                break\n",
    "\n",
    "        return res\n",
    "    return f"
   ]
  },
  {
   "cell_type": "code",
   "execution_count": 462,
   "metadata": {},
   "outputs": [],
   "source": [
    "workflow_itvs = dict()\n",
    "for wflow in wflows:\n",
    "    workflow_itvs[wflow[0]] = wflowItvFactory(wflow)"
   ]
  },
  {
   "cell_type": "code",
   "execution_count": 464,
   "metadata": {},
   "outputs": [
    {
     "data": {
      "text/plain": [
       "143760172569135"
      ]
     },
     "execution_count": 464,
     "metadata": {},
     "output_type": "execute_result"
    }
   ],
   "source": [
    "part2 = workflow_itvs['in'](all_parts)\n",
    "part2"
   ]
  }
 ],
 "metadata": {
  "kernelspec": {
   "display_name": "Python 3",
   "language": "python",
   "name": "python3"
  },
  "language_info": {
   "codemirror_mode": {
    "name": "ipython",
    "version": 3
   },
   "file_extension": ".py",
   "mimetype": "text/x-python",
   "name": "python",
   "nbconvert_exporter": "python",
   "pygments_lexer": "ipython3",
   "version": "3.11.1"
  },
  "orig_nbformat": 4,
  "vscode": {
   "interpreter": {
    "hash": "1a1af0ee75eeea9e2e1ee996c87e7a2b11a0bebd85af04bb136d915cefc0abce"
   }
  }
 },
 "nbformat": 4,
 "nbformat_minor": 2
}
