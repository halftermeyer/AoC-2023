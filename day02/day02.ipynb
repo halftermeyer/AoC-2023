{
 "cells": [
  {
   "attachments": {},
   "cell_type": "markdown",
   "metadata": {},
   "source": [
    "# AoC 2023 DAY 2\n",
    "\n",
    "## Python"
   ]
  },
  {
   "cell_type": "code",
   "execution_count": null,
   "metadata": {},
   "outputs": [],
   "source": [
    "from collections import defaultdict\n",
    "file = open('input_test.txt', 'r')\n",
    "\n",
    "def draw_to_dict(draw):\n",
    "    draw_dict = defaultdict(int)\n",
    "    for num, color in draw:\n",
    "        draw_dict[color.strip()]=int(num)\n",
    "    return draw_dict\n",
    "\n",
    "games = {}\n",
    "for line in file:\n",
    "    game, sets = line.split(\": \")\n",
    "    game = int(game.split(\" \")[1])\n",
    "    sets = [s.split(', ') for s in sets.split(\"; \")]\n",
    "    sets = [draw_to_dict([tuple(d.split(\" \")) for d in s]) for s in sets]\n",
    "    games[game]=sets\n",
    "    \n",
    "bag = {\"red\":12, \"green\":13, \"blue\":14}"
   ]
  },
  {
   "cell_type": "code",
   "execution_count": null,
   "metadata": {},
   "outputs": [],
   "source": [
    "valid_games_sum = 0\n",
    "for game in games:\n",
    "    valid = True\n",
    "    for g_set in games[game]:\n",
    "        for color in bag:\n",
    "            if bag[color] < g_set[color]:\n",
    "                valid = False\n",
    "                break\n",
    "    if valid:\n",
    "        valid_games_sum += game\n",
    "\n",
    "{\"part_1\": valid_games_sum}"
   ]
  },
  {
   "cell_type": "code",
   "execution_count": null,
   "metadata": {},
   "outputs": [],
   "source": [
    "power_sum = 0\n",
    "for game in games:\n",
    "    mincubes =defaultdict(int)\n",
    "    for g_set in games[game]:\n",
    "        for color in g_set:\n",
    "            mincubes[color] = max(g_set[color], mincubes[color])\n",
    "    power_sum += mincubes[\"red\"]*mincubes[\"green\"]*mincubes[\"blue\"]\n",
    "\n",
    "{\"part_2\": power_sum}"
   ]
  },
  {
   "attachments": {},
   "cell_type": "markdown",
   "metadata": {},
   "source": [
    "## Cypher and python\n",
    "using `graphdatascience` python client for neo4J"
   ]
  },
  {
   "cell_type": "code",
   "execution_count": null,
   "metadata": {},
   "outputs": [],
   "source": [
    "from graphdatascience import GraphDataScience"
   ]
  },
  {
   "cell_type": "code",
   "execution_count": null,
   "metadata": {},
   "outputs": [],
   "source": [
    "gds = GraphDataScience(NEO4J_URI, auth=(NEO4J_USER, NEO4J_PASSWORD))\n",
    "\n",
    "# Check the installed GDS version on the server\n",
    "print(gds.version())\n",
    "assert gds.version()"
   ]
  },
  {
   "cell_type": "code",
   "execution_count": null,
   "metadata": {},
   "outputs": [],
   "source": [
    "for game in games:\n",
    "    for draw, g_set in enumerate(games[game]):\n",
    "        for color in g_set:\n",
    "            query =\"\"\"\n",
    "MERGE (g:Game {{id:{game}}})\n",
    "MERGE (d:Draw {{game:{game}, draw:{draw}}})\n",
    "MERGE (c:Color {{color:'{color}'}})\n",
    "MERGE (g)-[:HAS_DRAW]->(d)\n",
    "MERGE (d)-[:HAS_CUBES_OF_COLOR {{num:{num}}}]->(c);\n",
    "            \"\"\".format(\n",
    "                game=game,\n",
    "                draw=draw,\n",
    "                color=color,\n",
    "                num=g_set[color])\n",
    "            gds.run_cypher(query)"
   ]
  },
  {
   "cell_type": "code",
   "execution_count": null,
   "metadata": {},
   "outputs": [],
   "source": [
    "for color in bag:\n",
    "    gds.run_cypher(\n",
    "        \"\"\"\n",
    "    MERGE (b:Bag)\n",
    "    WITH b\n",
    "    MATCH (c:Color {{color:'{color}'}})\n",
    "    MERGE (b)-[:HAS_CUBES {{num:{num}}}]->(c);\n",
    "        \"\"\".format(color=color, num=bag[color])\n",
    "    )"
   ]
  },
  {
   "cell_type": "code",
   "execution_count": null,
   "metadata": {},
   "outputs": [],
   "source": [
    "gds.run_cypher(\n",
    "        \"\"\"\n",
    "MATCH (g:Game)\n",
    "WHERE NOT EXISTS {\n",
    "    (g)-->(d:Draw)-[hcc]->(:Color)<-[hc WHERE hc.num<hcc.num]-(:Bag)\n",
    "}\n",
    "RETURN sum(g.id) AS part1\n",
    "        \"\"\"\n",
    "    )"
   ]
  },
  {
   "cell_type": "code",
   "execution_count": null,
   "metadata": {},
   "outputs": [],
   "source": [
    "gds.run_cypher(\n",
    "        \"\"\"\n",
    "MATCH (g:Game)-->(d:Draw)-[r:HAS_CUBES_OF_COLOR]->(c)\n",
    "WITH g, c, max(r.num) AS max_by_color\n",
    "WITH g, collect(max_by_color) AS maxs_by_color\n",
    "WITH g, reduce(acc = 1, mbc IN  maxs_by_color| acc * mbc) AS prod_maxs\n",
    "RETURN sum(prod_maxs) AS part2\n",
    "        \"\"\"\n",
    "    )"
   ]
  },
  {
   "cell_type": "code",
   "execution_count": null,
   "metadata": {},
   "outputs": [],
   "source": []
  }
 ],
 "metadata": {
  "kernelspec": {
   "display_name": "Python 3",
   "language": "python",
   "name": "python3"
  },
  "language_info": {
   "codemirror_mode": {
    "name": "ipython",
    "version": 3
   },
   "file_extension": ".py",
   "mimetype": "text/x-python",
   "name": "python",
   "nbconvert_exporter": "python",
   "pygments_lexer": "ipython3",
   "version": "3.11.1"
  },
  "orig_nbformat": 4,
  "vscode": {
   "interpreter": {
    "hash": "1a1af0ee75eeea9e2e1ee996c87e7a2b11a0bebd85af04bb136d915cefc0abce"
   }
  }
 },
 "nbformat": 4,
 "nbformat_minor": 2
}
