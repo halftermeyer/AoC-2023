{
 "cells": [
  {
   "cell_type": "code",
   "execution_count": null,
   "metadata": {},
   "outputs": [],
   "source": [
    "from collections import defaultdict\n",
    "file = open('input.txt', 'r')\n",
    "\n",
    "def draw_to_dict(draw):\n",
    "    draw_dict = defaultdict(int)\n",
    "    for num, color in draw:\n",
    "        draw_dict[color.strip()]=int(num)\n",
    "    return draw_dict\n",
    "\n",
    "games = {}\n",
    "for line in file:\n",
    "    game, sets = line.split(\": \")\n",
    "    game = int(game.split(\" \")[1])\n",
    "    sets = [s.split(', ') for s in sets.split(\"; \")]\n",
    "    sets = [draw_to_dict([tuple(d.split(\" \")) for d in s]) for s in sets]\n",
    "    games[game]=sets\n",
    "    \n",
    "bag = {\"red\":12, \"green\":13, \"blue\":14}\n",
    "print (bag)\n",
    "print(games)"
   ]
  },
  {
   "cell_type": "code",
   "execution_count": null,
   "metadata": {},
   "outputs": [],
   "source": [
    "valid_games_sum = 0\n",
    "for game in games:\n",
    "    valid = True\n",
    "    for g_set in games[game]:\n",
    "        for color in bag:\n",
    "            if bag[color] < g_set[color]:\n",
    "                valid = False\n",
    "                break\n",
    "    if valid:\n",
    "        valid_games_sum += game\n",
    "\n",
    "{\"part_1\": valid_games_sum}"
   ]
  },
  {
   "cell_type": "code",
   "execution_count": null,
   "metadata": {},
   "outputs": [],
   "source": [
    "power_sum = 0\n",
    "for game in games:\n",
    "    mincubes =defaultdict(int)\n",
    "    for g_set in games[game]:\n",
    "        for color in g_set:\n",
    "            mincubes[color] = max(g_set[color], mincubes[color])\n",
    "    power_sum += mincubes[\"red\"]*mincubes[\"green\"]*mincubes[\"blue\"]\n",
    "\n",
    "{\"part_2\": power_sum}"
   ]
  }
 ],
 "metadata": {
  "kernelspec": {
   "display_name": "Python 3",
   "language": "python",
   "name": "python3"
  },
  "language_info": {
   "codemirror_mode": {
    "name": "ipython",
    "version": 3
   },
   "file_extension": ".py",
   "mimetype": "text/x-python",
   "name": "python",
   "nbconvert_exporter": "python",
   "pygments_lexer": "ipython3",
   "version": "3.11.1"
  },
  "orig_nbformat": 4,
  "vscode": {
   "interpreter": {
    "hash": "1a1af0ee75eeea9e2e1ee996c87e7a2b11a0bebd85af04bb136d915cefc0abce"
   }
  }
 },
 "nbformat": 4,
 "nbformat_minor": 2
}
