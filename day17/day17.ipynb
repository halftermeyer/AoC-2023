{
 "cells": [
  {
   "cell_type": "code",
   "execution_count": 2,
   "metadata": {},
   "outputs": [
    {
     "name": "stdout",
     "output_type": "stream",
     "text": [
      "2.5.5\n"
     ]
    }
   ],
   "source": [
    "from graphdatascience import GraphDataScience\n",
    "gds = GraphDataScience(NEO4J_URI, auth=(NEO4J_USER, NEO4J_PASSWORD))\n",
    "\n",
    "# Check the installed GDS version on the server\n",
    "print(gds.version())\n",
    "assert gds.version()"
   ]
  },
  {
   "cell_type": "code",
   "execution_count": 3,
   "metadata": {},
   "outputs": [],
   "source": [
    "input_file = \"input.txt\""
   ]
  },
  {
   "attachments": {},
   "cell_type": "markdown",
   "metadata": {},
   "source": [
    "# Part 1"
   ]
  },
  {
   "cell_type": "code",
   "execution_count": 4,
   "metadata": {},
   "outputs": [
    {
     "data": {
      "text/html": [
       "<div>\n",
       "<style scoped>\n",
       "    .dataframe tbody tr th:only-of-type {\n",
       "        vertical-align: middle;\n",
       "    }\n",
       "\n",
       "    .dataframe tbody tr th {\n",
       "        vertical-align: top;\n",
       "    }\n",
       "\n",
       "    .dataframe thead th {\n",
       "        text-align: right;\n",
       "    }\n",
       "</style>\n",
       "<table border=\"1\" class=\"dataframe\">\n",
       "  <thead>\n",
       "    <tr style=\"text-align: right;\">\n",
       "      <th></th>\n",
       "    </tr>\n",
       "  </thead>\n",
       "  <tbody>\n",
       "  </tbody>\n",
       "</table>\n",
       "</div>"
      ],
      "text/plain": [
       "Empty DataFrame\n",
       "Columns: []\n",
       "Index: []"
      ]
     },
     "execution_count": 4,
     "metadata": {},
     "output_type": "execute_result"
    }
   ],
   "source": [
    "gds.run_cypher(\"\"\"CREATE INDEX point_row_col IF NOT EXISTS\n",
    "FOR (p:Point) ON (p.row, p.col)\"\"\")\n",
    "\n",
    "gds.run_cypher(\"\"\"CREATE INDEX port_row_col_speed_ori IF NOT EXISTS\n",
    "FOR (p:Point) ON (p.row, p.col, p.speed, p.orientation)\"\"\")"
   ]
  },
  {
   "cell_type": "code",
   "execution_count": 6,
   "metadata": {},
   "outputs": [
    {
     "data": {
      "text/html": [
       "<div>\n",
       "<style scoped>\n",
       "    .dataframe tbody tr th:only-of-type {\n",
       "        vertical-align: middle;\n",
       "    }\n",
       "\n",
       "    .dataframe tbody tr th {\n",
       "        vertical-align: top;\n",
       "    }\n",
       "\n",
       "    .dataframe thead th {\n",
       "        text-align: right;\n",
       "    }\n",
       "</style>\n",
       "<table border=\"1\" class=\"dataframe\">\n",
       "  <thead>\n",
       "    <tr style=\"text-align: right;\">\n",
       "      <th></th>\n",
       "    </tr>\n",
       "  </thead>\n",
       "  <tbody>\n",
       "  </tbody>\n",
       "</table>\n",
       "</div>"
      ],
      "text/plain": [
       "Empty DataFrame\n",
       "Columns: []\n",
       "Index: []"
      ]
     },
     "execution_count": 6,
     "metadata": {},
     "output_type": "execute_result"
    }
   ],
   "source": [
    "lines = [{'ix':i, 'line':l[:-1]} for i, l in enumerate(open(input_file, 'r').readlines(), 1)]\n",
    "\n",
    "gds.run_cypher(\"\"\"\n",
    "UNWIND $lines AS line\n",
    "WITH line.ix AS ix, line.line AS line\n",
    "CALL {\n",
    "WITH ix, line\n",
    "WITH ix, split(line,'') AS line\n",
    "WITH [col IN range(0,size(line)-1) | {row:ix, col:col+1, heat_loss:toInteger(line[col])}] AS line\n",
    "UNWIND line AS point\n",
    "CREATE (p:Point:Block) SET p = point\n",
    "} IN TRANSACTIONS OF 10000 ROWS\n",
    "\"\"\", {'lines':lines})"
   ]
  },
  {
   "cell_type": "code",
   "execution_count": 7,
   "metadata": {},
   "outputs": [
    {
     "data": {
      "text/html": [
       "<div>\n",
       "<style scoped>\n",
       "    .dataframe tbody tr th:only-of-type {\n",
       "        vertical-align: middle;\n",
       "    }\n",
       "\n",
       "    .dataframe tbody tr th {\n",
       "        vertical-align: top;\n",
       "    }\n",
       "\n",
       "    .dataframe thead th {\n",
       "        text-align: right;\n",
       "    }\n",
       "</style>\n",
       "<table border=\"1\" class=\"dataframe\">\n",
       "  <thead>\n",
       "    <tr style=\"text-align: right;\">\n",
       "      <th></th>\n",
       "    </tr>\n",
       "  </thead>\n",
       "  <tbody>\n",
       "  </tbody>\n",
       "</table>\n",
       "</div>"
      ],
      "text/plain": [
       "Empty DataFrame\n",
       "Columns: []\n",
       "Index: []"
      ]
     },
     "execution_count": 7,
     "metadata": {},
     "output_type": "execute_result"
    }
   ],
   "source": [
    "gds.run_cypher(\"\"\"\n",
    "MATCH (n:Block)\n",
    "CALL {\n",
    "WITH n\n",
    "UNWIND ['N','S','E','W'] AS dir\n",
    "UNWIND ['+','-'] AS orientation\n",
    "UNWIND range(0,3) AS speed\n",
    "MERGE (p:Point:Port {row:{N:-0.5, S:0.5, E:0, W:0}[dir] + n.row,\n",
    "    col:{W:-0.5, E:0.5, S:0, N:0}[dir] + n.col,\n",
    "    speed:speed,\n",
    "    orientation: orientation})\n",
    "MERGE (n)-[:HAS_PORT {dir:dir}]->(p)\n",
    "} IN TRANSACTIONS OF 1000 ROWS\n",
    "\"\"\")"
   ]
  },
  {
   "cell_type": "code",
   "execution_count": 8,
   "metadata": {},
   "outputs": [
    {
     "data": {
      "text/html": [
       "<div>\n",
       "<style scoped>\n",
       "    .dataframe tbody tr th:only-of-type {\n",
       "        vertical-align: middle;\n",
       "    }\n",
       "\n",
       "    .dataframe tbody tr th {\n",
       "        vertical-align: top;\n",
       "    }\n",
       "\n",
       "    .dataframe thead th {\n",
       "        text-align: right;\n",
       "    }\n",
       "</style>\n",
       "<table border=\"1\" class=\"dataframe\">\n",
       "  <thead>\n",
       "    <tr style=\"text-align: right;\">\n",
       "      <th></th>\n",
       "    </tr>\n",
       "  </thead>\n",
       "  <tbody>\n",
       "  </tbody>\n",
       "</table>\n",
       "</div>"
      ],
      "text/plain": [
       "Empty DataFrame\n",
       "Columns: []\n",
       "Index: []"
      ]
     },
     "execution_count": 8,
     "metadata": {},
     "output_type": "execute_result"
    }
   ],
   "source": [
    "gds.run_cypher(\"\"\"\n",
    "MATCH (p1)-[r1:HAS_PORT WHERE r1.dir in ['N','W']]–(b:Block)\n",
    "    -[r2 WHERE r2.dir = {N:'S',W:'E'}[r1.dir]]->(p2)\n",
    "WHERE p1.speed IN [0,1,2] AND p1.orientation = '+'\n",
    "AND p2.speed = p1.speed + 1 AND p2.orientation = '+'\n",
    "CALL {\n",
    "WITH p1, p2, b\n",
    "MERGE (p1)-[:STEP {heat_loss:b.heat_loss}]->(p2)\n",
    "} IN TRANSACTIONS OF 1000 ROWS;\n",
    "\"\"\")"
   ]
  },
  {
   "cell_type": "code",
   "execution_count": 9,
   "metadata": {},
   "outputs": [
    {
     "data": {
      "text/html": [
       "<div>\n",
       "<style scoped>\n",
       "    .dataframe tbody tr th:only-of-type {\n",
       "        vertical-align: middle;\n",
       "    }\n",
       "\n",
       "    .dataframe tbody tr th {\n",
       "        vertical-align: top;\n",
       "    }\n",
       "\n",
       "    .dataframe thead th {\n",
       "        text-align: right;\n",
       "    }\n",
       "</style>\n",
       "<table border=\"1\" class=\"dataframe\">\n",
       "  <thead>\n",
       "    <tr style=\"text-align: right;\">\n",
       "      <th></th>\n",
       "    </tr>\n",
       "  </thead>\n",
       "  <tbody>\n",
       "  </tbody>\n",
       "</table>\n",
       "</div>"
      ],
      "text/plain": [
       "Empty DataFrame\n",
       "Columns: []\n",
       "Index: []"
      ]
     },
     "execution_count": 9,
     "metadata": {},
     "output_type": "execute_result"
    }
   ],
   "source": [
    "            \n",
    "gds.run_cypher(\"\"\"\n",
    "MATCH (p1)-[r1:HAS_PORT WHERE r1.dir in ['N','W']]–(b:Block)\n",
    "    -[r2 WHERE r2.dir = {N:'S',W:'E'}[r1.dir]]->(p2)\n",
    "WHERE p2.speed IN [0,1,2] AND p2.orientation = '-'\n",
    "AND p1.speed = p2.speed + 1 AND p1.orientation = '-'\n",
    "CALL {\n",
    "WITH p1, p2, b\n",
    "MERGE (p1)<-[:STEP {heat_loss:b.heat_loss}]-(p2)\n",
    "} IN TRANSACTIONS OF 1000 ROWS;\n",
    "\"\"\")\n"
   ]
  },
  {
   "cell_type": "code",
   "execution_count": 10,
   "metadata": {},
   "outputs": [
    {
     "data": {
      "text/html": [
       "<div>\n",
       "<style scoped>\n",
       "    .dataframe tbody tr th:only-of-type {\n",
       "        vertical-align: middle;\n",
       "    }\n",
       "\n",
       "    .dataframe tbody tr th {\n",
       "        vertical-align: top;\n",
       "    }\n",
       "\n",
       "    .dataframe thead th {\n",
       "        text-align: right;\n",
       "    }\n",
       "</style>\n",
       "<table border=\"1\" class=\"dataframe\">\n",
       "  <thead>\n",
       "    <tr style=\"text-align: right;\">\n",
       "      <th></th>\n",
       "    </tr>\n",
       "  </thead>\n",
       "  <tbody>\n",
       "  </tbody>\n",
       "</table>\n",
       "</div>"
      ],
      "text/plain": [
       "Empty DataFrame\n",
       "Columns: []\n",
       "Index: []"
      ]
     },
     "execution_count": 10,
     "metadata": {},
     "output_type": "execute_result"
    }
   ],
   "source": [
    "               \n",
    "gds.run_cypher(\"\"\"\n",
    "MATCH (p1 WHERE p1.orientation = '+')<-[r1:HAS_PORT WHERE r1.dir in ['N','W']]–(b:Block)\n",
    "    -[r2:HAS_PORT WHERE r2.dir IN {N:['E','W'],W:['N','S']}[r1.dir]]->(p2)\n",
    "WHERE p2.speed = 1 AND p2.orientation = CASE r2.dir IN ['N','W'] WHEN TRUE THEN '-' ELSE '+' END \n",
    "CALL {\n",
    "WITH p1, p2, b\n",
    "MERGE (p1)-[:STEP {heat_loss:b.heat_loss}]->(p2)\n",
    "} IN TRANSACTIONS OF 1000 ROWS;\n",
    "\"\"\")"
   ]
  },
  {
   "cell_type": "code",
   "execution_count": 11,
   "metadata": {},
   "outputs": [
    {
     "data": {
      "text/html": [
       "<div>\n",
       "<style scoped>\n",
       "    .dataframe tbody tr th:only-of-type {\n",
       "        vertical-align: middle;\n",
       "    }\n",
       "\n",
       "    .dataframe tbody tr th {\n",
       "        vertical-align: top;\n",
       "    }\n",
       "\n",
       "    .dataframe thead th {\n",
       "        text-align: right;\n",
       "    }\n",
       "</style>\n",
       "<table border=\"1\" class=\"dataframe\">\n",
       "  <thead>\n",
       "    <tr style=\"text-align: right;\">\n",
       "      <th></th>\n",
       "    </tr>\n",
       "  </thead>\n",
       "  <tbody>\n",
       "  </tbody>\n",
       "</table>\n",
       "</div>"
      ],
      "text/plain": [
       "Empty DataFrame\n",
       "Columns: []\n",
       "Index: []"
      ]
     },
     "execution_count": 11,
     "metadata": {},
     "output_type": "execute_result"
    }
   ],
   "source": [
    "\n",
    "gds.run_cypher(\"\"\"\n",
    "MATCH (p1 WHERE p1.orientation = '-')<-[r1:HAS_PORT WHERE r1.dir in ['S','E']]–(b:Block)\n",
    "    -[r2:HAS_PORT WHERE r2.dir IN {S:['E','W'],E:['N','S']}[r1.dir]]->(p2)\n",
    "WHERE p2.speed = 1 AND p2.orientation = CASE r2.dir IN ['N','W'] WHEN TRUE THEN '-' ELSE '+' END \n",
    "CALL {\n",
    "WITH p1, p2, b\n",
    "MERGE (p1)-[:STEP {heat_loss:b.heat_loss}]->(p2)\n",
    "} IN TRANSACTIONS OF 1000 ROWS;\n",
    "\"\"\")"
   ]
  },
  {
   "cell_type": "code",
   "execution_count": 12,
   "metadata": {},
   "outputs": [
    {
     "data": {
      "text/html": [
       "<div>\n",
       "<style scoped>\n",
       "    .dataframe tbody tr th:only-of-type {\n",
       "        vertical-align: middle;\n",
       "    }\n",
       "\n",
       "    .dataframe tbody tr th {\n",
       "        vertical-align: top;\n",
       "    }\n",
       "\n",
       "    .dataframe thead th {\n",
       "        text-align: right;\n",
       "    }\n",
       "</style>\n",
       "<table border=\"1\" class=\"dataframe\">\n",
       "  <thead>\n",
       "    <tr style=\"text-align: right;\">\n",
       "      <th></th>\n",
       "    </tr>\n",
       "  </thead>\n",
       "  <tbody>\n",
       "  </tbody>\n",
       "</table>\n",
       "</div>"
      ],
      "text/plain": [
       "Empty DataFrame\n",
       "Columns: []\n",
       "Index: []"
      ]
     },
     "execution_count": 12,
     "metadata": {},
     "output_type": "execute_result"
    }
   ],
   "source": [
    "gds.run_cypher(\"\"\"\n",
    "MERGE (start:Point:Start {row:0, col:0})\n",
    "WITH start\n",
    "MATCH (b:Block {row:1, col:1})-[r:HAS_PORT WHERE r.dir IN ['S', 'E']]->(p:Port {speed:1, orientation:'+'})\n",
    "MERGE (start)-[:STEP {heat_loss:0}]->(p);\n",
    "\"\"\")\n",
    "\n",
    "gds.run_cypher(\"\"\"\n",
    "MATCH (any_point:Point:Block)\n",
    "WITH max(any_point.col) AS mxc, max(any_point.row) AS mxr\n",
    "MERGE (last:Point:Last {col: mxc+0.5, row:mxr+0.5})\n",
    "WITH last, mxc, mxr\n",
    "MATCH (bottom_right:Point:Block {col: mxc, row:mxr})-[r:HAS_PORT WHERE r.dir IN ['S', 'E']]->(p:Port)\n",
    "MERGE (p)-[:STEP {heat_loss:0}]->(last);\n",
    "\"\"\")"
   ]
  },
  {
   "cell_type": "code",
   "execution_count": 13,
   "metadata": {},
   "outputs": [
    {
     "data": {
      "text/html": [
       "<div>\n",
       "<style scoped>\n",
       "    .dataframe tbody tr th:only-of-type {\n",
       "        vertical-align: middle;\n",
       "    }\n",
       "\n",
       "    .dataframe tbody tr th {\n",
       "        vertical-align: top;\n",
       "    }\n",
       "\n",
       "    .dataframe thead th {\n",
       "        text-align: right;\n",
       "    }\n",
       "</style>\n",
       "<table border=\"1\" class=\"dataframe\">\n",
       "  <thead>\n",
       "    <tr style=\"text-align: right;\">\n",
       "      <th></th>\n",
       "      <th>graph</th>\n",
       "      <th>nodes</th>\n",
       "      <th>rels</th>\n",
       "    </tr>\n",
       "  </thead>\n",
       "  <tbody>\n",
       "    <tr>\n",
       "      <th>0</th>\n",
       "      <td>map</td>\n",
       "      <td>320354</td>\n",
       "      <td>874782</td>\n",
       "    </tr>\n",
       "  </tbody>\n",
       "</table>\n",
       "</div>"
      ],
      "text/plain": [
       "  graph   nodes    rels\n",
       "0   map  320354  874782"
      ]
     },
     "execution_count": 13,
     "metadata": {},
     "output_type": "execute_result"
    }
   ],
   "source": [
    "gds.run_cypher(\"\"\"\n",
    "MATCH (source:Start|Last|Port)\n",
    "OPTIONAL MATCH (source)-[r:STEP]->(target)\n",
    "WITH gds.graph.project(\n",
    "  'map',\n",
    "  source,\n",
    "  target,\n",
    "  { relationshipProperties: r { .heat_loss } }\n",
    ") AS g\n",
    "RETURN g.graphName AS graph, g.nodeCount AS nodes, g.relationshipCount AS rels\n",
    "\"\"\")"
   ]
  },
  {
   "cell_type": "code",
   "execution_count": 15,
   "metadata": {},
   "outputs": [
    {
     "data": {
      "text/html": [
       "<div>\n",
       "<style scoped>\n",
       "    .dataframe tbody tr th:only-of-type {\n",
       "        vertical-align: middle;\n",
       "    }\n",
       "\n",
       "    .dataframe tbody tr th {\n",
       "        vertical-align: top;\n",
       "    }\n",
       "\n",
       "    .dataframe thead th {\n",
       "        text-align: right;\n",
       "    }\n",
       "</style>\n",
       "<table border=\"1\" class=\"dataframe\">\n",
       "  <thead>\n",
       "    <tr style=\"text-align: right;\">\n",
       "      <th></th>\n",
       "      <th>part1</th>\n",
       "    </tr>\n",
       "  </thead>\n",
       "  <tbody>\n",
       "    <tr>\n",
       "      <th>0</th>\n",
       "      <td>1004</td>\n",
       "    </tr>\n",
       "  </tbody>\n",
       "</table>\n",
       "</div>"
      ],
      "text/plain": [
       "   part1\n",
       "0   1004"
      ]
     },
     "execution_count": 15,
     "metadata": {},
     "output_type": "execute_result"
    }
   ],
   "source": [
    "gds.run_cypher(\"\"\"\n",
    "MATCH (source:Start), (target:Last)\n",
    "CALL gds.shortestPath.dijkstra.stream('map', {\n",
    "    sourceNode: source,\n",
    "    targetNode: target,\n",
    "    relationshipWeightProperty: 'heat_loss'\n",
    "})\n",
    "YIELD totalCost\n",
    "RETURN toInteger(totalCost) AS part1\n",
    "\"\"\")"
   ]
  },
  {
   "attachments": {},
   "cell_type": "markdown",
   "metadata": {},
   "source": [
    "# Part 2"
   ]
  },
  {
   "cell_type": "code",
   "execution_count": 5,
   "metadata": {},
   "outputs": [
    {
     "data": {
      "text/html": [
       "<div>\n",
       "<style scoped>\n",
       "    .dataframe tbody tr th:only-of-type {\n",
       "        vertical-align: middle;\n",
       "    }\n",
       "\n",
       "    .dataframe tbody tr th {\n",
       "        vertical-align: top;\n",
       "    }\n",
       "\n",
       "    .dataframe thead th {\n",
       "        text-align: right;\n",
       "    }\n",
       "</style>\n",
       "<table border=\"1\" class=\"dataframe\">\n",
       "  <thead>\n",
       "    <tr style=\"text-align: right;\">\n",
       "      <th></th>\n",
       "    </tr>\n",
       "  </thead>\n",
       "  <tbody>\n",
       "  </tbody>\n",
       "</table>\n",
       "</div>"
      ],
      "text/plain": [
       "Empty DataFrame\n",
       "Columns: []\n",
       "Index: []"
      ]
     },
     "execution_count": 5,
     "metadata": {},
     "output_type": "execute_result"
    }
   ],
   "source": [
    "lines = [{'ix':i, 'line':l[:-1]} for i, l in enumerate(open(input_file, 'r').readlines(), 1)]\n",
    "\n",
    "gds.run_cypher(\"\"\"\n",
    "UNWIND $lines AS line\n",
    "WITH line.ix AS ix, line.line AS line\n",
    "CALL {\n",
    "WITH ix, line\n",
    "WITH ix, split(line,'') AS line\n",
    "WITH [col IN range(0,size(line)-1) | {row:ix, col:col+1, heat_loss:toInteger(line[col])}] AS line\n",
    "UNWIND line AS point\n",
    "CREATE (p:Point:Block) SET p = point\n",
    "} IN TRANSACTIONS OF 10000 ROWS\n",
    "\"\"\", {'lines':lines})"
   ]
  },
  {
   "cell_type": "code",
   "execution_count": 6,
   "metadata": {},
   "outputs": [
    {
     "data": {
      "text/html": [
       "<div>\n",
       "<style scoped>\n",
       "    .dataframe tbody tr th:only-of-type {\n",
       "        vertical-align: middle;\n",
       "    }\n",
       "\n",
       "    .dataframe tbody tr th {\n",
       "        vertical-align: top;\n",
       "    }\n",
       "\n",
       "    .dataframe thead th {\n",
       "        text-align: right;\n",
       "    }\n",
       "</style>\n",
       "<table border=\"1\" class=\"dataframe\">\n",
       "  <thead>\n",
       "    <tr style=\"text-align: right;\">\n",
       "      <th></th>\n",
       "    </tr>\n",
       "  </thead>\n",
       "  <tbody>\n",
       "  </tbody>\n",
       "</table>\n",
       "</div>"
      ],
      "text/plain": [
       "Empty DataFrame\n",
       "Columns: []\n",
       "Index: []"
      ]
     },
     "execution_count": 6,
     "metadata": {},
     "output_type": "execute_result"
    }
   ],
   "source": [
    "gds.run_cypher(\"\"\"\n",
    "MATCH (n:Block)\n",
    "CALL {\n",
    "WITH n\n",
    "UNWIND ['N','S','E','W'] AS dir\n",
    "UNWIND ['+','-'] AS orientation\n",
    "UNWIND range(0,10) AS speed\n",
    "MERGE (p:Point:Port {row:{N:-0.5, S:0.5, E:0, W:0}[dir] + n.row,\n",
    "    col:{W:-0.5, E:0.5, S:0, N:0}[dir] + n.col,\n",
    "    speed:speed,\n",
    "    orientation: orientation})\n",
    "MERGE (n)-[:HAS_PORT {dir:dir}]->(p)\n",
    "} IN TRANSACTIONS OF 1000 ROWS\n",
    "\"\"\")"
   ]
  },
  {
   "cell_type": "code",
   "execution_count": 7,
   "metadata": {},
   "outputs": [
    {
     "data": {
      "text/html": [
       "<div>\n",
       "<style scoped>\n",
       "    .dataframe tbody tr th:only-of-type {\n",
       "        vertical-align: middle;\n",
       "    }\n",
       "\n",
       "    .dataframe tbody tr th {\n",
       "        vertical-align: top;\n",
       "    }\n",
       "\n",
       "    .dataframe thead th {\n",
       "        text-align: right;\n",
       "    }\n",
       "</style>\n",
       "<table border=\"1\" class=\"dataframe\">\n",
       "  <thead>\n",
       "    <tr style=\"text-align: right;\">\n",
       "      <th></th>\n",
       "    </tr>\n",
       "  </thead>\n",
       "  <tbody>\n",
       "  </tbody>\n",
       "</table>\n",
       "</div>"
      ],
      "text/plain": [
       "Empty DataFrame\n",
       "Columns: []\n",
       "Index: []"
      ]
     },
     "execution_count": 7,
     "metadata": {},
     "output_type": "execute_result"
    }
   ],
   "source": [
    "gds.run_cypher(\"\"\"\n",
    "MATCH (p1)-[r1:HAS_PORT WHERE r1.dir in ['N','W']]–(b:Block)\n",
    "    -[r2 WHERE r2.dir = {N:'S',W:'E'}[r1.dir]]->(p2)\n",
    "WHERE p1.speed IN range(0,9) AND p1.orientation = '+'\n",
    "AND p2.speed = p1.speed + 1 AND p2.orientation = '+'\n",
    "CALL {\n",
    "WITH p1, p2, b\n",
    "MERGE (p1)-[:STEP {heat_loss:b.heat_loss}]->(p2)\n",
    "} IN TRANSACTIONS OF 1000 ROWS;\n",
    "\"\"\")"
   ]
  },
  {
   "cell_type": "code",
   "execution_count": 8,
   "metadata": {},
   "outputs": [
    {
     "data": {
      "text/html": [
       "<div>\n",
       "<style scoped>\n",
       "    .dataframe tbody tr th:only-of-type {\n",
       "        vertical-align: middle;\n",
       "    }\n",
       "\n",
       "    .dataframe tbody tr th {\n",
       "        vertical-align: top;\n",
       "    }\n",
       "\n",
       "    .dataframe thead th {\n",
       "        text-align: right;\n",
       "    }\n",
       "</style>\n",
       "<table border=\"1\" class=\"dataframe\">\n",
       "  <thead>\n",
       "    <tr style=\"text-align: right;\">\n",
       "      <th></th>\n",
       "    </tr>\n",
       "  </thead>\n",
       "  <tbody>\n",
       "  </tbody>\n",
       "</table>\n",
       "</div>"
      ],
      "text/plain": [
       "Empty DataFrame\n",
       "Columns: []\n",
       "Index: []"
      ]
     },
     "execution_count": 8,
     "metadata": {},
     "output_type": "execute_result"
    }
   ],
   "source": [
    "            \n",
    "gds.run_cypher(\"\"\"\n",
    "MATCH (p1)-[r1:HAS_PORT WHERE r1.dir in ['N','W']]–(b:Block)\n",
    "    -[r2 WHERE r2.dir = {N:'S',W:'E'}[r1.dir]]->(p2)\n",
    "WHERE p2.speed IN range(0,9) AND p2.orientation = '-'\n",
    "AND p1.speed = p2.speed + 1 AND p1.orientation = '-'\n",
    "CALL {\n",
    "WITH p1, p2, b\n",
    "MERGE (p1)<-[:STEP {heat_loss:b.heat_loss}]-(p2)\n",
    "} IN TRANSACTIONS OF 1000 ROWS;\n",
    "\"\"\")\n"
   ]
  },
  {
   "cell_type": "code",
   "execution_count": 9,
   "metadata": {},
   "outputs": [
    {
     "data": {
      "text/html": [
       "<div>\n",
       "<style scoped>\n",
       "    .dataframe tbody tr th:only-of-type {\n",
       "        vertical-align: middle;\n",
       "    }\n",
       "\n",
       "    .dataframe tbody tr th {\n",
       "        vertical-align: top;\n",
       "    }\n",
       "\n",
       "    .dataframe thead th {\n",
       "        text-align: right;\n",
       "    }\n",
       "</style>\n",
       "<table border=\"1\" class=\"dataframe\">\n",
       "  <thead>\n",
       "    <tr style=\"text-align: right;\">\n",
       "      <th></th>\n",
       "    </tr>\n",
       "  </thead>\n",
       "  <tbody>\n",
       "  </tbody>\n",
       "</table>\n",
       "</div>"
      ],
      "text/plain": [
       "Empty DataFrame\n",
       "Columns: []\n",
       "Index: []"
      ]
     },
     "execution_count": 9,
     "metadata": {},
     "output_type": "execute_result"
    }
   ],
   "source": [
    "gds.run_cypher(\"\"\"\n",
    "MATCH (p1 WHERE p1.orientation = '+' AND p1.speed >= 4)<-[r1:HAS_PORT WHERE r1.dir in ['N','W']]–(b:Block)\n",
    "    -[r2:HAS_PORT WHERE r2.dir IN {N:['E','W'],W:['N','S']}[r1.dir]]->(p2)\n",
    "WHERE p2.speed = 1 AND p2.orientation = CASE r2.dir IN ['N','W'] WHEN TRUE THEN '-' ELSE '+' END \n",
    "CALL {\n",
    "WITH p1, p2, b\n",
    "MERGE (p1)-[:STEP {heat_loss:b.heat_loss}]->(p2)\n",
    "} IN TRANSACTIONS OF 1000 ROWS;\n",
    "\"\"\")"
   ]
  },
  {
   "cell_type": "code",
   "execution_count": 10,
   "metadata": {},
   "outputs": [
    {
     "data": {
      "text/html": [
       "<div>\n",
       "<style scoped>\n",
       "    .dataframe tbody tr th:only-of-type {\n",
       "        vertical-align: middle;\n",
       "    }\n",
       "\n",
       "    .dataframe tbody tr th {\n",
       "        vertical-align: top;\n",
       "    }\n",
       "\n",
       "    .dataframe thead th {\n",
       "        text-align: right;\n",
       "    }\n",
       "</style>\n",
       "<table border=\"1\" class=\"dataframe\">\n",
       "  <thead>\n",
       "    <tr style=\"text-align: right;\">\n",
       "      <th></th>\n",
       "    </tr>\n",
       "  </thead>\n",
       "  <tbody>\n",
       "  </tbody>\n",
       "</table>\n",
       "</div>"
      ],
      "text/plain": [
       "Empty DataFrame\n",
       "Columns: []\n",
       "Index: []"
      ]
     },
     "execution_count": 10,
     "metadata": {},
     "output_type": "execute_result"
    }
   ],
   "source": [
    "gds.run_cypher(\"\"\"\n",
    "MATCH (p1 WHERE p1.orientation = '-' AND p1.speed >= 4)<-[r1:HAS_PORT WHERE r1.dir in ['S','E']]–(b:Block)\n",
    "    -[r2:HAS_PORT WHERE r2.dir IN {S:['E','W'],E:['N','S']}[r1.dir]]->(p2)\n",
    "WHERE p2.speed = 1 AND p2.orientation = CASE r2.dir IN ['N','W'] WHEN TRUE THEN '-' ELSE '+' END \n",
    "CALL {\n",
    "WITH p1, p2, b\n",
    "MERGE (p1)-[:STEP {heat_loss:b.heat_loss}]->(p2)\n",
    "} IN TRANSACTIONS OF 1000 ROWS;\n",
    "\"\"\")"
   ]
  },
  {
   "cell_type": "code",
   "execution_count": 11,
   "metadata": {},
   "outputs": [
    {
     "data": {
      "text/html": [
       "<div>\n",
       "<style scoped>\n",
       "    .dataframe tbody tr th:only-of-type {\n",
       "        vertical-align: middle;\n",
       "    }\n",
       "\n",
       "    .dataframe tbody tr th {\n",
       "        vertical-align: top;\n",
       "    }\n",
       "\n",
       "    .dataframe thead th {\n",
       "        text-align: right;\n",
       "    }\n",
       "</style>\n",
       "<table border=\"1\" class=\"dataframe\">\n",
       "  <thead>\n",
       "    <tr style=\"text-align: right;\">\n",
       "      <th></th>\n",
       "    </tr>\n",
       "  </thead>\n",
       "  <tbody>\n",
       "  </tbody>\n",
       "</table>\n",
       "</div>"
      ],
      "text/plain": [
       "Empty DataFrame\n",
       "Columns: []\n",
       "Index: []"
      ]
     },
     "execution_count": 11,
     "metadata": {},
     "output_type": "execute_result"
    }
   ],
   "source": [
    "gds.run_cypher(\"\"\"\n",
    "MERGE (start:Point:Start {row:0, col:0})\n",
    "WITH start\n",
    "MATCH (b:Block {row:1, col:1})-[r:HAS_PORT WHERE r.dir IN ['S', 'E']]->(p:Port {speed:1, orientation:'+'})\n",
    "MERGE (start)-[:STEP {heat_loss:0}]->(p);\n",
    "\"\"\")\n",
    "\n",
    "gds.run_cypher(\"\"\"\n",
    "MATCH (any_point:Point:Block)\n",
    "WITH max(any_point.col) AS mxc, max(any_point.row) AS mxr\n",
    "MERGE (last:Point:Last {col: mxc+0.5, row:mxr+0.5})\n",
    "WITH last, mxc, mxr\n",
    "MATCH (bottom_right:Point:Block {col: mxc, row:mxr})-[r:HAS_PORT WHERE r.dir IN ['S', 'E']]->(p:Port WHERE p.speed > 4 )\n",
    "MERGE (p)-[:STEP {heat_loss:0}]->(last);\n",
    "\"\"\")"
   ]
  },
  {
   "cell_type": "code",
   "execution_count": 12,
   "metadata": {},
   "outputs": [
    {
     "data": {
      "text/html": [
       "<div>\n",
       "<style scoped>\n",
       "    .dataframe tbody tr th:only-of-type {\n",
       "        vertical-align: middle;\n",
       "    }\n",
       "\n",
       "    .dataframe tbody tr th {\n",
       "        vertical-align: top;\n",
       "    }\n",
       "\n",
       "    .dataframe thead th {\n",
       "        text-align: right;\n",
       "    }\n",
       "</style>\n",
       "<table border=\"1\" class=\"dataframe\">\n",
       "  <thead>\n",
       "    <tr style=\"text-align: right;\">\n",
       "      <th></th>\n",
       "      <th>graph</th>\n",
       "      <th>nodes</th>\n",
       "      <th>rels</th>\n",
       "    </tr>\n",
       "  </thead>\n",
       "  <tbody>\n",
       "    <tr>\n",
       "      <th>0</th>\n",
       "      <td>map</td>\n",
       "      <td>880970</td>\n",
       "      <td>1908602</td>\n",
       "    </tr>\n",
       "  </tbody>\n",
       "</table>\n",
       "</div>"
      ],
      "text/plain": [
       "  graph   nodes     rels\n",
       "0   map  880970  1908602"
      ]
     },
     "execution_count": 12,
     "metadata": {},
     "output_type": "execute_result"
    }
   ],
   "source": [
    "gds.run_cypher(\"\"\"\n",
    "MATCH (source:Start|Last|Port)\n",
    "OPTIONAL MATCH (source)-[r:STEP]->(target)\n",
    "WITH gds.graph.project(\n",
    "  'map',\n",
    "  source,\n",
    "  target,\n",
    "  { relationshipProperties: r { .heat_loss } }\n",
    ") AS g\n",
    "RETURN g.graphName AS graph, g.nodeCount AS nodes, g.relationshipCount AS rels\n",
    "\"\"\")"
   ]
  },
  {
   "cell_type": "code",
   "execution_count": 13,
   "metadata": {},
   "outputs": [
    {
     "data": {
      "text/html": [
       "<div>\n",
       "<style scoped>\n",
       "    .dataframe tbody tr th:only-of-type {\n",
       "        vertical-align: middle;\n",
       "    }\n",
       "\n",
       "    .dataframe tbody tr th {\n",
       "        vertical-align: top;\n",
       "    }\n",
       "\n",
       "    .dataframe thead th {\n",
       "        text-align: right;\n",
       "    }\n",
       "</style>\n",
       "<table border=\"1\" class=\"dataframe\">\n",
       "  <thead>\n",
       "    <tr style=\"text-align: right;\">\n",
       "      <th></th>\n",
       "      <th>part2</th>\n",
       "    </tr>\n",
       "  </thead>\n",
       "  <tbody>\n",
       "    <tr>\n",
       "      <th>0</th>\n",
       "      <td>1171</td>\n",
       "    </tr>\n",
       "  </tbody>\n",
       "</table>\n",
       "</div>"
      ],
      "text/plain": [
       "   part2\n",
       "0   1171"
      ]
     },
     "execution_count": 13,
     "metadata": {},
     "output_type": "execute_result"
    }
   ],
   "source": [
    "gds.run_cypher(\"\"\"\n",
    "MATCH (source:Start), (target:Last)\n",
    "CALL gds.shortestPath.dijkstra.stream('map', {\n",
    "    sourceNode: source,\n",
    "    targetNode: target,\n",
    "    relationshipWeightProperty: 'heat_loss'\n",
    "})\n",
    "YIELD totalCost\n",
    "RETURN toInteger(totalCost) AS part2\n",
    "\"\"\")"
   ]
  }
 ],
 "metadata": {
  "kernelspec": {
   "display_name": "Python 3",
   "language": "python",
   "name": "python3"
  },
  "language_info": {
   "codemirror_mode": {
    "name": "ipython",
    "version": 3
   },
   "file_extension": ".py",
   "mimetype": "text/x-python",
   "name": "python",
   "nbconvert_exporter": "python",
   "pygments_lexer": "ipython3",
   "version": "3.11.1"
  },
  "orig_nbformat": 4,
  "vscode": {
   "interpreter": {
    "hash": "1a1af0ee75eeea9e2e1ee996c87e7a2b11a0bebd85af04bb136d915cefc0abce"
   }
  }
 },
 "nbformat": 4,
 "nbformat_minor": 2
}
